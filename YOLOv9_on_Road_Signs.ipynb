{
  "nbformat": 4,
  "nbformat_minor": 0,
  "metadata": {
    "colab": {
      "provenance": [],
      "gpuType": "T4"
    },
    "kernelspec": {
      "name": "python3",
      "display_name": "Python 3"
    },
    "language_info": {
      "name": "python"
    },
    "accelerator": "GPU"
  },
  "cells": [
    {
      "cell_type": "code",
      "execution_count": 1,
      "metadata": {
        "colab": {
          "base_uri": "https://localhost:8080/"
        },
        "id": "fc3x88v_bYee",
        "outputId": "4f4fd855-adc5-43e2-c9eb-a25585f7dbbc"
      },
      "outputs": [
        {
          "output_type": "stream",
          "name": "stdout",
          "text": [
            "\u001b[2K     \u001b[90m━━━━━━━━━━━━━━━━━━━━━━━━━━━━━━━━━━━━━━━━\u001b[0m \u001b[32m41.9/41.9 kB\u001b[0m \u001b[31m2.4 MB/s\u001b[0m eta \u001b[36m0:00:00\u001b[0m\n",
            "\u001b[2K   \u001b[90m━━━━━━━━━━━━━━━━━━━━━━━━━━━━━━━━━━━━━━━━\u001b[0m \u001b[32m871.6/871.6 kB\u001b[0m \u001b[31m24.3 MB/s\u001b[0m eta \u001b[36m0:00:00\u001b[0m\n",
            "\u001b[?25h"
          ]
        }
      ],
      "source": [
        "!pip install ultralytics -q"
      ]
    },
    {
      "cell_type": "code",
      "source": [
        "from ultralytics import YOLO"
      ],
      "metadata": {
        "id": "zEBIA-Flbm0s"
      },
      "execution_count": 2,
      "outputs": []
    },
    {
      "cell_type": "code",
      "source": [
        "model = YOLO('yolov9t.pt')"
      ],
      "metadata": {
        "id": "I2cLrP_-cANq",
        "colab": {
          "base_uri": "https://localhost:8080/"
        },
        "outputId": "71c1fe0b-d206-48af-a931-1a230a494526"
      },
      "execution_count": 3,
      "outputs": [
        {
          "output_type": "stream",
          "name": "stdout",
          "text": [
            "Downloading https://github.com/ultralytics/assets/releases/download/v8.2.0/yolov9t.pt to 'yolov9t.pt'...\n"
          ]
        },
        {
          "output_type": "stream",
          "name": "stderr",
          "text": [
            "100%|██████████| 4.74M/4.74M [00:00<00:00, 90.0MB/s]\n"
          ]
        }
      ]
    },
    {
      "cell_type": "code",
      "source": [
        "!unzip /content/road_sign_data.zip -d /content/road_sign_data"
      ],
      "metadata": {
        "colab": {
          "base_uri": "https://localhost:8080/"
        },
        "id": "lVQkxDBneVKc",
        "outputId": "10f65c5b-d4e6-4409-a229-792446c0b4aa"
      },
      "execution_count": 4,
      "outputs": [
        {
          "output_type": "stream",
          "name": "stdout",
          "text": [
            "Archive:  /content/road_sign_data.zip\n",
            "  inflating: /content/road_sign_data/kaggle/working/data.yaml  \n",
            "   creating: /content/road_sign_data/kaggle/working/roadsigndetection/\n",
            "   creating: /content/road_sign_data/kaggle/working/roadsigndetection/valid/\n",
            "   creating: /content/road_sign_data/kaggle/working/roadsigndetection/valid/labels/\n",
            "  inflating: /content/road_sign_data/kaggle/working/roadsigndetection/valid/labels/road51.txt  \n",
            "  inflating: /content/road_sign_data/kaggle/working/roadsigndetection/valid/labels/road91.txt  \n",
            "  inflating: /content/road_sign_data/kaggle/working/roadsigndetection/valid/labels/road233.txt  \n",
            "  inflating: /content/road_sign_data/kaggle/working/roadsigndetection/valid/labels/road16.txt  \n",
            "  inflating: /content/road_sign_data/kaggle/working/roadsigndetection/valid/labels/road630.txt  \n",
            "  inflating: /content/road_sign_data/kaggle/working/roadsigndetection/valid/labels/road292.txt  \n",
            "  inflating: /content/road_sign_data/kaggle/working/roadsigndetection/valid/labels/road762.txt  \n",
            "  inflating: /content/road_sign_data/kaggle/working/roadsigndetection/valid/labels/road659.txt  \n",
            "  inflating: /content/road_sign_data/kaggle/working/roadsigndetection/valid/labels/road115.txt  \n",
            "  inflating: /content/road_sign_data/kaggle/working/roadsigndetection/valid/labels/road54.txt  \n",
            "  inflating: /content/road_sign_data/kaggle/working/roadsigndetection/valid/labels/road70.txt  \n",
            "  inflating: /content/road_sign_data/kaggle/working/roadsigndetection/valid/labels/road169.txt  \n",
            "  inflating: /content/road_sign_data/kaggle/working/roadsigndetection/valid/labels/road663.txt  \n",
            "  inflating: /content/road_sign_data/kaggle/working/roadsigndetection/valid/labels/road186.txt  \n",
            "  inflating: /content/road_sign_data/kaggle/working/roadsigndetection/valid/labels/road525.txt  \n",
            "  inflating: /content/road_sign_data/kaggle/working/roadsigndetection/valid/labels/road731.txt  \n",
            "  inflating: /content/road_sign_data/kaggle/working/roadsigndetection/valid/labels/road309.txt  \n",
            "  inflating: /content/road_sign_data/kaggle/working/roadsigndetection/valid/labels/road712.txt  \n",
            "  inflating: /content/road_sign_data/kaggle/working/roadsigndetection/valid/labels/road415.txt  \n",
            "  inflating: /content/road_sign_data/kaggle/working/roadsigndetection/valid/labels/road777.txt  \n",
            "  inflating: /content/road_sign_data/kaggle/working/roadsigndetection/valid/labels/road787.txt  \n",
            "  inflating: /content/road_sign_data/kaggle/working/roadsigndetection/valid/labels/road567.txt  \n",
            "  inflating: /content/road_sign_data/kaggle/working/roadsigndetection/valid/labels/road601.txt  \n",
            "  inflating: /content/road_sign_data/kaggle/working/roadsigndetection/valid/labels/road593.txt  \n",
            "  inflating: /content/road_sign_data/kaggle/working/roadsigndetection/valid/labels/road344.txt  \n",
            "  inflating: /content/road_sign_data/kaggle/working/roadsigndetection/valid/labels/road378.txt  \n",
            "  inflating: /content/road_sign_data/kaggle/working/roadsigndetection/valid/labels/road248.txt  \n",
            "  inflating: /content/road_sign_data/kaggle/working/roadsigndetection/valid/labels/road198.txt  \n",
            "  inflating: /content/road_sign_data/kaggle/working/roadsigndetection/valid/labels/road381.txt  \n",
            "  inflating: /content/road_sign_data/kaggle/working/roadsigndetection/valid/labels/road688.txt  \n",
            "  inflating: /content/road_sign_data/kaggle/working/roadsigndetection/valid/labels/road657.txt  \n",
            "  inflating: /content/road_sign_data/kaggle/working/roadsigndetection/valid/labels/road749.txt  \n",
            "  inflating: /content/road_sign_data/kaggle/working/roadsigndetection/valid/labels/road782.txt  \n",
            "  inflating: /content/road_sign_data/kaggle/working/roadsigndetection/valid/labels/road583.txt  \n",
            "  inflating: /content/road_sign_data/kaggle/working/roadsigndetection/valid/labels/road25.txt  \n",
            "  inflating: /content/road_sign_data/kaggle/working/roadsigndetection/valid/labels/road74.txt  \n",
            "  inflating: /content/road_sign_data/kaggle/working/roadsigndetection/valid/labels/road530.txt  \n",
            "  inflating: /content/road_sign_data/kaggle/working/roadsigndetection/valid/labels/road473.txt  \n",
            "  inflating: /content/road_sign_data/kaggle/working/roadsigndetection/valid/labels/road711.txt  \n",
            "  inflating: /content/road_sign_data/kaggle/working/roadsigndetection/valid/labels/road405.txt  \n",
            "  inflating: /content/road_sign_data/kaggle/working/roadsigndetection/valid/labels/road310.txt  \n",
            "  inflating: /content/road_sign_data/kaggle/working/roadsigndetection/valid/labels/road119.txt  \n",
            "  inflating: /content/road_sign_data/kaggle/working/roadsigndetection/valid/labels/road232.txt  \n",
            "  inflating: /content/road_sign_data/kaggle/working/roadsigndetection/valid/labels/road506.txt  \n",
            "  inflating: /content/road_sign_data/kaggle/working/roadsigndetection/valid/labels/road472.txt  \n",
            "  inflating: /content/road_sign_data/kaggle/working/roadsigndetection/valid/labels/road682.txt  \n",
            "  inflating: /content/road_sign_data/kaggle/working/roadsigndetection/valid/labels/road341.txt  \n",
            "  inflating: /content/road_sign_data/kaggle/working/roadsigndetection/valid/labels/road518.txt  \n",
            "  inflating: /content/road_sign_data/kaggle/working/roadsigndetection/valid/labels/road842.txt  \n",
            "  inflating: /content/road_sign_data/kaggle/working/roadsigndetection/valid/labels/road735.txt  \n",
            "  inflating: /content/road_sign_data/kaggle/working/roadsigndetection/valid/labels/road707.txt  \n",
            "  inflating: /content/road_sign_data/kaggle/working/roadsigndetection/valid/labels/road327.txt  \n",
            "  inflating: /content/road_sign_data/kaggle/working/roadsigndetection/valid/labels/road421.txt  \n",
            "  inflating: /content/road_sign_data/kaggle/working/roadsigndetection/valid/labels/road436.txt  \n",
            "  inflating: /content/road_sign_data/kaggle/working/roadsigndetection/valid/labels/road412.txt  \n",
            "  inflating: /content/road_sign_data/kaggle/working/roadsigndetection/valid/labels/road231.txt  \n",
            "  inflating: /content/road_sign_data/kaggle/working/roadsigndetection/valid/labels/road774.txt  \n",
            "  inflating: /content/road_sign_data/kaggle/working/roadsigndetection/valid/labels/road806.txt  \n",
            "  inflating: /content/road_sign_data/kaggle/working/roadsigndetection/valid/labels/road384.txt  \n",
            "  inflating: /content/road_sign_data/kaggle/working/roadsigndetection/valid/labels/road354.txt  \n",
            "  inflating: /content/road_sign_data/kaggle/working/roadsigndetection/valid/labels/road805.txt  \n",
            "  inflating: /content/road_sign_data/kaggle/working/roadsigndetection/valid/labels/road55.txt  \n",
            "  inflating: /content/road_sign_data/kaggle/working/roadsigndetection/valid/labels/road225.txt  \n",
            "  inflating: /content/road_sign_data/kaggle/working/roadsigndetection/valid/labels/road534.txt  \n",
            "  inflating: /content/road_sign_data/kaggle/working/roadsigndetection/valid/labels/road294.txt  \n",
            "  inflating: /content/road_sign_data/kaggle/working/roadsigndetection/valid/labels/road205.txt  \n",
            "  inflating: /content/road_sign_data/kaggle/working/roadsigndetection/valid/labels/road218.txt  \n",
            "  inflating: /content/road_sign_data/kaggle/working/roadsigndetection/valid/labels/road468.txt  \n",
            "  inflating: /content/road_sign_data/kaggle/working/roadsigndetection/valid/labels/road332.txt  \n",
            "  inflating: /content/road_sign_data/kaggle/working/roadsigndetection/valid/labels/road550.txt  \n",
            "  inflating: /content/road_sign_data/kaggle/working/roadsigndetection/valid/labels/road77.txt  \n",
            "  inflating: /content/road_sign_data/kaggle/working/roadsigndetection/valid/labels/road470.txt  \n",
            "  inflating: /content/road_sign_data/kaggle/working/roadsigndetection/valid/labels/road373.txt  \n",
            "  inflating: /content/road_sign_data/kaggle/working/roadsigndetection/valid/labels/road427.txt  \n",
            "  inflating: /content/road_sign_data/kaggle/working/roadsigndetection/valid/labels/road476.txt  \n",
            "  inflating: /content/road_sign_data/kaggle/working/roadsigndetection/valid/labels/road486.txt  \n",
            "  inflating: /content/road_sign_data/kaggle/working/roadsigndetection/valid/labels/road404.txt  \n",
            "  inflating: /content/road_sign_data/kaggle/working/roadsigndetection/valid/labels/road738.txt  \n",
            "  inflating: /content/road_sign_data/kaggle/working/roadsigndetection/valid/labels/road187.txt  \n",
            "  inflating: /content/road_sign_data/kaggle/working/roadsigndetection/valid/labels/road185.txt  \n",
            "  inflating: /content/road_sign_data/kaggle/working/roadsigndetection/valid/labels/road803.txt  \n",
            "  inflating: /content/road_sign_data/kaggle/working/roadsigndetection/valid/labels/road379.txt  \n",
            "  inflating: /content/road_sign_data/kaggle/working/roadsigndetection/valid/labels/road750.txt  \n",
            "  inflating: /content/road_sign_data/kaggle/working/roadsigndetection/valid/labels/road23.txt  \n",
            "  inflating: /content/road_sign_data/kaggle/working/roadsigndetection/valid/labels/road362.txt  \n",
            "  inflating: /content/road_sign_data/kaggle/working/roadsigndetection/valid/labels/road617.txt  \n",
            "  inflating: /content/road_sign_data/kaggle/working/roadsigndetection/valid/labels/road548.txt  \n",
            "  inflating: /content/road_sign_data/kaggle/working/roadsigndetection/valid/labels/road626.txt  \n",
            "  inflating: /content/road_sign_data/kaggle/working/roadsigndetection/valid/labels/road507.txt  \n",
            "  inflating: /content/road_sign_data/kaggle/working/roadsigndetection/valid/labels/road748.txt  \n",
            "  inflating: /content/road_sign_data/kaggle/working/roadsigndetection/valid/labels/road38.txt  \n",
            "  inflating: /content/road_sign_data/kaggle/working/roadsigndetection/valid/labels/road216.txt  \n",
            "  inflating: /content/road_sign_data/kaggle/working/roadsigndetection/valid/labels/road503.txt  \n",
            "  inflating: /content/road_sign_data/kaggle/working/roadsigndetection/valid/labels/road687.txt  \n",
            "  inflating: /content/road_sign_data/kaggle/working/roadsigndetection/valid/labels/road768.txt  \n",
            "  inflating: /content/road_sign_data/kaggle/working/roadsigndetection/valid/labels/road516.txt  \n",
            "  inflating: /content/road_sign_data/kaggle/working/roadsigndetection/valid/labels/road356.txt  \n",
            "  inflating: /content/road_sign_data/kaggle/working/roadsigndetection/valid/labels/road732.txt  \n",
            "  inflating: /content/road_sign_data/kaggle/working/roadsigndetection/valid/labels/road798.txt  \n",
            "  inflating: /content/road_sign_data/kaggle/working/roadsigndetection/valid/labels/road713.txt  \n",
            "  inflating: /content/road_sign_data/kaggle/working/roadsigndetection/valid/labels/road722.txt  \n",
            "  inflating: /content/road_sign_data/kaggle/working/roadsigndetection/valid/labels/road288.txt  \n",
            "  inflating: /content/road_sign_data/kaggle/working/roadsigndetection/valid/labels/road246.txt  \n",
            "  inflating: /content/road_sign_data/kaggle/working/roadsigndetection/valid/labels/road865.txt  \n",
            "  inflating: /content/road_sign_data/kaggle/working/roadsigndetection/valid/labels/road6.txt  \n",
            "  inflating: /content/road_sign_data/kaggle/working/roadsigndetection/valid/labels/road595.txt  \n",
            "  inflating: /content/road_sign_data/kaggle/working/roadsigndetection/valid/labels/road863.txt  \n",
            "  inflating: /content/road_sign_data/kaggle/working/roadsigndetection/valid/labels/road72.txt  \n",
            "  inflating: /content/road_sign_data/kaggle/working/roadsigndetection/valid/labels/road69.txt  \n",
            "  inflating: /content/road_sign_data/kaggle/working/roadsigndetection/valid/labels/road807.txt  \n",
            "  inflating: /content/road_sign_data/kaggle/working/roadsigndetection/valid/labels/road508.txt  \n",
            "  inflating: /content/road_sign_data/kaggle/working/roadsigndetection/valid/labels/road190.txt  \n",
            "  inflating: /content/road_sign_data/kaggle/working/roadsigndetection/valid/labels/road151.txt  \n",
            "  inflating: /content/road_sign_data/kaggle/working/roadsigndetection/valid/labels/road59.txt  \n",
            "  inflating: /content/road_sign_data/kaggle/working/roadsigndetection/valid/labels/road60.txt  \n",
            "  inflating: /content/road_sign_data/kaggle/working/roadsigndetection/valid/labels/road141.txt  \n",
            "  inflating: /content/road_sign_data/kaggle/working/roadsigndetection/valid/labels/road181.txt  \n",
            "  inflating: /content/road_sign_data/kaggle/working/roadsigndetection/valid/labels/road744.txt  \n",
            "  inflating: /content/road_sign_data/kaggle/working/roadsigndetection/valid/labels/road558.txt  \n",
            "  inflating: /content/road_sign_data/kaggle/working/roadsigndetection/valid/labels/road724.txt  \n",
            "  inflating: /content/road_sign_data/kaggle/working/roadsigndetection/valid/labels/road463.txt  \n",
            "  inflating: /content/road_sign_data/kaggle/working/roadsigndetection/valid/labels/road479.txt  \n",
            "  inflating: /content/road_sign_data/kaggle/working/roadsigndetection/valid/labels/road343.txt  \n",
            "  inflating: /content/road_sign_data/kaggle/working/roadsigndetection/valid/labels/road31.txt  \n",
            "  inflating: /content/road_sign_data/kaggle/working/roadsigndetection/valid/labels/road547.txt  \n",
            "  inflating: /content/road_sign_data/kaggle/working/roadsigndetection/valid/labels/road820.txt  \n",
            "  inflating: /content/road_sign_data/kaggle/working/roadsigndetection/valid/labels/road213.txt  \n",
            "  inflating: /content/road_sign_data/kaggle/working/roadsigndetection/valid/labels/road597.txt  \n",
            "  inflating: /content/road_sign_data/kaggle/working/roadsigndetection/valid/labels/road689.txt  \n",
            "  inflating: /content/road_sign_data/kaggle/working/roadsigndetection/valid/labels/road694.txt  \n",
            "  inflating: /content/road_sign_data/kaggle/working/roadsigndetection/valid/labels/road605.txt  \n",
            "  inflating: /content/road_sign_data/kaggle/working/roadsigndetection/valid/labels/road487.txt  \n",
            "  inflating: /content/road_sign_data/kaggle/working/roadsigndetection/valid/labels/road180.txt  \n",
            "  inflating: /content/road_sign_data/kaggle/working/roadsigndetection/valid/labels/road30.txt  \n",
            "  inflating: /content/road_sign_data/kaggle/working/roadsigndetection/valid/labels/road586.txt  \n",
            "  inflating: /content/road_sign_data/kaggle/working/roadsigndetection/valid/labels/road430.txt  \n",
            "  inflating: /content/road_sign_data/kaggle/working/roadsigndetection/valid/labels/road477.txt  \n",
            "  inflating: /content/road_sign_data/kaggle/working/roadsigndetection/valid/labels/road353.txt  \n",
            "  inflating: /content/road_sign_data/kaggle/working/roadsigndetection/valid/labels/road729.txt  \n",
            "  inflating: /content/road_sign_data/kaggle/working/roadsigndetection/valid/labels/road400.txt  \n",
            "  inflating: /content/road_sign_data/kaggle/working/roadsigndetection/valid/labels/road565.txt  \n",
            "  inflating: /content/road_sign_data/kaggle/working/roadsigndetection/valid/labels/road103.txt  \n",
            "  inflating: /content/road_sign_data/kaggle/working/roadsigndetection/valid/labels/road46.txt  \n",
            "  inflating: /content/road_sign_data/kaggle/working/roadsigndetection/valid/labels/road71.txt  \n",
            "  inflating: /content/road_sign_data/kaggle/working/roadsigndetection/valid/labels/road706.txt  \n",
            "  inflating: /content/road_sign_data/kaggle/working/roadsigndetection/valid/labels/road675.txt  \n",
            "  inflating: /content/road_sign_data/kaggle/working/roadsigndetection/valid/labels/road627.txt  \n",
            "  inflating: /content/road_sign_data/kaggle/working/roadsigndetection/valid/labels/road791.txt  \n",
            "  inflating: /content/road_sign_data/kaggle/working/roadsigndetection/valid/labels/road264.txt  \n",
            "  inflating: /content/road_sign_data/kaggle/working/roadsigndetection/valid/labels/road352.txt  \n",
            "  inflating: /content/road_sign_data/kaggle/working/roadsigndetection/valid/labels/road87.txt  \n",
            "  inflating: /content/road_sign_data/kaggle/working/roadsigndetection/valid/labels/road2.txt  \n",
            "  inflating: /content/road_sign_data/kaggle/working/roadsigndetection/valid/labels/road545.txt  \n",
            "  inflating: /content/road_sign_data/kaggle/working/roadsigndetection/valid/labels/road253.txt  \n",
            "  inflating: /content/road_sign_data/kaggle/working/roadsigndetection/valid/labels/road304.txt  \n",
            "  inflating: /content/road_sign_data/kaggle/working/roadsigndetection/valid/labels/road650.txt  \n",
            "  inflating: /content/road_sign_data/kaggle/working/roadsigndetection/valid/labels/road718.txt  \n",
            "  inflating: /content/road_sign_data/kaggle/working/roadsigndetection/valid/labels/road563.txt  \n",
            "  inflating: /content/road_sign_data/kaggle/working/roadsigndetection/valid/labels/road866.txt  \n",
            "  inflating: /content/road_sign_data/kaggle/working/roadsigndetection/valid/labels/road202.txt  \n",
            "  inflating: /content/road_sign_data/kaggle/working/roadsigndetection/valid/labels/road295.txt  \n",
            "  inflating: /content/road_sign_data/kaggle/working/roadsigndetection/valid/labels/road134.txt  \n",
            "  inflating: /content/road_sign_data/kaggle/working/roadsigndetection/valid/labels/road192.txt  \n",
            "  inflating: /content/road_sign_data/kaggle/working/roadsigndetection/valid/labels/road817.txt  \n",
            "  inflating: /content/road_sign_data/kaggle/working/roadsigndetection/valid/labels/road839.txt  \n",
            "  inflating: /content/road_sign_data/kaggle/working/roadsigndetection/valid/labels/road788.txt  \n",
            "  inflating: /content/road_sign_data/kaggle/working/roadsigndetection/valid/labels/road666.txt  \n",
            "  inflating: /content/road_sign_data/kaggle/working/roadsigndetection/valid/labels/road220.txt  \n",
            "  inflating: /content/road_sign_data/kaggle/working/roadsigndetection/valid/labels/road846.txt  \n",
            "  inflating: /content/road_sign_data/kaggle/working/roadsigndetection/valid/labels/road517.txt  \n",
            "  inflating: /content/road_sign_data/kaggle/working/roadsigndetection/valid/labels/road522.txt  \n",
            "  inflating: /content/road_sign_data/kaggle/working/roadsigndetection/valid/labels/road411.txt  \n",
            "  inflating: /content/road_sign_data/kaggle/working/roadsigndetection/valid/labels/road869.txt  \n",
            "  inflating: /content/road_sign_data/kaggle/working/roadsigndetection/valid/labels/road484.txt  \n",
            "  inflating: /content/road_sign_data/kaggle/working/roadsigndetection/valid/labels/road94.txt  \n",
            "  inflating: /content/road_sign_data/kaggle/working/roadsigndetection/valid/labels/road283.txt  \n",
            "   creating: /content/road_sign_data/kaggle/working/roadsigndetection/valid/images/\n",
            "  inflating: /content/road_sign_data/kaggle/working/roadsigndetection/valid/images/road605.png  \n",
            "  inflating: /content/road_sign_data/kaggle/working/roadsigndetection/valid/images/road506.png  \n",
            "  inflating: /content/road_sign_data/kaggle/working/roadsigndetection/valid/images/road547.png  \n",
            "  inflating: /content/road_sign_data/kaggle/working/roadsigndetection/valid/images/road354.png  \n",
            "  inflating: /content/road_sign_data/kaggle/working/roadsigndetection/valid/images/road735.png  \n",
            "  inflating: /content/road_sign_data/kaggle/working/roadsigndetection/valid/images/road25.png  \n",
            "  inflating: /content/road_sign_data/kaggle/working/roadsigndetection/valid/images/road180.png  \n",
            "  inflating: /content/road_sign_data/kaggle/working/roadsigndetection/valid/images/road218.png  \n",
            "  inflating: /content/road_sign_data/kaggle/working/roadsigndetection/valid/images/road30.png  \n",
            "  inflating: /content/road_sign_data/kaggle/working/roadsigndetection/valid/images/road436.png  \n",
            "  inflating: /content/road_sign_data/kaggle/working/roadsigndetection/valid/images/road412.png  \n",
            "  inflating: /content/road_sign_data/kaggle/working/roadsigndetection/valid/images/road362.png  \n",
            "  inflating: /content/road_sign_data/kaggle/working/roadsigndetection/valid/images/road384.png  \n",
            "  inflating: /content/road_sign_data/kaggle/working/roadsigndetection/valid/images/road597.png  \n",
            "  inflating: /content/road_sign_data/kaggle/working/roadsigndetection/valid/images/road411.png  \n",
            "  inflating: /content/road_sign_data/kaggle/working/roadsigndetection/valid/images/road508.png  \n",
            "  inflating: /content/road_sign_data/kaggle/working/roadsigndetection/valid/images/road115.png  \n",
            "  inflating: /content/road_sign_data/kaggle/working/roadsigndetection/valid/images/road356.png  \n",
            "  inflating: /content/road_sign_data/kaggle/working/roadsigndetection/valid/images/road341.png  \n",
            "  inflating: /content/road_sign_data/kaggle/working/roadsigndetection/valid/images/road91.png  \n",
            "  inflating: /content/road_sign_data/kaggle/working/roadsigndetection/valid/images/road689.png  \n",
            "  inflating: /content/road_sign_data/kaggle/working/roadsigndetection/valid/images/road430.png  \n",
            "  inflating: /content/road_sign_data/kaggle/working/roadsigndetection/valid/images/road6.png  \n",
            "  inflating: /content/road_sign_data/kaggle/working/roadsigndetection/valid/images/road774.png  \n",
            "  inflating: /content/road_sign_data/kaggle/working/roadsigndetection/valid/images/road798.png  \n",
            "  inflating: /content/road_sign_data/kaggle/working/roadsigndetection/valid/images/road472.png  \n",
            "  inflating: /content/road_sign_data/kaggle/working/roadsigndetection/valid/images/road141.png  \n",
            "  inflating: /content/road_sign_data/kaggle/working/roadsigndetection/valid/images/road205.png  \n",
            "  inflating: /content/road_sign_data/kaggle/working/roadsigndetection/valid/images/road476.png  \n",
            "  inflating: /content/road_sign_data/kaggle/working/roadsigndetection/valid/images/road487.png  \n",
            "  inflating: /content/road_sign_data/kaggle/working/roadsigndetection/valid/images/road663.png  \n",
            "  inflating: /content/road_sign_data/kaggle/working/roadsigndetection/valid/images/road707.png  \n",
            "  inflating: /content/road_sign_data/kaggle/working/roadsigndetection/valid/images/road119.png  \n",
            "  inflating: /content/road_sign_data/kaggle/working/roadsigndetection/valid/images/road750.png  \n",
            "  inflating: /content/road_sign_data/kaggle/working/roadsigndetection/valid/images/road675.png  \n",
            "  inflating: /content/road_sign_data/kaggle/working/roadsigndetection/valid/images/road264.png  \n",
            "  inflating: /content/road_sign_data/kaggle/working/roadsigndetection/valid/images/road309.png  \n",
            "  inflating: /content/road_sign_data/kaggle/working/roadsigndetection/valid/images/road630.png  \n",
            "  inflating: /content/road_sign_data/kaggle/working/roadsigndetection/valid/images/road525.png  \n",
            "  inflating: /content/road_sign_data/kaggle/working/roadsigndetection/valid/images/road806.png  \n",
            "  inflating: /content/road_sign_data/kaggle/working/roadsigndetection/valid/images/road231.png  \n",
            "  inflating: /content/road_sign_data/kaggle/working/roadsigndetection/valid/images/road186.png  \n",
            "  inflating: /content/road_sign_data/kaggle/working/roadsigndetection/valid/images/road415.png  \n",
            "  inflating: /content/road_sign_data/kaggle/working/roadsigndetection/valid/images/road310.png  \n",
            "  inflating: /content/road_sign_data/kaggle/working/roadsigndetection/valid/images/road583.png  \n",
            "  inflating: /content/road_sign_data/kaggle/working/roadsigndetection/valid/images/road507.png  \n",
            "  inflating: /content/road_sign_data/kaggle/working/roadsigndetection/valid/images/road253.png  \n",
            "  inflating: /content/road_sign_data/kaggle/working/roadsigndetection/valid/images/road842.png  \n",
            "  inflating: /content/road_sign_data/kaggle/working/roadsigndetection/valid/images/road468.png  \n",
            "  inflating: /content/road_sign_data/kaggle/working/roadsigndetection/valid/images/road202.png  \n",
            "  inflating: /content/road_sign_data/kaggle/working/roadsigndetection/valid/images/road586.png  \n",
            "  inflating: /content/road_sign_data/kaggle/working/roadsigndetection/valid/images/road817.png  \n",
            "  inflating: /content/road_sign_data/kaggle/working/roadsigndetection/valid/images/road713.png  \n",
            "  inflating: /content/road_sign_data/kaggle/working/roadsigndetection/valid/images/road295.png  \n",
            "  inflating: /content/road_sign_data/kaggle/working/roadsigndetection/valid/images/road213.png  \n",
            "  inflating: /content/road_sign_data/kaggle/working/roadsigndetection/valid/images/road378.png  \n",
            "  inflating: /content/road_sign_data/kaggle/working/roadsigndetection/valid/images/road749.png  \n",
            "  inflating: /content/road_sign_data/kaggle/working/roadsigndetection/valid/images/road187.png  \n",
            "  inflating: /content/road_sign_data/kaggle/working/roadsigndetection/valid/images/road292.png  \n",
            "  inflating: /content/road_sign_data/kaggle/working/roadsigndetection/valid/images/road94.png  \n",
            "  inflating: /content/road_sign_data/kaggle/working/roadsigndetection/valid/images/road807.png  \n",
            "  inflating: /content/road_sign_data/kaggle/working/roadsigndetection/valid/images/road181.png  \n",
            "  inflating: /content/road_sign_data/kaggle/working/roadsigndetection/valid/images/road711.png  \n",
            "  inflating: /content/road_sign_data/kaggle/working/roadsigndetection/valid/images/road134.png  \n",
            "  inflating: /content/road_sign_data/kaggle/working/roadsigndetection/valid/images/road548.png  \n",
            "  inflating: /content/road_sign_data/kaggle/working/roadsigndetection/valid/images/road627.png  \n",
            "  inflating: /content/road_sign_data/kaggle/working/roadsigndetection/valid/images/road400.png  \n",
            "  inflating: /content/road_sign_data/kaggle/working/roadsigndetection/valid/images/road687.png  \n",
            "  inflating: /content/road_sign_data/kaggle/working/roadsigndetection/valid/images/road192.png  \n",
            "  inflating: /content/road_sign_data/kaggle/working/roadsigndetection/valid/images/road846.png  \n",
            "  inflating: /content/road_sign_data/kaggle/working/roadsigndetection/valid/images/road69.png  \n",
            "  inflating: /content/road_sign_data/kaggle/working/roadsigndetection/valid/images/road650.png  \n",
            "  inflating: /content/road_sign_data/kaggle/working/roadsigndetection/valid/images/road70.png  \n",
            "  inflating: /content/road_sign_data/kaggle/working/roadsigndetection/valid/images/road232.png  \n",
            "  inflating: /content/road_sign_data/kaggle/working/roadsigndetection/valid/images/road712.png  \n",
            "  inflating: /content/road_sign_data/kaggle/working/roadsigndetection/valid/images/road788.png  \n",
            "  inflating: /content/road_sign_data/kaggle/working/roadsigndetection/valid/images/road294.png  \n",
            "  inflating: /content/road_sign_data/kaggle/working/roadsigndetection/valid/images/road59.png  \n",
            "  inflating: /content/road_sign_data/kaggle/working/roadsigndetection/valid/images/road405.png  \n",
            "  inflating: /content/road_sign_data/kaggle/working/roadsigndetection/valid/images/road31.png  \n",
            "  inflating: /content/road_sign_data/kaggle/working/roadsigndetection/valid/images/road233.png  \n",
            "  inflating: /content/road_sign_data/kaggle/working/roadsigndetection/valid/images/road87.png  \n",
            "  inflating: /content/road_sign_data/kaggle/working/roadsigndetection/valid/images/road768.png  \n",
            "  inflating: /content/road_sign_data/kaggle/working/roadsigndetection/valid/images/road379.png  \n",
            "  inflating: /content/road_sign_data/kaggle/working/roadsigndetection/valid/images/road332.png  \n",
            "  inflating: /content/road_sign_data/kaggle/working/roadsigndetection/valid/images/road530.png  \n",
            "  inflating: /content/road_sign_data/kaggle/working/roadsigndetection/valid/images/road762.png  \n",
            "  inflating: /content/road_sign_data/kaggle/working/roadsigndetection/valid/images/road23.png  \n",
            "  inflating: /content/road_sign_data/kaggle/working/roadsigndetection/valid/images/road55.png  \n",
            "  inflating: /content/road_sign_data/kaggle/working/roadsigndetection/valid/images/road103.png  \n",
            "  inflating: /content/road_sign_data/kaggle/working/roadsigndetection/valid/images/road863.png  \n",
            "  inflating: /content/road_sign_data/kaggle/working/roadsigndetection/valid/images/road522.png  \n",
            "  inflating: /content/road_sign_data/kaggle/working/roadsigndetection/valid/images/road2.png  \n",
            "  inflating: /content/road_sign_data/kaggle/working/roadsigndetection/valid/images/road169.png  \n",
            "  inflating: /content/road_sign_data/kaggle/working/roadsigndetection/valid/images/road463.png  \n",
            "  inflating: /content/road_sign_data/kaggle/working/roadsigndetection/valid/images/road787.png  \n",
            "  inflating: /content/road_sign_data/kaggle/working/roadsigndetection/valid/images/road353.png  \n",
            "  inflating: /content/road_sign_data/kaggle/working/roadsigndetection/valid/images/road722.png  \n",
            "  inflating: /content/road_sign_data/kaggle/working/roadsigndetection/valid/images/road748.png  \n",
            "  inflating: /content/road_sign_data/kaggle/working/roadsigndetection/valid/images/road601.png  \n",
            "  inflating: /content/road_sign_data/kaggle/working/roadsigndetection/valid/images/road791.png  \n",
            "  inflating: /content/road_sign_data/kaggle/working/roadsigndetection/valid/images/road682.png  \n",
            "  inflating: /content/road_sign_data/kaggle/working/roadsigndetection/valid/images/road738.png  \n",
            "  inflating: /content/road_sign_data/kaggle/working/roadsigndetection/valid/images/road198.png  \n",
            "  inflating: /content/road_sign_data/kaggle/working/roadsigndetection/valid/images/road565.png  \n",
            "  inflating: /content/road_sign_data/kaggle/working/roadsigndetection/valid/images/road54.png  \n",
            "  inflating: /content/road_sign_data/kaggle/working/roadsigndetection/valid/images/road803.png  \n",
            "  inflating: /content/road_sign_data/kaggle/working/roadsigndetection/valid/images/road688.png  \n",
            "  inflating: /content/road_sign_data/kaggle/working/roadsigndetection/valid/images/road190.png  \n",
            "  inflating: /content/road_sign_data/kaggle/working/roadsigndetection/valid/images/road344.png  \n",
            "  inflating: /content/road_sign_data/kaggle/working/roadsigndetection/valid/images/road724.png  \n",
            "  inflating: /content/road_sign_data/kaggle/working/roadsigndetection/valid/images/road343.png  \n",
            "  inflating: /content/road_sign_data/kaggle/working/roadsigndetection/valid/images/road373.png  \n",
            "  inflating: /content/road_sign_data/kaggle/working/roadsigndetection/valid/images/road550.png  \n",
            "  inflating: /content/road_sign_data/kaggle/working/roadsigndetection/valid/images/road486.png  \n",
            "  inflating: /content/road_sign_data/kaggle/working/roadsigndetection/valid/images/road820.png  \n",
            "  inflating: /content/road_sign_data/kaggle/working/roadsigndetection/valid/images/road484.png  \n",
            "  inflating: /content/road_sign_data/kaggle/working/roadsigndetection/valid/images/road248.png  \n",
            "  inflating: /content/road_sign_data/kaggle/working/roadsigndetection/valid/images/road304.png  \n",
            "  inflating: /content/road_sign_data/kaggle/working/roadsigndetection/valid/images/road626.png  \n",
            "  inflating: /content/road_sign_data/kaggle/working/roadsigndetection/valid/images/road246.png  \n",
            "  inflating: /content/road_sign_data/kaggle/working/roadsigndetection/valid/images/road839.png  \n",
            "  inflating: /content/road_sign_data/kaggle/working/roadsigndetection/valid/images/road470.png  \n",
            "  inflating: /content/road_sign_data/kaggle/working/roadsigndetection/valid/images/road216.png  \n",
            "  inflating: /content/road_sign_data/kaggle/working/roadsigndetection/valid/images/road865.png  \n",
            "  inflating: /content/road_sign_data/kaggle/working/roadsigndetection/valid/images/road545.png  \n",
            "  inflating: /content/road_sign_data/kaggle/working/roadsigndetection/valid/images/road185.png  \n",
            "  inflating: /content/road_sign_data/kaggle/working/roadsigndetection/valid/images/road516.png  \n",
            "  inflating: /content/road_sign_data/kaggle/working/roadsigndetection/valid/images/road74.png  \n",
            "  inflating: /content/road_sign_data/kaggle/working/roadsigndetection/valid/images/road473.png  \n",
            "  inflating: /content/road_sign_data/kaggle/working/roadsigndetection/valid/images/road805.png  \n",
            "  inflating: /content/road_sign_data/kaggle/working/roadsigndetection/valid/images/road479.png  \n",
            "  inflating: /content/road_sign_data/kaggle/working/roadsigndetection/valid/images/road659.png  \n",
            "  inflating: /content/road_sign_data/kaggle/working/roadsigndetection/valid/images/road288.png  \n",
            "  inflating: /content/road_sign_data/kaggle/working/roadsigndetection/valid/images/road352.png  \n",
            "  inflating: /content/road_sign_data/kaggle/working/roadsigndetection/valid/images/road706.png  \n",
            "  inflating: /content/road_sign_data/kaggle/working/roadsigndetection/valid/images/road404.png  \n",
            "  inflating: /content/road_sign_data/kaggle/working/roadsigndetection/valid/images/road427.png  \n",
            "  inflating: /content/road_sign_data/kaggle/working/roadsigndetection/valid/images/road694.png  \n",
            "  inflating: /content/road_sign_data/kaggle/working/roadsigndetection/valid/images/road225.png  \n",
            "  inflating: /content/road_sign_data/kaggle/working/roadsigndetection/valid/images/road744.png  \n",
            "  inflating: /content/road_sign_data/kaggle/working/roadsigndetection/valid/images/road71.png  \n",
            "  inflating: /content/road_sign_data/kaggle/working/roadsigndetection/valid/images/road38.png  \n",
            "  inflating: /content/road_sign_data/kaggle/working/roadsigndetection/valid/images/road46.png  \n",
            "  inflating: /content/road_sign_data/kaggle/working/roadsigndetection/valid/images/road503.png  \n",
            "  inflating: /content/road_sign_data/kaggle/working/roadsigndetection/valid/images/road77.png  \n",
            "  inflating: /content/road_sign_data/kaggle/working/roadsigndetection/valid/images/road657.png  \n",
            "  inflating: /content/road_sign_data/kaggle/working/roadsigndetection/valid/images/road567.png  \n",
            "  inflating: /content/road_sign_data/kaggle/working/roadsigndetection/valid/images/road593.png  \n",
            "  inflating: /content/road_sign_data/kaggle/working/roadsigndetection/valid/images/road60.png  \n",
            "  inflating: /content/road_sign_data/kaggle/working/roadsigndetection/valid/images/road283.png  \n",
            "  inflating: /content/road_sign_data/kaggle/working/roadsigndetection/valid/images/road421.png  \n",
            "  inflating: /content/road_sign_data/kaggle/working/roadsigndetection/valid/images/road381.png  \n",
            "  inflating: /content/road_sign_data/kaggle/working/roadsigndetection/valid/images/road558.png  \n",
            "  inflating: /content/road_sign_data/kaggle/working/roadsigndetection/valid/images/road729.png  \n",
            "  inflating: /content/road_sign_data/kaggle/working/roadsigndetection/valid/images/road518.png  \n",
            "  inflating: /content/road_sign_data/kaggle/working/roadsigndetection/valid/images/road595.png  \n",
            "  inflating: /content/road_sign_data/kaggle/working/roadsigndetection/valid/images/road732.png  \n",
            "  inflating: /content/road_sign_data/kaggle/working/roadsigndetection/valid/images/road51.png  \n",
            "  inflating: /content/road_sign_data/kaggle/working/roadsigndetection/valid/images/road563.png  \n",
            "  inflating: /content/road_sign_data/kaggle/working/roadsigndetection/valid/images/road151.png  \n",
            "  inflating: /content/road_sign_data/kaggle/working/roadsigndetection/valid/images/road731.png  \n",
            "  inflating: /content/road_sign_data/kaggle/working/roadsigndetection/valid/images/road777.png  \n",
            "  inflating: /content/road_sign_data/kaggle/working/roadsigndetection/valid/images/road782.png  \n",
            "  inflating: /content/road_sign_data/kaggle/working/roadsigndetection/valid/images/road517.png  \n",
            "  inflating: /content/road_sign_data/kaggle/working/roadsigndetection/valid/images/road869.png  \n",
            "  inflating: /content/road_sign_data/kaggle/working/roadsigndetection/valid/images/road718.png  \n",
            "  inflating: /content/road_sign_data/kaggle/working/roadsigndetection/valid/images/road327.png  \n",
            "  inflating: /content/road_sign_data/kaggle/working/roadsigndetection/valid/images/road534.png  \n",
            "  inflating: /content/road_sign_data/kaggle/working/roadsigndetection/valid/images/road666.png  \n",
            "  inflating: /content/road_sign_data/kaggle/working/roadsigndetection/valid/images/road72.png  \n",
            "  inflating: /content/road_sign_data/kaggle/working/roadsigndetection/valid/images/road617.png  \n",
            "  inflating: /content/road_sign_data/kaggle/working/roadsigndetection/valid/images/road16.png  \n",
            "  inflating: /content/road_sign_data/kaggle/working/roadsigndetection/valid/images/road477.png  \n",
            "  inflating: /content/road_sign_data/kaggle/working/roadsigndetection/valid/images/road866.png  \n",
            "  inflating: /content/road_sign_data/kaggle/working/roadsigndetection/valid/images/road220.png  \n",
            "   creating: /content/road_sign_data/kaggle/working/roadsigndetection/train/\n",
            "   creating: /content/road_sign_data/kaggle/working/roadsigndetection/train/labels/\n",
            "  inflating: /content/road_sign_data/kaggle/working/roadsigndetection/train/labels/road397.txt  \n",
            "  inflating: /content/road_sign_data/kaggle/working/roadsigndetection/train/labels/road499.txt  \n",
            "  inflating: /content/road_sign_data/kaggle/working/roadsigndetection/train/labels/road348.txt  \n",
            "  inflating: /content/road_sign_data/kaggle/working/roadsigndetection/train/labels/road543.txt  \n",
            "  inflating: /content/road_sign_data/kaggle/working/roadsigndetection/train/labels/road868.txt  \n",
            "  inflating: /content/road_sign_data/kaggle/working/roadsigndetection/train/labels/road872.txt  \n",
            "  inflating: /content/road_sign_data/kaggle/working/roadsigndetection/train/labels/road53.txt  \n",
            "  inflating: /content/road_sign_data/kaggle/working/roadsigndetection/train/labels/road511.txt  \n",
            "  inflating: /content/road_sign_data/kaggle/working/roadsigndetection/train/labels/road745.txt  \n",
            "  inflating: /content/road_sign_data/kaggle/working/roadsigndetection/train/labels/road556.txt  \n",
            "  inflating: /content/road_sign_data/kaggle/working/roadsigndetection/train/labels/road509.txt  \n",
            "  inflating: /content/road_sign_data/kaggle/working/roadsigndetection/train/labels/road552.txt  \n",
            "  inflating: /content/road_sign_data/kaggle/working/roadsigndetection/train/labels/road114.txt  \n",
            "  inflating: /content/road_sign_data/kaggle/working/roadsigndetection/train/labels/road193.txt  \n",
            "  inflating: /content/road_sign_data/kaggle/working/roadsigndetection/train/labels/road27.txt  \n",
            "  inflating: /content/road_sign_data/kaggle/working/roadsigndetection/train/labels/road174.txt  \n",
            "  inflating: /content/road_sign_data/kaggle/working/roadsigndetection/train/labels/road102.txt  \n",
            "  inflating: /content/road_sign_data/kaggle/working/roadsigndetection/train/labels/road315.txt  \n",
            "  inflating: /content/road_sign_data/kaggle/working/roadsigndetection/train/labels/road168.txt  \n",
            "  inflating: /content/road_sign_data/kaggle/working/roadsigndetection/train/labels/road90.txt  \n",
            "  inflating: /content/road_sign_data/kaggle/working/roadsigndetection/train/labels/road754.txt  \n",
            "  inflating: /content/road_sign_data/kaggle/working/roadsigndetection/train/labels/road223.txt  \n",
            "  inflating: /content/road_sign_data/kaggle/working/roadsigndetection/train/labels/road194.txt  \n",
            "  inflating: /content/road_sign_data/kaggle/working/roadsigndetection/train/labels/road442.txt  \n",
            "  inflating: /content/road_sign_data/kaggle/working/roadsigndetection/train/labels/road297.txt  \n",
            "  inflating: /content/road_sign_data/kaggle/working/roadsigndetection/train/labels/road794.txt  \n",
            "  inflating: /content/road_sign_data/kaggle/working/roadsigndetection/train/labels/road637.txt  \n",
            "  inflating: /content/road_sign_data/kaggle/working/roadsigndetection/train/labels/road546.txt  \n",
            "  inflating: /content/road_sign_data/kaggle/working/roadsigndetection/train/labels/road391.txt  \n",
            "  inflating: /content/road_sign_data/kaggle/working/roadsigndetection/train/labels/road64.txt  \n",
            "  inflating: /content/road_sign_data/kaggle/working/roadsigndetection/train/labels/road209.txt  \n",
            "  inflating: /content/road_sign_data/kaggle/working/roadsigndetection/train/labels/road544.txt  \n",
            "  inflating: /content/road_sign_data/kaggle/working/roadsigndetection/train/labels/road76.txt  \n",
            "  inflating: /content/road_sign_data/kaggle/working/roadsigndetection/train/labels/road99.txt  \n",
            "  inflating: /content/road_sign_data/kaggle/working/roadsigndetection/train/labels/road0.txt  \n",
            "  inflating: /content/road_sign_data/kaggle/working/roadsigndetection/train/labels/road49.txt  \n",
            "  inflating: /content/road_sign_data/kaggle/working/roadsigndetection/train/labels/road35.txt  \n",
            "  inflating: /content/road_sign_data/kaggle/working/roadsigndetection/train/labels/road357.txt  \n",
            "  inflating: /content/road_sign_data/kaggle/working/roadsigndetection/train/labels/road690.txt  \n",
            "  inflating: /content/road_sign_data/kaggle/working/roadsigndetection/train/labels/road229.txt  \n",
            "  inflating: /content/road_sign_data/kaggle/working/roadsigndetection/train/labels/road147.txt  \n",
            "  inflating: /content/road_sign_data/kaggle/working/roadsigndetection/train/labels/road564.txt  \n",
            "  inflating: /content/road_sign_data/kaggle/working/roadsigndetection/train/labels/road746.txt  \n",
            "  inflating: /content/road_sign_data/kaggle/working/roadsigndetection/train/labels/road339.txt  \n",
            "  inflating: /content/road_sign_data/kaggle/working/roadsigndetection/train/labels/road454.txt  \n",
            "  inflating: /content/road_sign_data/kaggle/working/roadsigndetection/train/labels/road104.txt  \n",
            "  inflating: /content/road_sign_data/kaggle/working/roadsigndetection/train/labels/road347.txt  \n",
            "  inflating: /content/road_sign_data/kaggle/working/roadsigndetection/train/labels/road222.txt  \n",
            "  inflating: /content/road_sign_data/kaggle/working/roadsigndetection/train/labels/road418.txt  \n",
            "  inflating: /content/road_sign_data/kaggle/working/roadsigndetection/train/labels/road280.txt  \n",
            "  inflating: /content/road_sign_data/kaggle/working/roadsigndetection/train/labels/road138.txt  \n",
            "  inflating: /content/road_sign_data/kaggle/working/roadsigndetection/train/labels/road598.txt  \n",
            "  inflating: /content/road_sign_data/kaggle/working/roadsigndetection/train/labels/road778.txt  \n",
            "  inflating: /content/road_sign_data/kaggle/working/roadsigndetection/train/labels/road850.txt  \n",
            "  inflating: /content/road_sign_data/kaggle/working/roadsigndetection/train/labels/road330.txt  \n",
            "  inflating: /content/road_sign_data/kaggle/working/roadsigndetection/train/labels/road618.txt  \n",
            "  inflating: /content/road_sign_data/kaggle/working/roadsigndetection/train/labels/road123.txt  \n",
            "  inflating: /content/road_sign_data/kaggle/working/roadsigndetection/train/labels/road419.txt  \n",
            "  inflating: /content/road_sign_data/kaggle/working/roadsigndetection/train/labels/road825.txt  \n",
            "  inflating: /content/road_sign_data/kaggle/working/roadsigndetection/train/labels/road261.txt  \n",
            "  inflating: /content/road_sign_data/kaggle/working/roadsigndetection/train/labels/road804.txt  \n",
            "  inflating: /content/road_sign_data/kaggle/working/roadsigndetection/train/labels/road761.txt  \n",
            "  inflating: /content/road_sign_data/kaggle/working/roadsigndetection/train/labels/road579.txt  \n",
            "  inflating: /content/road_sign_data/kaggle/working/roadsigndetection/train/labels/road388.txt  \n",
            "  inflating: /content/road_sign_data/kaggle/working/roadsigndetection/train/labels/road662.txt  \n",
            "  inflating: /content/road_sign_data/kaggle/working/roadsigndetection/train/labels/road386.txt  \n",
            "  inflating: /content/road_sign_data/kaggle/working/roadsigndetection/train/labels/road539.txt  \n",
            "  inflating: /content/road_sign_data/kaggle/working/roadsigndetection/train/labels/road531.txt  \n",
            "  inflating: /content/road_sign_data/kaggle/working/roadsigndetection/train/labels/road492.txt  \n",
            "  inflating: /content/road_sign_data/kaggle/working/roadsigndetection/train/labels/road176.txt  \n",
            "  inflating: /content/road_sign_data/kaggle/working/roadsigndetection/train/labels/road274.txt  \n",
            "  inflating: /content/road_sign_data/kaggle/working/roadsigndetection/train/labels/road179.txt  \n",
            "  inflating: /content/road_sign_data/kaggle/working/roadsigndetection/train/labels/road449.txt  \n",
            "  inflating: /content/road_sign_data/kaggle/working/roadsigndetection/train/labels/road50.txt  \n",
            "  inflating: /content/road_sign_data/kaggle/working/roadsigndetection/train/labels/road270.txt  \n",
            "  inflating: /content/road_sign_data/kaggle/working/roadsigndetection/train/labels/road859.txt  \n",
            "  inflating: /content/road_sign_data/kaggle/working/roadsigndetection/train/labels/road58.txt  \n",
            "  inflating: /content/road_sign_data/kaggle/working/roadsigndetection/train/labels/road137.txt  \n",
            "  inflating: /content/road_sign_data/kaggle/working/roadsigndetection/train/labels/road515.txt  \n",
            "  inflating: /content/road_sign_data/kaggle/working/roadsigndetection/train/labels/road684.txt  \n",
            "  inflating: /content/road_sign_data/kaggle/working/roadsigndetection/train/labels/road480.txt  \n",
            "  inflating: /content/road_sign_data/kaggle/working/roadsigndetection/train/labels/road10.txt  \n",
            "  inflating: /content/road_sign_data/kaggle/working/roadsigndetection/train/labels/road613.txt  \n",
            "  inflating: /content/road_sign_data/kaggle/working/roadsigndetection/train/labels/road287.txt  \n",
            "  inflating: /content/road_sign_data/kaggle/working/roadsigndetection/train/labels/road741.txt  \n",
            "  inflating: /content/road_sign_data/kaggle/working/roadsigndetection/train/labels/road824.txt  \n",
            "  inflating: /content/road_sign_data/kaggle/working/roadsigndetection/train/labels/road351.txt  \n",
            "  inflating: /content/road_sign_data/kaggle/working/roadsigndetection/train/labels/road363.txt  \n",
            "  inflating: /content/road_sign_data/kaggle/working/roadsigndetection/train/labels/road350.txt  \n",
            "  inflating: /content/road_sign_data/kaggle/working/roadsigndetection/train/labels/road831.txt  \n",
            "  inflating: /content/road_sign_data/kaggle/working/roadsigndetection/train/labels/road153.txt  \n",
            "  inflating: /content/road_sign_data/kaggle/working/roadsigndetection/train/labels/road284.txt  \n",
            "  inflating: /content/road_sign_data/kaggle/working/roadsigndetection/train/labels/road655.txt  \n",
            "  inflating: /content/road_sign_data/kaggle/working/roadsigndetection/train/labels/road136.txt  \n",
            "  inflating: /content/road_sign_data/kaggle/working/roadsigndetection/train/labels/road816.txt  \n",
            "  inflating: /content/road_sign_data/kaggle/working/roadsigndetection/train/labels/road456.txt  \n",
            "  inflating: /content/road_sign_data/kaggle/working/roadsigndetection/train/labels/road355.txt  \n",
            "  inflating: /content/road_sign_data/kaggle/working/roadsigndetection/train/labels/road843.txt  \n",
            "  inflating: /content/road_sign_data/kaggle/working/roadsigndetection/train/labels/road219.txt  \n",
            "  inflating: /content/road_sign_data/kaggle/working/roadsigndetection/train/labels/road92.txt  \n",
            "  inflating: /content/road_sign_data/kaggle/working/roadsigndetection/train/labels/road661.txt  \n",
            "  inflating: /content/road_sign_data/kaggle/working/roadsigndetection/train/labels/road808.txt  \n",
            "  inflating: /content/road_sign_data/kaggle/working/roadsigndetection/train/labels/road117.txt  \n",
            "  inflating: /content/road_sign_data/kaggle/working/roadsigndetection/train/labels/road773.txt  \n",
            "  inflating: /content/road_sign_data/kaggle/working/roadsigndetection/train/labels/road665.txt  \n",
            "  inflating: /content/road_sign_data/kaggle/working/roadsigndetection/train/labels/road823.txt  \n",
            "  inflating: /content/road_sign_data/kaggle/working/roadsigndetection/train/labels/road322.txt  \n",
            "  inflating: /content/road_sign_data/kaggle/working/roadsigndetection/train/labels/road369.txt  \n",
            "  inflating: /content/road_sign_data/kaggle/working/roadsigndetection/train/labels/road653.txt  \n",
            "  inflating: /content/road_sign_data/kaggle/working/roadsigndetection/train/labels/road577.txt  \n",
            "  inflating: /content/road_sign_data/kaggle/working/roadsigndetection/train/labels/road438.txt  \n",
            "  inflating: /content/road_sign_data/kaggle/working/roadsigndetection/train/labels/road207.txt  \n",
            "  inflating: /content/road_sign_data/kaggle/working/roadsigndetection/train/labels/road728.txt  \n",
            "  inflating: /content/road_sign_data/kaggle/working/roadsigndetection/train/labels/road488.txt  \n",
            "  inflating: /content/road_sign_data/kaggle/working/roadsigndetection/train/labels/road230.txt  \n",
            "  inflating: /content/road_sign_data/kaggle/working/roadsigndetection/train/labels/road393.txt  \n",
            "  inflating: /content/road_sign_data/kaggle/working/roadsigndetection/train/labels/road319.txt  \n",
            "  inflating: /content/road_sign_data/kaggle/working/roadsigndetection/train/labels/road21.txt  \n",
            "  inflating: /content/road_sign_data/kaggle/working/roadsigndetection/train/labels/road590.txt  \n",
            "  inflating: /content/road_sign_data/kaggle/working/roadsigndetection/train/labels/road553.txt  \n",
            "  inflating: /content/road_sign_data/kaggle/working/roadsigndetection/train/labels/road289.txt  \n",
            "  inflating: /content/road_sign_data/kaggle/working/roadsigndetection/train/labels/road48.txt  \n",
            "  inflating: /content/road_sign_data/kaggle/working/roadsigndetection/train/labels/road709.txt  \n",
            "  inflating: /content/road_sign_data/kaggle/working/roadsigndetection/train/labels/road435.txt  \n",
            "  inflating: /content/road_sign_data/kaggle/working/roadsigndetection/train/labels/road622.txt  \n",
            "  inflating: /content/road_sign_data/kaggle/working/roadsigndetection/train/labels/road498.txt  \n",
            "  inflating: /content/road_sign_data/kaggle/working/roadsigndetection/train/labels/road66.txt  \n",
            "  inflating: /content/road_sign_data/kaggle/working/roadsigndetection/train/labels/road500.txt  \n",
            "  inflating: /content/road_sign_data/kaggle/working/roadsigndetection/train/labels/road683.txt  \n",
            "  inflating: /content/road_sign_data/kaggle/working/roadsigndetection/train/labels/road828.txt  \n",
            "  inflating: /content/road_sign_data/kaggle/working/roadsigndetection/train/labels/road228.txt  \n",
            "  inflating: /content/road_sign_data/kaggle/working/roadsigndetection/train/labels/road342.txt  \n",
            "  inflating: /content/road_sign_data/kaggle/working/roadsigndetection/train/labels/road428.txt  \n",
            "  inflating: /content/road_sign_data/kaggle/working/roadsigndetection/train/labels/road697.txt  \n",
            "  inflating: /content/road_sign_data/kaggle/working/roadsigndetection/train/labels/road692.txt  \n",
            "  inflating: /content/road_sign_data/kaggle/working/roadsigndetection/train/labels/road331.txt  \n",
            "  inflating: /content/road_sign_data/kaggle/working/roadsigndetection/train/labels/road3.txt  \n",
            "  inflating: /content/road_sign_data/kaggle/working/roadsigndetection/train/labels/road112.txt  \n",
            "  inflating: /content/road_sign_data/kaggle/working/roadsigndetection/train/labels/road89.txt  \n",
            "  inflating: /content/road_sign_data/kaggle/working/roadsigndetection/train/labels/road432.txt  \n",
            "  inflating: /content/road_sign_data/kaggle/working/roadsigndetection/train/labels/road623.txt  \n",
            "  inflating: /content/road_sign_data/kaggle/working/roadsigndetection/train/labels/road708.txt  \n",
            "  inflating: /content/road_sign_data/kaggle/working/roadsigndetection/train/labels/road305.txt  \n",
            "  inflating: /content/road_sign_data/kaggle/working/roadsigndetection/train/labels/road490.txt  \n",
            "  inflating: /content/road_sign_data/kaggle/working/roadsigndetection/train/labels/road431.txt  \n",
            "  inflating: /content/road_sign_data/kaggle/working/roadsigndetection/train/labels/road81.txt  \n",
            "  inflating: /content/road_sign_data/kaggle/working/roadsigndetection/train/labels/road624.txt  \n",
            "  inflating: /content/road_sign_data/kaggle/working/roadsigndetection/train/labels/road167.txt  \n",
            "  inflating: /content/road_sign_data/kaggle/working/roadsigndetection/train/labels/road554.txt  \n",
            "  inflating: /content/road_sign_data/kaggle/working/roadsigndetection/train/labels/road157.txt  \n",
            "  inflating: /content/road_sign_data/kaggle/working/roadsigndetection/train/labels/road747.txt  \n",
            "  inflating: /content/road_sign_data/kaggle/working/roadsigndetection/train/labels/road734.txt  \n",
            "  inflating: /content/road_sign_data/kaggle/working/roadsigndetection/train/labels/road851.txt  \n",
            "  inflating: /content/road_sign_data/kaggle/working/roadsigndetection/train/labels/road39.txt  \n",
            "  inflating: /content/road_sign_data/kaggle/working/roadsigndetection/train/labels/road173.txt  \n",
            "  inflating: /content/road_sign_data/kaggle/working/roadsigndetection/train/labels/road771.txt  \n",
            "  inflating: /content/road_sign_data/kaggle/working/roadsigndetection/train/labels/road255.txt  \n",
            "  inflating: /content/road_sign_data/kaggle/working/roadsigndetection/train/labels/road572.txt  \n",
            "  inflating: /content/road_sign_data/kaggle/working/roadsigndetection/train/labels/road702.txt  \n",
            "  inflating: /content/road_sign_data/kaggle/working/roadsigndetection/train/labels/road867.txt  \n",
            "  inflating: /content/road_sign_data/kaggle/working/roadsigndetection/train/labels/road533.txt  \n",
            "  inflating: /content/road_sign_data/kaggle/working/roadsigndetection/train/labels/road573.txt  \n",
            "  inflating: /content/road_sign_data/kaggle/working/roadsigndetection/train/labels/road160.txt  \n",
            "  inflating: /content/road_sign_data/kaggle/working/roadsigndetection/train/labels/road95.txt  \n",
            "  inflating: /content/road_sign_data/kaggle/working/roadsigndetection/train/labels/road591.txt  \n",
            "  inflating: /content/road_sign_data/kaggle/working/roadsigndetection/train/labels/road540.txt  \n",
            "  inflating: /content/road_sign_data/kaggle/working/roadsigndetection/train/labels/road698.txt  \n",
            "  inflating: /content/road_sign_data/kaggle/working/roadsigndetection/train/labels/road569.txt  \n",
            "  inflating: /content/road_sign_data/kaggle/working/roadsigndetection/train/labels/road398.txt  \n",
            "  inflating: /content/road_sign_data/kaggle/working/roadsigndetection/train/labels/road582.txt  \n",
            "  inflating: /content/road_sign_data/kaggle/working/roadsigndetection/train/labels/road156.txt  \n",
            "  inflating: /content/road_sign_data/kaggle/working/roadsigndetection/train/labels/road633.txt  \n",
            "  inflating: /content/road_sign_data/kaggle/working/roadsigndetection/train/labels/road727.txt  \n",
            "  inflating: /content/road_sign_data/kaggle/working/roadsigndetection/train/labels/road320.txt  \n",
            "  inflating: /content/road_sign_data/kaggle/working/roadsigndetection/train/labels/road407.txt  \n",
            "  inflating: /content/road_sign_data/kaggle/working/roadsigndetection/train/labels/road797.txt  \n",
            "  inflating: /content/road_sign_data/kaggle/working/roadsigndetection/train/labels/road267.txt  \n",
            "  inflating: /content/road_sign_data/kaggle/working/roadsigndetection/train/labels/road764.txt  \n",
            "  inflating: /content/road_sign_data/kaggle/working/roadsigndetection/train/labels/road227.txt  \n",
            "  inflating: /content/road_sign_data/kaggle/working/roadsigndetection/train/labels/road864.txt  \n",
            "  inflating: /content/road_sign_data/kaggle/working/roadsigndetection/train/labels/road144.txt  \n",
            "  inflating: /content/road_sign_data/kaggle/working/roadsigndetection/train/labels/road22.txt  \n",
            "  inflating: /content/road_sign_data/kaggle/working/roadsigndetection/train/labels/road120.txt  \n",
            "  inflating: /content/road_sign_data/kaggle/working/roadsigndetection/train/labels/road406.txt  \n",
            "  inflating: /content/road_sign_data/kaggle/working/roadsigndetection/train/labels/road107.txt  \n",
            "  inflating: /content/road_sign_data/kaggle/working/roadsigndetection/train/labels/road83.txt  \n",
            "  inflating: /content/road_sign_data/kaggle/working/roadsigndetection/train/labels/road376.txt  \n",
            "  inflating: /content/road_sign_data/kaggle/working/roadsigndetection/train/labels/road122.txt  \n",
            "  inflating: /content/road_sign_data/kaggle/working/roadsigndetection/train/labels/road242.txt  \n",
            "  inflating: /content/road_sign_data/kaggle/working/roadsigndetection/train/labels/road390.txt  \n",
            "  inflating: /content/road_sign_data/kaggle/working/roadsigndetection/train/labels/road767.txt  \n",
            "  inflating: /content/road_sign_data/kaggle/working/roadsigndetection/train/labels/road557.txt  \n",
            "  inflating: /content/road_sign_data/kaggle/working/roadsigndetection/train/labels/road279.txt  \n",
            "  inflating: /content/road_sign_data/kaggle/working/roadsigndetection/train/labels/road609.txt  \n",
            "  inflating: /content/road_sign_data/kaggle/working/roadsigndetection/train/labels/road307.txt  \n",
            "  inflating: /content/road_sign_data/kaggle/working/roadsigndetection/train/labels/road28.txt  \n",
            "  inflating: /content/road_sign_data/kaggle/working/roadsigndetection/train/labels/road42.txt  \n",
            "  inflating: /content/road_sign_data/kaggle/working/roadsigndetection/train/labels/road620.txt  \n",
            "  inflating: /content/road_sign_data/kaggle/working/roadsigndetection/train/labels/road809.txt  \n",
            "  inflating: /content/road_sign_data/kaggle/working/roadsigndetection/train/labels/road382.txt  \n",
            "  inflating: /content/road_sign_data/kaggle/working/roadsigndetection/train/labels/road159.txt  \n",
            "  inflating: /content/road_sign_data/kaggle/working/roadsigndetection/train/labels/road447.txt  \n",
            "  inflating: /content/road_sign_data/kaggle/working/roadsigndetection/train/labels/road680.txt  \n",
            "  inflating: /content/road_sign_data/kaggle/working/roadsigndetection/train/labels/road587.txt  \n",
            "  inflating: /content/road_sign_data/kaggle/working/roadsigndetection/train/labels/road639.txt  \n",
            "  inflating: /content/road_sign_data/kaggle/working/roadsigndetection/train/labels/road606.txt  \n",
            "  inflating: /content/road_sign_data/kaggle/working/roadsigndetection/train/labels/road714.txt  \n",
            "  inflating: /content/road_sign_data/kaggle/working/roadsigndetection/train/labels/road847.txt  \n",
            "  inflating: /content/road_sign_data/kaggle/working/roadsigndetection/train/labels/road720.txt  \n",
            "  inflating: /content/road_sign_data/kaggle/working/roadsigndetection/train/labels/road221.txt  \n",
            "  inflating: /content/road_sign_data/kaggle/working/roadsigndetection/train/labels/road370.txt  \n",
            "  inflating: /content/road_sign_data/kaggle/working/roadsigndetection/train/labels/road299.txt  \n",
            "  inflating: /content/road_sign_data/kaggle/working/roadsigndetection/train/labels/road757.txt  \n",
            "  inflating: /content/road_sign_data/kaggle/working/roadsigndetection/train/labels/road401.txt  \n",
            "  inflating: /content/road_sign_data/kaggle/working/roadsigndetection/train/labels/road224.txt  \n",
            "  inflating: /content/road_sign_data/kaggle/working/roadsigndetection/train/labels/road15.txt  \n",
            "  inflating: /content/road_sign_data/kaggle/working/roadsigndetection/train/labels/road441.txt  \n",
            "  inflating: /content/road_sign_data/kaggle/working/roadsigndetection/train/labels/road392.txt  \n",
            "  inflating: /content/road_sign_data/kaggle/working/roadsigndetection/train/labels/road281.txt  \n",
            "  inflating: /content/road_sign_data/kaggle/working/roadsigndetection/train/labels/road365.txt  \n",
            "  inflating: /content/road_sign_data/kaggle/working/roadsigndetection/train/labels/road837.txt  \n",
            "  inflating: /content/road_sign_data/kaggle/working/roadsigndetection/train/labels/road795.txt  \n",
            "  inflating: /content/road_sign_data/kaggle/working/roadsigndetection/train/labels/road217.txt  \n",
            "  inflating: /content/road_sign_data/kaggle/working/roadsigndetection/train/labels/road505.txt  \n",
            "  inflating: /content/road_sign_data/kaggle/working/roadsigndetection/train/labels/road608.txt  \n",
            "  inflating: /content/road_sign_data/kaggle/working/roadsigndetection/train/labels/road254.txt  \n",
            "  inflating: /content/road_sign_data/kaggle/working/roadsigndetection/train/labels/road700.txt  \n",
            "  inflating: /content/road_sign_data/kaggle/working/roadsigndetection/train/labels/road337.txt  \n",
            "  inflating: /content/road_sign_data/kaggle/working/roadsigndetection/train/labels/road323.txt  \n",
            "  inflating: /content/road_sign_data/kaggle/working/roadsigndetection/train/labels/road654.txt  \n",
            "  inflating: /content/road_sign_data/kaggle/working/roadsigndetection/train/labels/road523.txt  \n",
            "  inflating: /content/road_sign_data/kaggle/working/roadsigndetection/train/labels/road262.txt  \n",
            "  inflating: /content/road_sign_data/kaggle/working/roadsigndetection/train/labels/road670.txt  \n",
            "  inflating: /content/road_sign_data/kaggle/working/roadsigndetection/train/labels/road483.txt  \n",
            "  inflating: /content/road_sign_data/kaggle/working/roadsigndetection/train/labels/road129.txt  \n",
            "  inflating: /content/road_sign_data/kaggle/working/roadsigndetection/train/labels/road482.txt  \n",
            "  inflating: /content/road_sign_data/kaggle/working/roadsigndetection/train/labels/road161.txt  \n",
            "  inflating: /content/road_sign_data/kaggle/working/roadsigndetection/train/labels/road383.txt  \n",
            "  inflating: /content/road_sign_data/kaggle/working/roadsigndetection/train/labels/road643.txt  \n",
            "  inflating: /content/road_sign_data/kaggle/working/roadsigndetection/train/labels/road792.txt  \n",
            "  inflating: /content/road_sign_data/kaggle/working/roadsigndetection/train/labels/road210.txt  \n",
            "  inflating: /content/road_sign_data/kaggle/working/roadsigndetection/train/labels/road571.txt  \n",
            "  inflating: /content/road_sign_data/kaggle/working/roadsigndetection/train/labels/road765.txt  \n",
            "  inflating: /content/road_sign_data/kaggle/working/roadsigndetection/train/labels/road256.txt  \n",
            "  inflating: /content/road_sign_data/kaggle/working/roadsigndetection/train/labels/road685.txt  \n",
            "  inflating: /content/road_sign_data/kaggle/working/roadsigndetection/train/labels/road32.txt  \n",
            "  inflating: /content/road_sign_data/kaggle/working/roadsigndetection/train/labels/road268.txt  \n",
            "  inflating: /content/road_sign_data/kaggle/working/roadsigndetection/train/labels/road876.txt  \n",
            "  inflating: /content/road_sign_data/kaggle/working/roadsigndetection/train/labels/road699.txt  \n",
            "  inflating: /content/road_sign_data/kaggle/working/roadsigndetection/train/labels/road779.txt  \n",
            "  inflating: /content/road_sign_data/kaggle/working/roadsigndetection/train/labels/road450.txt  \n",
            "  inflating: /content/road_sign_data/kaggle/working/roadsigndetection/train/labels/road45.txt  \n",
            "  inflating: /content/road_sign_data/kaggle/working/roadsigndetection/train/labels/road600.txt  \n",
            "  inflating: /content/road_sign_data/kaggle/working/roadsigndetection/train/labels/road841.txt  \n",
            "  inflating: /content/road_sign_data/kaggle/working/roadsigndetection/train/labels/road801.txt  \n",
            "  inflating: /content/road_sign_data/kaggle/working/roadsigndetection/train/labels/road4.txt  \n",
            "  inflating: /content/road_sign_data/kaggle/working/roadsigndetection/train/labels/road844.txt  \n",
            "  inflating: /content/road_sign_data/kaggle/working/roadsigndetection/train/labels/road610.txt  \n",
            "  inflating: /content/road_sign_data/kaggle/working/roadsigndetection/train/labels/road101.txt  \n",
            "  inflating: /content/road_sign_data/kaggle/working/roadsigndetection/train/labels/road635.txt  \n",
            "  inflating: /content/road_sign_data/kaggle/working/roadsigndetection/train/labels/road759.txt  \n",
            "  inflating: /content/road_sign_data/kaggle/working/roadsigndetection/train/labels/road244.txt  \n",
            "  inflating: /content/road_sign_data/kaggle/working/roadsigndetection/train/labels/road815.txt  \n",
            "  inflating: /content/road_sign_data/kaggle/working/roadsigndetection/train/labels/road664.txt  \n",
            "  inflating: /content/road_sign_data/kaggle/working/roadsigndetection/train/labels/road656.txt  \n",
            "  inflating: /content/road_sign_data/kaggle/working/roadsigndetection/train/labels/road437.txt  \n",
            "  inflating: /content/road_sign_data/kaggle/working/roadsigndetection/train/labels/road672.txt  \n",
            "  inflating: /content/road_sign_data/kaggle/working/roadsigndetection/train/labels/road592.txt  \n",
            "  inflating: /content/road_sign_data/kaggle/working/roadsigndetection/train/labels/road188.txt  \n",
            "  inflating: /content/road_sign_data/kaggle/working/roadsigndetection/train/labels/road715.txt  \n",
            "  inflating: /content/road_sign_data/kaggle/working/roadsigndetection/train/labels/road457.txt  \n",
            "  inflating: /content/road_sign_data/kaggle/working/roadsigndetection/train/labels/road85.txt  \n",
            "  inflating: /content/road_sign_data/kaggle/working/roadsigndetection/train/labels/road818.txt  \n",
            "  inflating: /content/road_sign_data/kaggle/working/roadsigndetection/train/labels/road874.txt  \n",
            "  inflating: /content/road_sign_data/kaggle/working/roadsigndetection/train/labels/road75.txt  \n",
            "  inflating: /content/road_sign_data/kaggle/working/roadsigndetection/train/labels/road621.txt  \n",
            "  inflating: /content/road_sign_data/kaggle/working/roadsigndetection/train/labels/road196.txt  \n",
            "  inflating: /content/road_sign_data/kaggle/working/roadsigndetection/train/labels/road140.txt  \n",
            "  inflating: /content/road_sign_data/kaggle/working/roadsigndetection/train/labels/road387.txt  \n",
            "  inflating: /content/road_sign_data/kaggle/working/roadsigndetection/train/labels/road409.txt  \n",
            "  inflating: /content/road_sign_data/kaggle/working/roadsigndetection/train/labels/road236.txt  \n",
            "  inflating: /content/road_sign_data/kaggle/working/roadsigndetection/train/labels/road303.txt  \n",
            "  inflating: /content/road_sign_data/kaggle/working/roadsigndetection/train/labels/road832.txt  \n",
            "  inflating: /content/road_sign_data/kaggle/working/roadsigndetection/train/labels/road677.txt  \n",
            "  inflating: /content/road_sign_data/kaggle/working/roadsigndetection/train/labels/road766.txt  \n",
            "  inflating: /content/road_sign_data/kaggle/working/roadsigndetection/train/labels/road358.txt  \n",
            "  inflating: /content/road_sign_data/kaggle/working/roadsigndetection/train/labels/road574.txt  \n",
            "  inflating: /content/road_sign_data/kaggle/working/roadsigndetection/train/labels/road585.txt  \n",
            "  inflating: /content/road_sign_data/kaggle/working/roadsigndetection/train/labels/road277.txt  \n",
            "  inflating: /content/road_sign_data/kaggle/working/roadsigndetection/train/labels/road701.txt  \n",
            "  inflating: /content/road_sign_data/kaggle/working/roadsigndetection/train/labels/road758.txt  \n",
            "  inflating: /content/road_sign_data/kaggle/working/roadsigndetection/train/labels/road604.txt  \n",
            "  inflating: /content/road_sign_data/kaggle/working/roadsigndetection/train/labels/road426.txt  \n",
            "  inflating: /content/road_sign_data/kaggle/working/roadsigndetection/train/labels/road5.txt  \n",
            "  inflating: /content/road_sign_data/kaggle/working/roadsigndetection/train/labels/road542.txt  \n",
            "  inflating: /content/road_sign_data/kaggle/working/roadsigndetection/train/labels/road403.txt  \n",
            "  inflating: /content/road_sign_data/kaggle/working/roadsigndetection/train/labels/road434.txt  \n",
            "  inflating: /content/road_sign_data/kaggle/working/roadsigndetection/train/labels/road789.txt  \n",
            "  inflating: /content/road_sign_data/kaggle/working/roadsigndetection/train/labels/road703.txt  \n",
            "  inflating: /content/road_sign_data/kaggle/working/roadsigndetection/train/labels/road301.txt  \n",
            "  inflating: /content/road_sign_data/kaggle/working/roadsigndetection/train/labels/road668.txt  \n",
            "  inflating: /content/road_sign_data/kaggle/working/roadsigndetection/train/labels/road775.txt  \n",
            "  inflating: /content/road_sign_data/kaggle/working/roadsigndetection/train/labels/road252.txt  \n",
            "  inflating: /content/road_sign_data/kaggle/working/roadsigndetection/train/labels/road514.txt  \n",
            "  inflating: /content/road_sign_data/kaggle/working/roadsigndetection/train/labels/road318.txt  \n",
            "  inflating: /content/road_sign_data/kaggle/working/roadsigndetection/train/labels/road37.txt  \n",
            "  inflating: /content/road_sign_data/kaggle/working/roadsigndetection/train/labels/road527.txt  \n",
            "  inflating: /content/road_sign_data/kaggle/working/roadsigndetection/train/labels/road760.txt  \n",
            "  inflating: /content/road_sign_data/kaggle/working/roadsigndetection/train/labels/road34.txt  \n",
            "  inflating: /content/road_sign_data/kaggle/working/roadsigndetection/train/labels/road649.txt  \n",
            "  inflating: /content/road_sign_data/kaggle/working/roadsigndetection/train/labels/road739.txt  \n",
            "  inflating: /content/road_sign_data/kaggle/working/roadsigndetection/train/labels/road324.txt  \n",
            "  inflating: /content/road_sign_data/kaggle/working/roadsigndetection/train/labels/road272.txt  \n",
            "  inflating: /content/road_sign_data/kaggle/working/roadsigndetection/train/labels/road602.txt  \n",
            "  inflating: /content/road_sign_data/kaggle/working/roadsigndetection/train/labels/road561.txt  \n",
            "  inflating: /content/road_sign_data/kaggle/working/roadsigndetection/train/labels/road742.txt  \n",
            "  inflating: /content/road_sign_data/kaggle/working/roadsigndetection/train/labels/road82.txt  \n",
            "  inflating: /content/road_sign_data/kaggle/working/roadsigndetection/train/labels/road465.txt  \n",
            "  inflating: /content/road_sign_data/kaggle/working/roadsigndetection/train/labels/road696.txt  \n",
            "  inflating: /content/road_sign_data/kaggle/working/roadsigndetection/train/labels/road501.txt  \n",
            "  inflating: /content/road_sign_data/kaggle/working/roadsigndetection/train/labels/road33.txt  \n",
            "  inflating: /content/road_sign_data/kaggle/working/roadsigndetection/train/labels/road588.txt  \n",
            "  inflating: /content/road_sign_data/kaggle/working/roadsigndetection/train/labels/road109.txt  \n",
            "  inflating: /content/road_sign_data/kaggle/working/roadsigndetection/train/labels/road345.txt  \n",
            "  inflating: /content/road_sign_data/kaggle/working/roadsigndetection/train/labels/road361.txt  \n",
            "  inflating: /content/road_sign_data/kaggle/working/roadsigndetection/train/labels/road215.txt  \n",
            "  inflating: /content/road_sign_data/kaggle/working/roadsigndetection/train/labels/road113.txt  \n",
            "  inflating: /content/road_sign_data/kaggle/working/roadsigndetection/train/labels/road793.txt  \n",
            "  inflating: /content/road_sign_data/kaggle/working/roadsigndetection/train/labels/road203.txt  \n",
            "  inflating: /content/road_sign_data/kaggle/working/roadsigndetection/train/labels/road385.txt  \n",
            "  inflating: /content/road_sign_data/kaggle/working/roadsigndetection/train/labels/road201.txt  \n",
            "  inflating: /content/road_sign_data/kaggle/working/roadsigndetection/train/labels/road647.txt  \n",
            "  inflating: /content/road_sign_data/kaggle/working/roadsigndetection/train/labels/road183.txt  \n",
            "  inflating: /content/road_sign_data/kaggle/working/roadsigndetection/train/labels/road312.txt  \n",
            "  inflating: /content/road_sign_data/kaggle/working/roadsigndetection/train/labels/road162.txt  \n",
            "  inflating: /content/road_sign_data/kaggle/working/roadsigndetection/train/labels/road211.txt  \n",
            "  inflating: /content/road_sign_data/kaggle/working/roadsigndetection/train/labels/road316.txt  \n",
            "  inflating: /content/road_sign_data/kaggle/working/roadsigndetection/train/labels/road856.txt  \n",
            "  inflating: /content/road_sign_data/kaggle/working/roadsigndetection/train/labels/road491.txt  \n",
            "  inflating: /content/road_sign_data/kaggle/working/roadsigndetection/train/labels/road98.txt  \n",
            "  inflating: /content/road_sign_data/kaggle/working/roadsigndetection/train/labels/road854.txt  \n",
            "  inflating: /content/road_sign_data/kaggle/working/roadsigndetection/train/labels/road420.txt  \n",
            "  inflating: /content/road_sign_data/kaggle/working/roadsigndetection/train/labels/road576.txt  \n",
            "  inflating: /content/road_sign_data/kaggle/working/roadsigndetection/train/labels/road524.txt  \n",
            "  inflating: /content/road_sign_data/kaggle/working/roadsigndetection/train/labels/road106.txt  \n",
            "  inflating: /content/road_sign_data/kaggle/working/roadsigndetection/train/labels/road853.txt  \n",
            "  inflating: /content/road_sign_data/kaggle/working/roadsigndetection/train/labels/road716.txt  \n",
            "  inflating: /content/road_sign_data/kaggle/working/roadsigndetection/train/labels/road154.txt  \n",
            "  inflating: /content/road_sign_data/kaggle/working/roadsigndetection/train/labels/road444.txt  \n",
            "  inflating: /content/road_sign_data/kaggle/working/roadsigndetection/train/labels/road763.txt  \n",
            "  inflating: /content/road_sign_data/kaggle/working/roadsigndetection/train/labels/road611.txt  \n",
            "  inflating: /content/road_sign_data/kaggle/working/roadsigndetection/train/labels/road607.txt  \n",
            "  inflating: /content/road_sign_data/kaggle/working/roadsigndetection/train/labels/road455.txt  \n",
            "  inflating: /content/road_sign_data/kaggle/working/roadsigndetection/train/labels/road743.txt  \n",
            "  inflating: /content/road_sign_data/kaggle/working/roadsigndetection/train/labels/road329.txt  \n",
            "  inflating: /content/road_sign_data/kaggle/working/roadsigndetection/train/labels/road19.txt  \n",
            "  inflating: /content/road_sign_data/kaggle/working/roadsigndetection/train/labels/road570.txt  \n",
            "  inflating: /content/road_sign_data/kaggle/working/roadsigndetection/train/labels/road625.txt  \n",
            "  inflating: /content/road_sign_data/kaggle/working/roadsigndetection/train/labels/road142.txt  \n",
            "  inflating: /content/road_sign_data/kaggle/working/roadsigndetection/train/labels/road424.txt  \n",
            "  inflating: /content/road_sign_data/kaggle/working/roadsigndetection/train/labels/road239.txt  \n",
            "  inflating: /content/road_sign_data/kaggle/working/roadsigndetection/train/labels/road84.txt  \n",
            "  inflating: /content/road_sign_data/kaggle/working/roadsigndetection/train/labels/road14.txt  \n",
            "  inflating: /content/road_sign_data/kaggle/working/roadsigndetection/train/labels/road139.txt  \n",
            "  inflating: /content/road_sign_data/kaggle/working/roadsigndetection/train/labels/road723.txt  \n",
            "  inflating: /content/road_sign_data/kaggle/working/roadsigndetection/train/labels/road638.txt  \n",
            "  inflating: /content/road_sign_data/kaggle/working/roadsigndetection/train/labels/road460.txt  \n",
            "  inflating: /content/road_sign_data/kaggle/working/roadsigndetection/train/labels/road271.txt  \n",
            "  inflating: /content/road_sign_data/kaggle/working/roadsigndetection/train/labels/road671.txt  \n",
            "  inflating: /content/road_sign_data/kaggle/working/roadsigndetection/train/labels/road333.txt  \n",
            "  inflating: /content/road_sign_data/kaggle/working/roadsigndetection/train/labels/road17.txt  \n",
            "  inflating: /content/road_sign_data/kaggle/working/roadsigndetection/train/labels/road208.txt  \n",
            "  inflating: /content/road_sign_data/kaggle/working/roadsigndetection/train/labels/road237.txt  \n",
            "  inflating: /content/road_sign_data/kaggle/working/roadsigndetection/train/labels/road830.txt  \n",
            "  inflating: /content/road_sign_data/kaggle/working/roadsigndetection/train/labels/road178.txt  \n",
            "  inflating: /content/road_sign_data/kaggle/working/roadsigndetection/train/labels/road158.txt  \n",
            "  inflating: /content/road_sign_data/kaggle/working/roadsigndetection/train/labels/road163.txt  \n",
            "  inflating: /content/road_sign_data/kaggle/working/roadsigndetection/train/labels/road719.txt  \n",
            "  inflating: /content/road_sign_data/kaggle/working/roadsigndetection/train/labels/road845.txt  \n",
            "  inflating: /content/road_sign_data/kaggle/working/roadsigndetection/train/labels/road296.txt  \n",
            "  inflating: /content/road_sign_data/kaggle/working/roadsigndetection/train/labels/road336.txt  \n",
            "  inflating: /content/road_sign_data/kaggle/working/roadsigndetection/train/labels/road326.txt  \n",
            "  inflating: /content/road_sign_data/kaggle/working/roadsigndetection/train/labels/road619.txt  \n",
            "  inflating: /content/road_sign_data/kaggle/working/roadsigndetection/train/labels/road145.txt  \n",
            "  inflating: /content/road_sign_data/kaggle/working/roadsigndetection/train/labels/road733.txt  \n",
            "  inflating: /content/road_sign_data/kaggle/working/roadsigndetection/train/labels/road446.txt  \n",
            "  inflating: /content/road_sign_data/kaggle/working/roadsigndetection/train/labels/road796.txt  \n",
            "  inflating: /content/road_sign_data/kaggle/working/roadsigndetection/train/labels/road302.txt  \n",
            "  inflating: /content/road_sign_data/kaggle/working/roadsigndetection/train/labels/road562.txt  \n",
            "  inflating: /content/road_sign_data/kaggle/working/roadsigndetection/train/labels/road249.txt  \n",
            "  inflating: /content/road_sign_data/kaggle/working/roadsigndetection/train/labels/road857.txt  \n",
            "  inflating: /content/road_sign_data/kaggle/working/roadsigndetection/train/labels/road241.txt  \n",
            "  inflating: /content/road_sign_data/kaggle/working/roadsigndetection/train/labels/road838.txt  \n",
            "  inflating: /content/road_sign_data/kaggle/working/roadsigndetection/train/labels/road541.txt  \n",
            "  inflating: /content/road_sign_data/kaggle/working/roadsigndetection/train/labels/road451.txt  \n",
            "  inflating: /content/road_sign_data/kaggle/working/roadsigndetection/train/labels/road78.txt  \n",
            "  inflating: /content/road_sign_data/kaggle/working/roadsigndetection/train/labels/road810.txt  \n",
            "  inflating: /content/road_sign_data/kaggle/working/roadsigndetection/train/labels/road519.txt  \n",
            "  inflating: /content/road_sign_data/kaggle/working/roadsigndetection/train/labels/road96.txt  \n",
            "  inflating: /content/road_sign_data/kaggle/working/roadsigndetection/train/labels/road813.txt  \n",
            "  inflating: /content/road_sign_data/kaggle/working/roadsigndetection/train/labels/road640.txt  \n",
            "  inflating: /content/road_sign_data/kaggle/working/roadsigndetection/train/labels/road338.txt  \n",
            "  inflating: /content/road_sign_data/kaggle/working/roadsigndetection/train/labels/road679.txt  \n",
            "  inflating: /content/road_sign_data/kaggle/working/roadsigndetection/train/labels/road532.txt  \n",
            "  inflating: /content/road_sign_data/kaggle/working/roadsigndetection/train/labels/road737.txt  \n",
            "  inflating: /content/road_sign_data/kaggle/working/roadsigndetection/train/labels/road642.txt  \n",
            "  inflating: /content/road_sign_data/kaggle/working/roadsigndetection/train/labels/road311.txt  \n",
            "  inflating: /content/road_sign_data/kaggle/working/roadsigndetection/train/labels/road755.txt  \n",
            "  inflating: /content/road_sign_data/kaggle/working/roadsigndetection/train/labels/road433.txt  \n",
            "  inflating: /content/road_sign_data/kaggle/working/roadsigndetection/train/labels/road366.txt  \n",
            "  inflating: /content/road_sign_data/kaggle/working/roadsigndetection/train/labels/road453.txt  \n",
            "  inflating: /content/road_sign_data/kaggle/working/roadsigndetection/train/labels/road674.txt  \n",
            "  inflating: /content/road_sign_data/kaggle/working/roadsigndetection/train/labels/road485.txt  \n",
            "  inflating: /content/road_sign_data/kaggle/working/roadsigndetection/train/labels/road769.txt  \n",
            "  inflating: /content/road_sign_data/kaggle/working/roadsigndetection/train/labels/road512.txt  \n",
            "  inflating: /content/road_sign_data/kaggle/working/roadsigndetection/train/labels/road751.txt  \n",
            "  inflating: /content/road_sign_data/kaggle/working/roadsigndetection/train/labels/road631.txt  \n",
            "  inflating: /content/road_sign_data/kaggle/working/roadsigndetection/train/labels/road448.txt  \n",
            "  inflating: /content/road_sign_data/kaggle/working/roadsigndetection/train/labels/road8.txt  \n",
            "  inflating: /content/road_sign_data/kaggle/working/roadsigndetection/train/labels/road314.txt  \n",
            "  inflating: /content/road_sign_data/kaggle/working/roadsigndetection/train/labels/road166.txt  \n",
            "  inflating: /content/road_sign_data/kaggle/working/roadsigndetection/train/labels/road812.txt  \n",
            "  inflating: /content/road_sign_data/kaggle/working/roadsigndetection/train/labels/road300.txt  \n",
            "  inflating: /content/road_sign_data/kaggle/working/roadsigndetection/train/labels/road245.txt  \n",
            "  inflating: /content/road_sign_data/kaggle/working/roadsigndetection/train/labels/road458.txt  \n",
            "  inflating: /content/road_sign_data/kaggle/working/roadsigndetection/train/labels/road628.txt  \n",
            "  inflating: /content/road_sign_data/kaggle/working/roadsigndetection/train/labels/road371.txt  \n",
            "  inflating: /content/road_sign_data/kaggle/working/roadsigndetection/train/labels/road238.txt  \n",
            "  inflating: /content/road_sign_data/kaggle/working/roadsigndetection/train/labels/road753.txt  \n",
            "  inflating: /content/road_sign_data/kaggle/working/roadsigndetection/train/labels/road494.txt  \n",
            "  inflating: /content/road_sign_data/kaggle/working/roadsigndetection/train/labels/road380.txt  \n",
            "  inflating: /content/road_sign_data/kaggle/working/roadsigndetection/train/labels/road445.txt  \n",
            "  inflating: /content/road_sign_data/kaggle/working/roadsigndetection/train/labels/road52.txt  \n",
            "  inflating: /content/road_sign_data/kaggle/working/roadsigndetection/train/labels/road676.txt  \n",
            "  inflating: /content/road_sign_data/kaggle/working/roadsigndetection/train/labels/road589.txt  \n",
            "  inflating: /content/road_sign_data/kaggle/working/roadsigndetection/train/labels/road269.txt  \n",
            "  inflating: /content/road_sign_data/kaggle/working/roadsigndetection/train/labels/road634.txt  \n",
            "  inflating: /content/road_sign_data/kaggle/working/roadsigndetection/train/labels/road240.txt  \n",
            "  inflating: /content/road_sign_data/kaggle/working/roadsigndetection/train/labels/road282.txt  \n",
            "  inflating: /content/road_sign_data/kaggle/working/roadsigndetection/train/labels/road780.txt  \n",
            "  inflating: /content/road_sign_data/kaggle/working/roadsigndetection/train/labels/road298.txt  \n",
            "  inflating: /content/road_sign_data/kaggle/working/roadsigndetection/train/labels/road7.txt  \n",
            "  inflating: /content/road_sign_data/kaggle/working/roadsigndetection/train/labels/road469.txt  \n",
            "  inflating: /content/road_sign_data/kaggle/working/roadsigndetection/train/labels/road510.txt  \n",
            "  inflating: /content/road_sign_data/kaggle/working/roadsigndetection/train/labels/road549.txt  \n",
            "  inflating: /content/road_sign_data/kaggle/working/roadsigndetection/train/labels/road705.txt  \n",
            "  inflating: /content/road_sign_data/kaggle/working/roadsigndetection/train/labels/road110.txt  \n",
            "  inflating: /content/road_sign_data/kaggle/working/roadsigndetection/train/labels/road313.txt  \n",
            "  inflating: /content/road_sign_data/kaggle/working/roadsigndetection/train/labels/road848.txt  \n",
            "  inflating: /content/road_sign_data/kaggle/working/roadsigndetection/train/labels/road116.txt  \n",
            "  inflating: /content/road_sign_data/kaggle/working/roadsigndetection/train/labels/road414.txt  \n",
            "  inflating: /content/road_sign_data/kaggle/working/roadsigndetection/train/labels/road206.txt  \n",
            "  inflating: /content/road_sign_data/kaggle/working/roadsigndetection/train/labels/road478.txt  \n",
            "  inflating: /content/road_sign_data/kaggle/working/roadsigndetection/train/labels/road423.txt  \n",
            "  inflating: /content/road_sign_data/kaggle/working/roadsigndetection/train/labels/road200.txt  \n",
            "  inflating: /content/road_sign_data/kaggle/working/roadsigndetection/train/labels/road513.txt  \n",
            "  inflating: /content/road_sign_data/kaggle/working/roadsigndetection/train/labels/road693.txt  \n",
            "  inflating: /content/road_sign_data/kaggle/working/roadsigndetection/train/labels/road849.txt  \n",
            "  inflating: /content/road_sign_data/kaggle/working/roadsigndetection/train/labels/road827.txt  \n",
            "  inflating: /content/road_sign_data/kaggle/working/roadsigndetection/train/labels/road334.txt  \n",
            "  inflating: /content/road_sign_data/kaggle/working/roadsigndetection/train/labels/road504.txt  \n",
            "  inflating: /content/road_sign_data/kaggle/working/roadsigndetection/train/labels/road725.txt  \n",
            "  inflating: /content/road_sign_data/kaggle/working/roadsigndetection/train/labels/road124.txt  \n",
            "  inflating: /content/road_sign_data/kaggle/working/roadsigndetection/train/labels/road165.txt  \n",
            "  inflating: /content/road_sign_data/kaggle/working/roadsigndetection/train/labels/road678.txt  \n",
            "  inflating: /content/road_sign_data/kaggle/working/roadsigndetection/train/labels/road658.txt  \n",
            "  inflating: /content/road_sign_data/kaggle/working/roadsigndetection/train/labels/road651.txt  \n",
            "  inflating: /content/road_sign_data/kaggle/working/roadsigndetection/train/labels/road464.txt  \n",
            "  inflating: /content/road_sign_data/kaggle/working/roadsigndetection/train/labels/road871.txt  \n",
            "  inflating: /content/road_sign_data/kaggle/working/roadsigndetection/train/labels/road24.txt  \n",
            "  inflating: /content/road_sign_data/kaggle/working/roadsigndetection/train/labels/road799.txt  \n",
            "  inflating: /content/road_sign_data/kaggle/working/roadsigndetection/train/labels/road537.txt  \n",
            "  inflating: /content/road_sign_data/kaggle/working/roadsigndetection/train/labels/road410.txt  \n",
            "  inflating: /content/road_sign_data/kaggle/working/roadsigndetection/train/labels/road47.txt  \n",
            "  inflating: /content/road_sign_data/kaggle/working/roadsigndetection/train/labels/road197.txt  \n",
            "  inflating: /content/road_sign_data/kaggle/working/roadsigndetection/train/labels/road776.txt  \n",
            "  inflating: /content/road_sign_data/kaggle/working/roadsigndetection/train/labels/road125.txt  \n",
            "  inflating: /content/road_sign_data/kaggle/working/roadsigndetection/train/labels/road340.txt  \n",
            "  inflating: /content/road_sign_data/kaggle/working/roadsigndetection/train/labels/road644.txt  \n",
            "  inflating: /content/road_sign_data/kaggle/working/roadsigndetection/train/labels/road836.txt  \n",
            "  inflating: /content/road_sign_data/kaggle/working/roadsigndetection/train/labels/road235.txt  \n",
            "  inflating: /content/road_sign_data/kaggle/working/roadsigndetection/train/labels/road596.txt  \n",
            "  inflating: /content/road_sign_data/kaggle/working/roadsigndetection/train/labels/road648.txt  \n",
            "  inflating: /content/road_sign_data/kaggle/working/roadsigndetection/train/labels/road377.txt  \n",
            "  inflating: /content/road_sign_data/kaggle/working/roadsigndetection/train/labels/road695.txt  \n",
            "  inflating: /content/road_sign_data/kaggle/working/roadsigndetection/train/labels/road121.txt  \n",
            "  inflating: /content/road_sign_data/kaggle/working/roadsigndetection/train/labels/road293.txt  \n",
            "  inflating: /content/road_sign_data/kaggle/working/roadsigndetection/train/labels/road555.txt  \n",
            "  inflating: /content/road_sign_data/kaggle/working/roadsigndetection/train/labels/road389.txt  \n",
            "  inflating: /content/road_sign_data/kaggle/working/roadsigndetection/train/labels/road20.txt  \n",
            "  inflating: /content/road_sign_data/kaggle/working/roadsigndetection/train/labels/road784.txt  \n",
            "  inflating: /content/road_sign_data/kaggle/working/roadsigndetection/train/labels/road275.txt  \n",
            "  inflating: /content/road_sign_data/kaggle/working/roadsigndetection/train/labels/road128.txt  \n",
            "  inflating: /content/road_sign_data/kaggle/working/roadsigndetection/train/labels/road594.txt  \n",
            "  inflating: /content/road_sign_data/kaggle/working/roadsigndetection/train/labels/road367.txt  \n",
            "  inflating: /content/road_sign_data/kaggle/working/roadsigndetection/train/labels/road126.txt  \n",
            "  inflating: /content/road_sign_data/kaggle/working/roadsigndetection/train/labels/road12.txt  \n",
            "  inflating: /content/road_sign_data/kaggle/working/roadsigndetection/train/labels/road855.txt  \n",
            "  inflating: /content/road_sign_data/kaggle/working/roadsigndetection/train/labels/road80.txt  \n",
            "  inflating: /content/road_sign_data/kaggle/working/roadsigndetection/train/labels/road641.txt  \n",
            "  inflating: /content/road_sign_data/kaggle/working/roadsigndetection/train/labels/road259.txt  \n",
            "  inflating: /content/road_sign_data/kaggle/working/roadsigndetection/train/labels/road726.txt  \n",
            "  inflating: /content/road_sign_data/kaggle/working/roadsigndetection/train/labels/road226.txt  \n",
            "  inflating: /content/road_sign_data/kaggle/working/roadsigndetection/train/labels/road258.txt  \n",
            "  inflating: /content/road_sign_data/kaggle/working/roadsigndetection/train/labels/road93.txt  \n",
            "  inflating: /content/road_sign_data/kaggle/working/roadsigndetection/train/labels/road29.txt  \n",
            "  inflating: /content/road_sign_data/kaggle/working/roadsigndetection/train/labels/road189.txt  \n",
            "  inflating: /content/road_sign_data/kaggle/working/roadsigndetection/train/labels/road852.txt  \n",
            "  inflating: /content/road_sign_data/kaggle/working/roadsigndetection/train/labels/road273.txt  \n",
            "  inflating: /content/road_sign_data/kaggle/working/roadsigndetection/train/labels/road717.txt  \n",
            "  inflating: /content/road_sign_data/kaggle/working/roadsigndetection/train/labels/road538.txt  \n",
            "  inflating: /content/road_sign_data/kaggle/working/roadsigndetection/train/labels/road325.txt  \n",
            "  inflating: /content/road_sign_data/kaggle/working/roadsigndetection/train/labels/road43.txt  \n",
            "  inflating: /content/road_sign_data/kaggle/working/roadsigndetection/train/labels/road615.txt  \n",
            "  inflating: /content/road_sign_data/kaggle/working/roadsigndetection/train/labels/road471.txt  \n",
            "  inflating: /content/road_sign_data/kaggle/working/roadsigndetection/train/labels/road360.txt  \n",
            "  inflating: /content/road_sign_data/kaggle/working/roadsigndetection/train/labels/road105.txt  \n",
            "  inflating: /content/road_sign_data/kaggle/working/roadsigndetection/train/labels/road833.txt  \n",
            "  inflating: /content/road_sign_data/kaggle/working/roadsigndetection/train/labels/road182.txt  \n",
            "  inflating: /content/road_sign_data/kaggle/working/roadsigndetection/train/labels/road73.txt  \n",
            "  inflating: /content/road_sign_data/kaggle/working/roadsigndetection/train/labels/road155.txt  \n",
            "  inflating: /content/road_sign_data/kaggle/working/roadsigndetection/train/labels/road429.txt  \n",
            "  inflating: /content/road_sign_data/kaggle/working/roadsigndetection/train/labels/road502.txt  \n",
            "  inflating: /content/road_sign_data/kaggle/working/roadsigndetection/train/labels/road408.txt  \n",
            "  inflating: /content/road_sign_data/kaggle/working/roadsigndetection/train/labels/road840.txt  \n",
            "  inflating: /content/road_sign_data/kaggle/working/roadsigndetection/train/labels/road756.txt  \n",
            "  inflating: /content/road_sign_data/kaggle/working/roadsigndetection/train/labels/road629.txt  \n",
            "  inflating: /content/road_sign_data/kaggle/working/roadsigndetection/train/labels/road520.txt  \n",
            "  inflating: /content/road_sign_data/kaggle/working/roadsigndetection/train/labels/road440.txt  \n",
            "  inflating: /content/road_sign_data/kaggle/working/roadsigndetection/train/labels/road466.txt  \n",
            "  inflating: /content/road_sign_data/kaggle/working/roadsigndetection/train/labels/road496.txt  \n",
            "  inflating: /content/road_sign_data/kaggle/working/roadsigndetection/train/labels/road826.txt  \n",
            "  inflating: /content/road_sign_data/kaggle/working/roadsigndetection/train/labels/road143.txt  \n",
            "  inflating: /content/road_sign_data/kaggle/working/roadsigndetection/train/labels/road86.txt  \n",
            "  inflating: /content/road_sign_data/kaggle/working/roadsigndetection/train/labels/road251.txt  \n",
            "  inflating: /content/road_sign_data/kaggle/working/roadsigndetection/train/labels/road177.txt  \n",
            "  inflating: /content/road_sign_data/kaggle/working/roadsigndetection/train/labels/road568.txt  \n",
            "  inflating: /content/road_sign_data/kaggle/working/roadsigndetection/train/labels/road740.txt  \n",
            "  inflating: /content/road_sign_data/kaggle/working/roadsigndetection/train/labels/road790.txt  \n",
            "  inflating: /content/road_sign_data/kaggle/working/roadsigndetection/train/labels/road785.txt  \n",
            "  inflating: /content/road_sign_data/kaggle/working/roadsigndetection/train/labels/road171.txt  \n",
            "  inflating: /content/road_sign_data/kaggle/working/roadsigndetection/train/labels/road752.txt  \n",
            "  inflating: /content/road_sign_data/kaggle/working/roadsigndetection/train/labels/road413.txt  \n",
            "  inflating: /content/road_sign_data/kaggle/working/roadsigndetection/train/labels/road374.txt  \n",
            "  inflating: /content/road_sign_data/kaggle/working/roadsigndetection/train/labels/road612.txt  \n",
            "  inflating: /content/road_sign_data/kaggle/working/roadsigndetection/train/labels/road493.txt  \n",
            "  inflating: /content/road_sign_data/kaggle/working/roadsigndetection/train/labels/road811.txt  \n",
            "  inflating: /content/road_sign_data/kaggle/working/roadsigndetection/train/labels/road199.txt  \n",
            "  inflating: /content/road_sign_data/kaggle/working/roadsigndetection/train/labels/road575.txt  \n",
            "  inflating: /content/road_sign_data/kaggle/working/roadsigndetection/train/labels/road814.txt  \n",
            "  inflating: /content/road_sign_data/kaggle/working/roadsigndetection/train/labels/road710.txt  \n",
            "  inflating: /content/road_sign_data/kaggle/working/roadsigndetection/train/labels/road321.txt  \n",
            "  inflating: /content/road_sign_data/kaggle/working/roadsigndetection/train/labels/road686.txt  \n",
            "  inflating: /content/road_sign_data/kaggle/working/roadsigndetection/train/labels/road566.txt  \n",
            "  inflating: /content/road_sign_data/kaggle/working/roadsigndetection/train/labels/road257.txt  \n",
            "  inflating: /content/road_sign_data/kaggle/working/roadsigndetection/train/labels/road394.txt  \n",
            "  inflating: /content/road_sign_data/kaggle/working/roadsigndetection/train/labels/road127.txt  \n",
            "  inflating: /content/road_sign_data/kaggle/working/roadsigndetection/train/labels/road88.txt  \n",
            "  inflating: /content/road_sign_data/kaggle/working/roadsigndetection/train/labels/road526.txt  \n",
            "  inflating: /content/road_sign_data/kaggle/working/roadsigndetection/train/labels/road328.txt  \n",
            "  inflating: /content/road_sign_data/kaggle/working/roadsigndetection/train/labels/road730.txt  \n",
            "  inflating: /content/road_sign_data/kaggle/working/roadsigndetection/train/labels/road285.txt  \n",
            "  inflating: /content/road_sign_data/kaggle/working/roadsigndetection/train/labels/road278.txt  \n",
            "  inflating: /content/road_sign_data/kaggle/working/roadsigndetection/train/labels/road164.txt  \n",
            "  inflating: /content/road_sign_data/kaggle/working/roadsigndetection/train/labels/road150.txt  \n",
            "  inflating: /content/road_sign_data/kaggle/working/roadsigndetection/train/labels/road184.txt  \n",
            "  inflating: /content/road_sign_data/kaggle/working/roadsigndetection/train/labels/road57.txt  \n",
            "  inflating: /content/road_sign_data/kaggle/working/roadsigndetection/train/labels/road783.txt  \n",
            "  inflating: /content/road_sign_data/kaggle/working/roadsigndetection/train/labels/road578.txt  \n",
            "  inflating: /content/road_sign_data/kaggle/working/roadsigndetection/train/labels/road62.txt  \n",
            "  inflating: /content/road_sign_data/kaggle/working/roadsigndetection/train/labels/road195.txt  \n",
            "  inflating: /content/road_sign_data/kaggle/working/roadsigndetection/train/labels/road175.txt  \n",
            "  inflating: /content/road_sign_data/kaggle/working/roadsigndetection/train/labels/road100.txt  \n",
            "  inflating: /content/road_sign_data/kaggle/working/roadsigndetection/train/labels/road834.txt  \n",
            "  inflating: /content/road_sign_data/kaggle/working/roadsigndetection/train/labels/road108.txt  \n",
            "  inflating: /content/road_sign_data/kaggle/working/roadsigndetection/train/labels/road234.txt  \n",
            "  inflating: /content/road_sign_data/kaggle/working/roadsigndetection/train/labels/road462.txt  \n",
            "  inflating: /content/road_sign_data/kaggle/working/roadsigndetection/train/labels/road669.txt  \n",
            "  inflating: /content/road_sign_data/kaggle/working/roadsigndetection/train/labels/road461.txt  \n",
            "  inflating: /content/road_sign_data/kaggle/working/roadsigndetection/train/labels/road247.txt  \n",
            "  inflating: /content/road_sign_data/kaggle/working/roadsigndetection/train/labels/road646.txt  \n",
            "  inflating: /content/road_sign_data/kaggle/working/roadsigndetection/train/labels/road422.txt  \n",
            "  inflating: /content/road_sign_data/kaggle/working/roadsigndetection/train/labels/road474.txt  \n",
            "  inflating: /content/road_sign_data/kaggle/working/roadsigndetection/train/labels/road603.txt  \n",
            "  inflating: /content/road_sign_data/kaggle/working/roadsigndetection/train/labels/road61.txt  \n",
            "  inflating: /content/road_sign_data/kaggle/working/roadsigndetection/train/labels/road862.txt  \n",
            "  inflating: /content/road_sign_data/kaggle/working/roadsigndetection/train/labels/road870.txt  \n",
            "  inflating: /content/road_sign_data/kaggle/working/roadsigndetection/train/labels/road191.txt  \n",
            "  inflating: /content/road_sign_data/kaggle/working/roadsigndetection/train/labels/road118.txt  \n",
            "  inflating: /content/road_sign_data/kaggle/working/roadsigndetection/train/labels/road131.txt  \n",
            "  inflating: /content/road_sign_data/kaggle/working/roadsigndetection/train/labels/road691.txt  \n",
            "  inflating: /content/road_sign_data/kaggle/working/roadsigndetection/train/labels/road399.txt  \n",
            "  inflating: /content/road_sign_data/kaggle/working/roadsigndetection/train/labels/road632.txt  \n",
            "  inflating: /content/road_sign_data/kaggle/working/roadsigndetection/train/labels/road148.txt  \n",
            "  inflating: /content/road_sign_data/kaggle/working/roadsigndetection/train/labels/road584.txt  \n",
            "  inflating: /content/road_sign_data/kaggle/working/roadsigndetection/train/labels/road260.txt  \n",
            "  inflating: /content/road_sign_data/kaggle/working/roadsigndetection/train/labels/road265.txt  \n",
            "  inflating: /content/road_sign_data/kaggle/working/roadsigndetection/train/labels/road673.txt  \n",
            "  inflating: /content/road_sign_data/kaggle/working/roadsigndetection/train/labels/road149.txt  \n",
            "  inflating: /content/road_sign_data/kaggle/working/roadsigndetection/train/labels/road861.txt  \n",
            "  inflating: /content/road_sign_data/kaggle/working/roadsigndetection/train/labels/road250.txt  \n",
            "  inflating: /content/road_sign_data/kaggle/working/roadsigndetection/train/labels/road829.txt  \n",
            "  inflating: /content/road_sign_data/kaggle/working/roadsigndetection/train/labels/road781.txt  \n",
            "  inflating: /content/road_sign_data/kaggle/working/roadsigndetection/train/labels/road580.txt  \n",
            "  inflating: /content/road_sign_data/kaggle/working/roadsigndetection/train/labels/road372.txt  \n",
            "  inflating: /content/road_sign_data/kaggle/working/roadsigndetection/train/labels/road212.txt  \n",
            "  inflating: /content/road_sign_data/kaggle/working/roadsigndetection/train/labels/road704.txt  \n",
            "  inflating: /content/road_sign_data/kaggle/working/roadsigndetection/train/labels/road858.txt  \n",
            "  inflating: /content/road_sign_data/kaggle/working/roadsigndetection/train/labels/road417.txt  \n",
            "  inflating: /content/road_sign_data/kaggle/working/roadsigndetection/train/labels/road306.txt  \n",
            "  inflating: /content/road_sign_data/kaggle/working/roadsigndetection/train/labels/road214.txt  \n",
            "  inflating: /content/road_sign_data/kaggle/working/roadsigndetection/train/labels/road521.txt  \n",
            "  inflating: /content/road_sign_data/kaggle/working/roadsigndetection/train/labels/road146.txt  \n",
            "  inflating: /content/road_sign_data/kaggle/working/roadsigndetection/train/labels/road130.txt  \n",
            "  inflating: /content/road_sign_data/kaggle/working/roadsigndetection/train/labels/road875.txt  \n",
            "  inflating: /content/road_sign_data/kaggle/working/roadsigndetection/train/labels/road276.txt  \n",
            "  inflating: /content/road_sign_data/kaggle/working/roadsigndetection/train/labels/road308.txt  \n",
            "  inflating: /content/road_sign_data/kaggle/working/roadsigndetection/train/labels/road786.txt  \n",
            "  inflating: /content/road_sign_data/kaggle/working/roadsigndetection/train/labels/road721.txt  \n",
            "  inflating: /content/road_sign_data/kaggle/working/roadsigndetection/train/labels/road452.txt  \n",
            "  inflating: /content/road_sign_data/kaggle/working/roadsigndetection/train/labels/road599.txt  \n",
            "  inflating: /content/road_sign_data/kaggle/working/roadsigndetection/train/labels/road497.txt  \n",
            "  inflating: /content/road_sign_data/kaggle/working/roadsigndetection/train/labels/road667.txt  \n",
            "  inflating: /content/road_sign_data/kaggle/working/roadsigndetection/train/labels/road135.txt  \n",
            "  inflating: /content/road_sign_data/kaggle/working/roadsigndetection/train/labels/road1.txt  \n",
            "  inflating: /content/road_sign_data/kaggle/working/roadsigndetection/train/labels/road364.txt  \n",
            "  inflating: /content/road_sign_data/kaggle/working/roadsigndetection/train/labels/road263.txt  \n",
            "  inflating: /content/road_sign_data/kaggle/working/roadsigndetection/train/labels/road770.txt  \n",
            "  inflating: /content/road_sign_data/kaggle/working/roadsigndetection/train/labels/road835.txt  \n",
            "  inflating: /content/road_sign_data/kaggle/working/roadsigndetection/train/labels/road133.txt  \n",
            "  inflating: /content/road_sign_data/kaggle/working/roadsigndetection/train/labels/road551.txt  \n",
            "  inflating: /content/road_sign_data/kaggle/working/roadsigndetection/train/labels/road529.txt  \n",
            "  inflating: /content/road_sign_data/kaggle/working/roadsigndetection/train/labels/road443.txt  \n",
            "  inflating: /content/road_sign_data/kaggle/working/roadsigndetection/train/labels/road335.txt  \n",
            "  inflating: /content/road_sign_data/kaggle/working/roadsigndetection/train/labels/road63.txt  \n",
            "  inflating: /content/road_sign_data/kaggle/working/roadsigndetection/train/labels/road681.txt  \n",
            "  inflating: /content/road_sign_data/kaggle/working/roadsigndetection/train/labels/road416.txt  \n",
            "  inflating: /content/road_sign_data/kaggle/working/roadsigndetection/train/labels/road802.txt  \n",
            "  inflating: /content/road_sign_data/kaggle/working/roadsigndetection/train/labels/road368.txt  \n",
            "  inflating: /content/road_sign_data/kaggle/working/roadsigndetection/train/labels/road243.txt  \n",
            "  inflating: /content/road_sign_data/kaggle/working/roadsigndetection/train/labels/road79.txt  \n",
            "  inflating: /content/road_sign_data/kaggle/working/roadsigndetection/train/labels/road535.txt  \n",
            "  inflating: /content/road_sign_data/kaggle/working/roadsigndetection/train/labels/road652.txt  \n",
            "  inflating: /content/road_sign_data/kaggle/working/roadsigndetection/train/labels/road819.txt  \n",
            "  inflating: /content/road_sign_data/kaggle/working/roadsigndetection/train/labels/road800.txt  \n",
            "  inflating: /content/road_sign_data/kaggle/working/roadsigndetection/train/labels/road636.txt  \n",
            "  inflating: /content/road_sign_data/kaggle/working/roadsigndetection/train/labels/road645.txt  \n",
            "  inflating: /content/road_sign_data/kaggle/working/roadsigndetection/train/labels/road439.txt  \n",
            "  inflating: /content/road_sign_data/kaggle/working/roadsigndetection/train/labels/road560.txt  \n",
            "  inflating: /content/road_sign_data/kaggle/working/roadsigndetection/train/labels/road170.txt  \n",
            "  inflating: /content/road_sign_data/kaggle/working/roadsigndetection/train/labels/road291.txt  \n",
            "  inflating: /content/road_sign_data/kaggle/working/roadsigndetection/train/labels/road396.txt  \n",
            "  inflating: /content/road_sign_data/kaggle/working/roadsigndetection/train/labels/road736.txt  \n",
            "  inflating: /content/road_sign_data/kaggle/working/roadsigndetection/train/labels/road559.txt  \n",
            "  inflating: /content/road_sign_data/kaggle/working/roadsigndetection/train/labels/road614.txt  \n",
            "  inflating: /content/road_sign_data/kaggle/working/roadsigndetection/train/labels/road286.txt  \n",
            "  inflating: /content/road_sign_data/kaggle/working/roadsigndetection/train/labels/road11.txt  \n",
            "  inflating: /content/road_sign_data/kaggle/working/roadsigndetection/train/labels/road536.txt  \n",
            "  inflating: /content/road_sign_data/kaggle/working/roadsigndetection/train/labels/road97.txt  \n",
            "  inflating: /content/road_sign_data/kaggle/working/roadsigndetection/train/labels/road375.txt  \n",
            "  inflating: /content/road_sign_data/kaggle/working/roadsigndetection/train/labels/road41.txt  \n",
            "  inflating: /content/road_sign_data/kaggle/working/roadsigndetection/train/labels/road459.txt  \n",
            "  inflating: /content/road_sign_data/kaggle/working/roadsigndetection/train/labels/road467.txt  \n",
            "  inflating: /content/road_sign_data/kaggle/working/roadsigndetection/train/labels/road349.txt  \n",
            "  inflating: /content/road_sign_data/kaggle/working/roadsigndetection/train/labels/road581.txt  \n",
            "  inflating: /content/road_sign_data/kaggle/working/roadsigndetection/train/labels/road172.txt  \n",
            "  inflating: /content/road_sign_data/kaggle/working/roadsigndetection/train/labels/road13.txt  \n",
            "  inflating: /content/road_sign_data/kaggle/working/roadsigndetection/train/labels/road18.txt  \n",
            "  inflating: /content/road_sign_data/kaggle/working/roadsigndetection/train/labels/road56.txt  \n",
            "  inflating: /content/road_sign_data/kaggle/working/roadsigndetection/train/labels/road111.txt  \n",
            "  inflating: /content/road_sign_data/kaggle/working/roadsigndetection/train/labels/road40.txt  \n",
            "  inflating: /content/road_sign_data/kaggle/working/roadsigndetection/train/labels/road402.txt  \n",
            "  inflating: /content/road_sign_data/kaggle/working/roadsigndetection/train/labels/road44.txt  \n",
            "  inflating: /content/road_sign_data/kaggle/working/roadsigndetection/train/labels/road660.txt  \n",
            "  inflating: /content/road_sign_data/kaggle/working/roadsigndetection/train/labels/road9.txt  \n",
            "  inflating: /content/road_sign_data/kaggle/working/roadsigndetection/train/labels/road616.txt  \n",
            "  inflating: /content/road_sign_data/kaggle/working/roadsigndetection/train/labels/road204.txt  \n",
            "  inflating: /content/road_sign_data/kaggle/working/roadsigndetection/train/labels/road528.txt  \n",
            "  inflating: /content/road_sign_data/kaggle/working/roadsigndetection/train/labels/road67.txt  \n",
            "  inflating: /content/road_sign_data/kaggle/working/roadsigndetection/train/labels/road822.txt  \n",
            "  inflating: /content/road_sign_data/kaggle/working/roadsigndetection/train/labels/road68.txt  \n",
            "  inflating: /content/road_sign_data/kaggle/working/roadsigndetection/train/labels/road425.txt  \n",
            "  inflating: /content/road_sign_data/kaggle/working/roadsigndetection/train/labels/road152.txt  \n",
            "  inflating: /content/road_sign_data/kaggle/working/roadsigndetection/train/labels/road65.txt  \n",
            "  inflating: /content/road_sign_data/kaggle/working/roadsigndetection/train/labels/road36.txt  \n",
            "  inflating: /content/road_sign_data/kaggle/working/roadsigndetection/train/labels/road290.txt  \n",
            "  inflating: /content/road_sign_data/kaggle/working/roadsigndetection/train/labels/road475.txt  \n",
            "  inflating: /content/road_sign_data/kaggle/working/roadsigndetection/train/labels/road489.txt  \n",
            "  inflating: /content/road_sign_data/kaggle/working/roadsigndetection/train/labels/road821.txt  \n",
            "  inflating: /content/road_sign_data/kaggle/working/roadsigndetection/train/labels/road495.txt  \n",
            "  inflating: /content/road_sign_data/kaggle/working/roadsigndetection/train/labels/road860.txt  \n",
            "  inflating: /content/road_sign_data/kaggle/working/roadsigndetection/train/labels/road346.txt  \n",
            "  inflating: /content/road_sign_data/kaggle/working/roadsigndetection/train/labels/road359.txt  \n",
            "  inflating: /content/road_sign_data/kaggle/working/roadsigndetection/train/labels/road132.txt  \n",
            "  inflating: /content/road_sign_data/kaggle/working/roadsigndetection/train/labels/road266.txt  \n",
            "  inflating: /content/road_sign_data/kaggle/working/roadsigndetection/train/labels/road873.txt  \n",
            "  inflating: /content/road_sign_data/kaggle/working/roadsigndetection/train/labels/road772.txt  \n",
            "  inflating: /content/road_sign_data/kaggle/working/roadsigndetection/train/labels/road481.txt  \n",
            "  inflating: /content/road_sign_data/kaggle/working/roadsigndetection/train/labels/road395.txt  \n",
            "  inflating: /content/road_sign_data/kaggle/working/roadsigndetection/train/labels/road317.txt  \n",
            "  inflating: /content/road_sign_data/kaggle/working/roadsigndetection/train/labels/road26.txt  \n",
            "   creating: /content/road_sign_data/kaggle/working/roadsigndetection/train/images/\n",
            "  inflating: /content/road_sign_data/kaggle/working/roadsigndetection/train/images/road591.png  \n",
            "  inflating: /content/road_sign_data/kaggle/working/roadsigndetection/train/images/road227.png  \n",
            "  inflating: /content/road_sign_data/kaggle/working/roadsigndetection/train/images/road681.png  \n",
            "  inflating: /content/road_sign_data/kaggle/working/roadsigndetection/train/images/road458.png  \n",
            "  inflating: /content/road_sign_data/kaggle/working/roadsigndetection/train/images/road90.png  \n",
            "  inflating: /content/road_sign_data/kaggle/working/roadsigndetection/train/images/road832.png  \n",
            "  inflating: /content/road_sign_data/kaggle/working/roadsigndetection/train/images/road615.png  \n",
            "  inflating: /content/road_sign_data/kaggle/working/roadsigndetection/train/images/road667.png  \n",
            "  inflating: /content/road_sign_data/kaggle/working/roadsigndetection/train/images/road728.png  \n",
            "  inflating: /content/road_sign_data/kaggle/working/roadsigndetection/train/images/road19.png  \n",
            "  inflating: /content/road_sign_data/kaggle/working/roadsigndetection/train/images/road124.png  \n",
            "  inflating: /content/road_sign_data/kaggle/working/roadsigndetection/train/images/road512.png  \n",
            "  inflating: /content/road_sign_data/kaggle/working/roadsigndetection/train/images/road351.png  \n",
            "  inflating: /content/road_sign_data/kaggle/working/roadsigndetection/train/images/road29.png  \n",
            "  inflating: /content/road_sign_data/kaggle/working/roadsigndetection/train/images/road194.png  \n",
            "  inflating: /content/road_sign_data/kaggle/working/roadsigndetection/train/images/road160.png  \n",
            "  inflating: /content/road_sign_data/kaggle/working/roadsigndetection/train/images/road654.png  \n",
            "  inflating: /content/road_sign_data/kaggle/working/roadsigndetection/train/images/road679.png  \n",
            "  inflating: /content/road_sign_data/kaggle/working/roadsigndetection/train/images/road328.png  \n",
            "  inflating: /content/road_sign_data/kaggle/working/roadsigndetection/train/images/road493.png  \n",
            "  inflating: /content/road_sign_data/kaggle/working/roadsigndetection/train/images/road22.png  \n",
            "  inflating: /content/road_sign_data/kaggle/working/roadsigndetection/train/images/road170.png  \n",
            "  inflating: /content/road_sign_data/kaggle/working/roadsigndetection/train/images/road621.png  \n",
            "  inflating: /content/road_sign_data/kaggle/working/roadsigndetection/train/images/road285.png  \n",
            "  inflating: /content/road_sign_data/kaggle/working/roadsigndetection/train/images/road147.png  \n",
            "  inflating: /content/road_sign_data/kaggle/working/roadsigndetection/train/images/road122.png  \n",
            "  inflating: /content/road_sign_data/kaggle/working/roadsigndetection/train/images/road32.png  \n",
            "  inflating: /content/road_sign_data/kaggle/working/roadsigndetection/train/images/road599.png  \n",
            "  inflating: /content/road_sign_data/kaggle/working/roadsigndetection/train/images/road674.png  \n",
            "  inflating: /content/road_sign_data/kaggle/working/roadsigndetection/train/images/road870.png  \n",
            "  inflating: /content/road_sign_data/kaggle/working/roadsigndetection/train/images/road451.png  \n",
            "  inflating: /content/road_sign_data/kaggle/working/roadsigndetection/train/images/road200.png  \n",
            "  inflating: /content/road_sign_data/kaggle/working/roadsigndetection/train/images/road524.png  \n",
            "  inflating: /content/road_sign_data/kaggle/working/roadsigndetection/train/images/road765.png  \n",
            "  inflating: /content/road_sign_data/kaggle/working/roadsigndetection/train/images/road445.png  \n",
            "  inflating: /content/road_sign_data/kaggle/working/roadsigndetection/train/images/road449.png  \n",
            "  inflating: /content/road_sign_data/kaggle/working/roadsigndetection/train/images/road117.png  \n",
            "  inflating: /content/road_sign_data/kaggle/working/roadsigndetection/train/images/road499.png  \n",
            "  inflating: /content/road_sign_data/kaggle/working/roadsigndetection/train/images/road736.png  \n",
            "  inflating: /content/road_sign_data/kaggle/working/roadsigndetection/train/images/road810.png  \n",
            "  inflating: /content/road_sign_data/kaggle/working/roadsigndetection/train/images/road763.png  \n",
            "  inflating: /content/road_sign_data/kaggle/working/roadsigndetection/train/images/road708.png  \n",
            "  inflating: /content/road_sign_data/kaggle/working/roadsigndetection/train/images/road827.png  \n",
            "  inflating: /content/road_sign_data/kaggle/working/roadsigndetection/train/images/road825.png  \n",
            "  inflating: /content/road_sign_data/kaggle/working/roadsigndetection/train/images/road801.png  \n",
            "  inflating: /content/road_sign_data/kaggle/working/roadsigndetection/train/images/road375.png  \n",
            "  inflating: /content/road_sign_data/kaggle/working/roadsigndetection/train/images/road13.png  \n",
            "  inflating: /content/road_sign_data/kaggle/working/roadsigndetection/train/images/road83.png  \n",
            "  inflating: /content/road_sign_data/kaggle/working/roadsigndetection/train/images/road425.png  \n",
            "  inflating: /content/road_sign_data/kaggle/working/roadsigndetection/train/images/road444.png  \n",
            "  inflating: /content/road_sign_data/kaggle/working/roadsigndetection/train/images/road746.png  \n",
            "  inflating: /content/road_sign_data/kaggle/working/roadsigndetection/train/images/road571.png  \n",
            "  inflating: /content/road_sign_data/kaggle/working/roadsigndetection/train/images/road450.png  \n",
            "  inflating: /content/road_sign_data/kaggle/working/roadsigndetection/train/images/road8.png  \n",
            "  inflating: /content/road_sign_data/kaggle/working/roadsigndetection/train/images/road15.png  \n",
            "  inflating: /content/road_sign_data/kaggle/working/roadsigndetection/train/images/road823.png  \n",
            "  inflating: /content/road_sign_data/kaggle/working/roadsigndetection/train/images/road489.png  \n",
            "  inflating: /content/road_sign_data/kaggle/working/roadsigndetection/train/images/road420.png  \n",
            "  inflating: /content/road_sign_data/kaggle/working/roadsigndetection/train/images/road299.png  \n",
            "  inflating: /content/road_sign_data/kaggle/working/roadsigndetection/train/images/road840.png  \n",
            "  inflating: /content/road_sign_data/kaggle/working/roadsigndetection/train/images/road496.png  \n",
            "  inflating: /content/road_sign_data/kaggle/working/roadsigndetection/train/images/road398.png  \n",
            "  inflating: /content/road_sign_data/kaggle/working/roadsigndetection/train/images/road662.png  \n",
            "  inflating: /content/road_sign_data/kaggle/working/roadsigndetection/train/images/road590.png  \n",
            "  inflating: /content/road_sign_data/kaggle/working/roadsigndetection/train/images/road366.png  \n",
            "  inflating: /content/road_sign_data/kaggle/working/roadsigndetection/train/images/road434.png  \n",
            "  inflating: /content/road_sign_data/kaggle/working/roadsigndetection/train/images/road143.png  \n",
            "  inflating: /content/road_sign_data/kaggle/working/roadsigndetection/train/images/road465.png  \n",
            "  inflating: /content/road_sign_data/kaggle/working/roadsigndetection/train/images/road789.png  \n",
            "  inflating: /content/road_sign_data/kaggle/working/roadsigndetection/train/images/road113.png  \n",
            "  inflating: /content/road_sign_data/kaggle/working/roadsigndetection/train/images/road752.png  \n",
            "  inflating: /content/road_sign_data/kaggle/working/roadsigndetection/train/images/road829.png  \n",
            "  inflating: /content/road_sign_data/kaggle/working/roadsigndetection/train/images/road876.png  \n",
            "  inflating: /content/road_sign_data/kaggle/working/roadsigndetection/train/images/road52.png  \n",
            "  inflating: /content/road_sign_data/kaggle/working/roadsigndetection/train/images/road265.png  \n",
            "  inflating: /content/road_sign_data/kaggle/working/roadsigndetection/train/images/road850.png  \n",
            "  inflating: /content/road_sign_data/kaggle/working/roadsigndetection/train/images/road602.png  \n",
            "  inflating: /content/road_sign_data/kaggle/working/roadsigndetection/train/images/road824.png  \n",
            "  inflating: /content/road_sign_data/kaggle/working/roadsigndetection/train/images/road849.png  \n",
            "  inflating: /content/road_sign_data/kaggle/working/roadsigndetection/train/images/road110.png  \n",
            "  inflating: /content/road_sign_data/kaggle/working/roadsigndetection/train/images/road312.png  \n",
            "  inflating: /content/road_sign_data/kaggle/working/roadsigndetection/train/images/road240.png  \n",
            "  inflating: /content/road_sign_data/kaggle/working/roadsigndetection/train/images/road573.png  \n",
            "  inflating: /content/road_sign_data/kaggle/working/roadsigndetection/train/images/road243.png  \n",
            "  inflating: /content/road_sign_data/kaggle/working/roadsigndetection/train/images/road770.png  \n",
            "  inflating: /content/road_sign_data/kaggle/working/roadsigndetection/train/images/road719.png  \n",
            "  inflating: /content/road_sign_data/kaggle/working/roadsigndetection/train/images/road755.png  \n",
            "  inflating: /content/road_sign_data/kaggle/working/roadsigndetection/train/images/road684.png  \n",
            "  inflating: /content/road_sign_data/kaggle/working/roadsigndetection/train/images/road604.png  \n",
            "  inflating: /content/road_sign_data/kaggle/working/roadsigndetection/train/images/road148.png  \n",
            "  inflating: /content/road_sign_data/kaggle/working/roadsigndetection/train/images/road611.png  \n",
            "  inflating: /content/road_sign_data/kaggle/working/roadsigndetection/train/images/road720.png  \n",
            "  inflating: /content/road_sign_data/kaggle/working/roadsigndetection/train/images/road418.png  \n",
            "  inflating: /content/road_sign_data/kaggle/working/roadsigndetection/train/images/road422.png  \n",
            "  inflating: /content/road_sign_data/kaggle/working/roadsigndetection/train/images/road315.png  \n",
            "  inflating: /content/road_sign_data/kaggle/working/roadsigndetection/train/images/road704.png  \n",
            "  inflating: /content/road_sign_data/kaggle/working/roadsigndetection/train/images/road28.png  \n",
            "  inflating: /content/road_sign_data/kaggle/working/roadsigndetection/train/images/road149.png  \n",
            "  inflating: /content/road_sign_data/kaggle/working/roadsigndetection/train/images/road485.png  \n",
            "  inflating: /content/road_sign_data/kaggle/working/roadsigndetection/train/images/road33.png  \n",
            "  inflating: /content/road_sign_data/kaggle/working/roadsigndetection/train/images/road646.png  \n",
            "  inflating: /content/road_sign_data/kaggle/working/roadsigndetection/train/images/road783.png  \n",
            "  inflating: /content/road_sign_data/kaggle/working/roadsigndetection/train/images/road551.png  \n",
            "  inflating: /content/road_sign_data/kaggle/working/roadsigndetection/train/images/road410.png  \n",
            "  inflating: /content/road_sign_data/kaggle/working/roadsigndetection/train/images/road18.png  \n",
            "  inflating: /content/road_sign_data/kaggle/working/roadsigndetection/train/images/road259.png  \n",
            "  inflating: /content/road_sign_data/kaggle/working/roadsigndetection/train/images/road346.png  \n",
            "  inflating: /content/road_sign_data/kaggle/working/roadsigndetection/train/images/road737.png  \n",
            "  inflating: /content/road_sign_data/kaggle/working/roadsigndetection/train/images/road120.png  \n",
            "  inflating: /content/road_sign_data/kaggle/working/roadsigndetection/train/images/road10.png  \n",
            "  inflating: /content/road_sign_data/kaggle/working/roadsigndetection/train/images/road403.png  \n",
            "  inflating: /content/road_sign_data/kaggle/working/roadsigndetection/train/images/road851.png  \n",
            "  inflating: /content/road_sign_data/kaggle/working/roadsigndetection/train/images/road88.png  \n",
            "  inflating: /content/road_sign_data/kaggle/working/roadsigndetection/train/images/road854.png  \n",
            "  inflating: /content/road_sign_data/kaggle/working/roadsigndetection/train/images/road326.png  \n",
            "  inflating: /content/road_sign_data/kaggle/working/roadsigndetection/train/images/road336.png  \n",
            "  inflating: /content/road_sign_data/kaggle/working/roadsigndetection/train/images/road56.png  \n",
            "  inflating: /content/road_sign_data/kaggle/working/roadsigndetection/train/images/road635.png  \n",
            "  inflating: /content/road_sign_data/kaggle/working/roadsigndetection/train/images/road554.png  \n",
            "  inflating: /content/road_sign_data/kaggle/working/roadsigndetection/train/images/road859.png  \n",
            "  inflating: /content/road_sign_data/kaggle/working/roadsigndetection/train/images/road521.png  \n",
            "  inflating: /content/road_sign_data/kaggle/working/roadsigndetection/train/images/road175.png  \n",
            "  inflating: /content/road_sign_data/kaggle/working/roadsigndetection/train/images/road146.png  \n",
            "  inflating: /content/road_sign_data/kaggle/working/roadsigndetection/train/images/road5.png  \n",
            "  inflating: /content/road_sign_data/kaggle/working/roadsigndetection/train/images/road249.png  \n",
            "  inflating: /content/road_sign_data/kaggle/working/roadsigndetection/train/images/road600.png  \n",
            "  inflating: /content/road_sign_data/kaggle/working/roadsigndetection/train/images/road855.png  \n",
            "  inflating: /content/road_sign_data/kaggle/working/roadsigndetection/train/images/road313.png  \n",
            "  inflating: /content/road_sign_data/kaggle/working/roadsigndetection/train/images/road461.png  \n",
            "  inflating: /content/road_sign_data/kaggle/working/roadsigndetection/train/images/road43.png  \n",
            "  inflating: /content/road_sign_data/kaggle/working/roadsigndetection/train/images/road453.png  \n",
            "  inflating: /content/road_sign_data/kaggle/working/roadsigndetection/train/images/road459.png  \n",
            "  inflating: /content/road_sign_data/kaggle/working/roadsigndetection/train/images/road691.png  \n",
            "  inflating: /content/road_sign_data/kaggle/working/roadsigndetection/train/images/road226.png  \n",
            "  inflating: /content/road_sign_data/kaggle/working/roadsigndetection/train/images/road714.png  \n",
            "  inflating: /content/road_sign_data/kaggle/working/roadsigndetection/train/images/road252.png  \n",
            "  inflating: /content/road_sign_data/kaggle/working/roadsigndetection/train/images/road557.png  \n",
            "  inflating: /content/road_sign_data/kaggle/working/roadsigndetection/train/images/road592.png  \n",
            "  inflating: /content/road_sign_data/kaggle/working/roadsigndetection/train/images/road219.png  \n",
            "  inflating: /content/road_sign_data/kaggle/working/roadsigndetection/train/images/road456.png  \n",
            "  inflating: /content/road_sign_data/kaggle/working/roadsigndetection/train/images/road441.png  \n",
            "  inflating: /content/road_sign_data/kaggle/working/roadsigndetection/train/images/road333.png  \n",
            "  inflating: /content/road_sign_data/kaggle/working/roadsigndetection/train/images/road424.png  \n",
            "  inflating: /content/road_sign_data/kaggle/working/roadsigndetection/train/images/road111.png  \n",
            "  inflating: /content/road_sign_data/kaggle/working/roadsigndetection/train/images/road390.png  \n",
            "  inflating: /content/road_sign_data/kaggle/working/roadsigndetection/train/images/road692.png  \n",
            "  inflating: /content/road_sign_data/kaggle/working/roadsigndetection/train/images/road291.png  \n",
            "  inflating: /content/road_sign_data/kaggle/working/roadsigndetection/train/images/road819.png  \n",
            "  inflating: /content/road_sign_data/kaggle/working/roadsigndetection/train/images/road125.png  \n",
            "  inflating: /content/road_sign_data/kaggle/working/roadsigndetection/train/images/road93.png  \n",
            "  inflating: /content/road_sign_data/kaggle/working/roadsigndetection/train/images/road321.png  \n",
            "  inflating: /content/road_sign_data/kaggle/working/roadsigndetection/train/images/road235.png  \n",
            "  inflating: /content/road_sign_data/kaggle/working/roadsigndetection/train/images/road380.png  \n",
            "  inflating: /content/road_sign_data/kaggle/working/roadsigndetection/train/images/road96.png  \n",
            "  inflating: /content/road_sign_data/kaggle/working/roadsigndetection/train/images/road581.png  \n",
            "  inflating: /content/road_sign_data/kaggle/working/roadsigndetection/train/images/road495.png  \n",
            "  inflating: /content/road_sign_data/kaggle/working/roadsigndetection/train/images/road500.png  \n",
            "  inflating: /content/road_sign_data/kaggle/working/roadsigndetection/train/images/road460.png  \n",
            "  inflating: /content/road_sign_data/kaggle/working/roadsigndetection/train/images/road413.png  \n",
            "  inflating: /content/road_sign_data/kaggle/working/roadsigndetection/train/images/road209.png  \n",
            "  inflating: /content/road_sign_data/kaggle/working/roadsigndetection/train/images/road644.png  \n",
            "  inflating: /content/road_sign_data/kaggle/working/roadsigndetection/train/images/road290.png  \n",
            "  inflating: /content/road_sign_data/kaggle/working/roadsigndetection/train/images/road653.png  \n",
            "  inflating: /content/road_sign_data/kaggle/working/roadsigndetection/train/images/road118.png  \n",
            "  inflating: /content/road_sign_data/kaggle/working/roadsigndetection/train/images/road196.png  \n",
            "  inflating: /content/road_sign_data/kaggle/working/roadsigndetection/train/images/road62.png  \n",
            "  inflating: /content/road_sign_data/kaggle/working/roadsigndetection/train/images/road158.png  \n",
            "  inflating: /content/road_sign_data/kaggle/working/roadsigndetection/train/images/road270.png  \n",
            "  inflating: /content/road_sign_data/kaggle/working/roadsigndetection/train/images/road178.png  \n",
            "  inflating: /content/road_sign_data/kaggle/working/roadsigndetection/train/images/road152.png  \n",
            "  inflating: /content/road_sign_data/kaggle/working/roadsigndetection/train/images/road721.png  \n",
            "  inflating: /content/road_sign_data/kaggle/working/roadsigndetection/train/images/road53.png  \n",
            "  inflating: /content/road_sign_data/kaggle/working/roadsigndetection/train/images/road99.png  \n",
            "  inflating: /content/road_sign_data/kaggle/working/roadsigndetection/train/images/road164.png  \n",
            "  inflating: /content/road_sign_data/kaggle/working/roadsigndetection/train/images/road239.png  \n",
            "  inflating: /content/road_sign_data/kaggle/working/roadsigndetection/train/images/road211.png  \n",
            "  inflating: /content/road_sign_data/kaggle/working/roadsigndetection/train/images/road267.png  \n",
            "  inflating: /content/road_sign_data/kaggle/working/roadsigndetection/train/images/road114.png  \n",
            "  inflating: /content/road_sign_data/kaggle/working/roadsigndetection/train/images/road414.png  \n",
            "  inflating: /content/road_sign_data/kaggle/working/roadsigndetection/train/images/road695.png  \n",
            "  inflating: /content/road_sign_data/kaggle/working/roadsigndetection/train/images/road432.png  \n",
            "  inflating: /content/road_sign_data/kaggle/working/roadsigndetection/train/images/road247.png  \n",
            "  inflating: /content/road_sign_data/kaggle/working/roadsigndetection/train/images/road431.png  \n",
            "  inflating: /content/road_sign_data/kaggle/working/roadsigndetection/train/images/road618.png  \n",
            "  inflating: /content/road_sign_data/kaggle/working/roadsigndetection/train/images/road845.png  \n",
            "  inflating: /content/road_sign_data/kaggle/working/roadsigndetection/train/images/road537.png  \n",
            "  inflating: /content/road_sign_data/kaggle/working/roadsigndetection/train/images/road802.png  \n",
            "  inflating: /content/road_sign_data/kaggle/working/roadsigndetection/train/images/road251.png  \n",
            "  inflating: /content/road_sign_data/kaggle/working/roadsigndetection/train/images/road471.png  \n",
            "  inflating: /content/road_sign_data/kaggle/working/roadsigndetection/train/images/road818.png  \n",
            "  inflating: /content/road_sign_data/kaggle/working/roadsigndetection/train/images/road609.png  \n",
            "  inflating: /content/road_sign_data/kaggle/working/roadsigndetection/train/images/road256.png  \n",
            "  inflating: /content/road_sign_data/kaggle/working/roadsigndetection/train/images/road392.png  \n",
            "  inflating: /content/road_sign_data/kaggle/working/roadsigndetection/train/images/road139.png  \n",
            "  inflating: /content/road_sign_data/kaggle/working/roadsigndetection/train/images/road497.png  \n",
            "  inflating: /content/road_sign_data/kaggle/working/roadsigndetection/train/images/road494.png  \n",
            "  inflating: /content/road_sign_data/kaggle/working/roadsigndetection/train/images/road144.png  \n",
            "  inflating: /content/road_sign_data/kaggle/working/roadsigndetection/train/images/road795.png  \n",
            "  inflating: /content/road_sign_data/kaggle/working/roadsigndetection/train/images/road608.png  \n",
            "  inflating: /content/road_sign_data/kaggle/working/roadsigndetection/train/images/road182.png  \n",
            "  inflating: /content/road_sign_data/kaggle/working/roadsigndetection/train/images/road624.png  \n",
            "  inflating: /content/road_sign_data/kaggle/working/roadsigndetection/train/images/road751.png  \n",
            "  inflating: /content/road_sign_data/kaggle/working/roadsigndetection/train/images/road236.png  \n",
            "  inflating: /content/road_sign_data/kaggle/working/roadsigndetection/train/images/road266.png  \n",
            "  inflating: /content/road_sign_data/kaggle/working/roadsigndetection/train/images/road794.png  \n",
            "  inflating: /content/road_sign_data/kaggle/working/roadsigndetection/train/images/road66.png  \n",
            "  inflating: /content/road_sign_data/kaggle/working/roadsigndetection/train/images/road773.png  \n",
            "  inflating: /content/road_sign_data/kaggle/working/roadsigndetection/train/images/road676.png  \n",
            "  inflating: /content/road_sign_data/kaggle/working/roadsigndetection/train/images/road350.png  \n",
            "  inflating: /content/road_sign_data/kaggle/working/roadsigndetection/train/images/road568.png  \n",
            "  inflating: /content/road_sign_data/kaggle/working/roadsigndetection/train/images/road690.png  \n",
            "  inflating: /content/road_sign_data/kaggle/working/roadsigndetection/train/images/road575.png  \n",
            "  inflating: /content/road_sign_data/kaggle/working/roadsigndetection/train/images/road382.png  \n",
            "  inflating: /content/road_sign_data/kaggle/working/roadsigndetection/train/images/road831.png  \n",
            "  inflating: /content/road_sign_data/kaggle/working/roadsigndetection/train/images/road553.png  \n",
            "  inflating: /content/road_sign_data/kaggle/working/roadsigndetection/train/images/road131.png  \n",
            "  inflating: /content/road_sign_data/kaggle/working/roadsigndetection/train/images/road322.png  \n",
            "  inflating: /content/road_sign_data/kaggle/working/roadsigndetection/train/images/road167.png  \n",
            "  inflating: /content/road_sign_data/kaggle/working/roadsigndetection/train/images/road439.png  \n",
            "  inflating: /content/road_sign_data/kaggle/working/roadsigndetection/train/images/road203.png  \n",
            "  inflating: /content/road_sign_data/kaggle/working/roadsigndetection/train/images/road142.png  \n",
            "  inflating: /content/road_sign_data/kaggle/working/roadsigndetection/train/images/road693.png  \n",
            "  inflating: /content/road_sign_data/kaggle/working/roadsigndetection/train/images/road455.png  \n",
            "  inflating: /content/road_sign_data/kaggle/working/roadsigndetection/train/images/road64.png  \n",
            "  inflating: /content/road_sign_data/kaggle/working/roadsigndetection/train/images/road766.png  \n",
            "  inflating: /content/road_sign_data/kaggle/working/roadsigndetection/train/images/road204.png  \n",
            "  inflating: /content/road_sign_data/kaggle/working/roadsigndetection/train/images/road73.png  \n",
            "  inflating: /content/road_sign_data/kaggle/working/roadsigndetection/train/images/road754.png  \n",
            "  inflating: /content/road_sign_data/kaggle/working/roadsigndetection/train/images/road20.png  \n",
            "  inflating: /content/road_sign_data/kaggle/working/roadsigndetection/train/images/road61.png  \n",
            "  inflating: /content/road_sign_data/kaggle/working/roadsigndetection/train/images/road598.png  \n",
            "  inflating: /content/road_sign_data/kaggle/working/roadsigndetection/train/images/road359.png  \n",
            "  inflating: /content/road_sign_data/kaggle/working/roadsigndetection/train/images/road320.png  \n",
            "  inflating: /content/road_sign_data/kaggle/working/roadsigndetection/train/images/road809.png  \n",
            "  inflating: /content/road_sign_data/kaggle/working/roadsigndetection/train/images/road793.png  \n",
            "  inflating: /content/road_sign_data/kaggle/working/roadsigndetection/train/images/road640.png  \n",
            "  inflating: /content/road_sign_data/kaggle/working/roadsigndetection/train/images/road771.png  \n",
            "  inflating: /content/road_sign_data/kaggle/working/roadsigndetection/train/images/road340.png  \n",
            "  inflating: /content/road_sign_data/kaggle/working/roadsigndetection/train/images/road678.png  \n",
            "  inflating: /content/road_sign_data/kaggle/working/roadsigndetection/train/images/road526.png  \n",
            "  inflating: /content/road_sign_data/kaggle/working/roadsigndetection/train/images/road367.png  \n",
            "  inflating: /content/road_sign_data/kaggle/working/roadsigndetection/train/images/road844.png  \n",
            "  inflating: /content/road_sign_data/kaggle/working/roadsigndetection/train/images/road607.png  \n",
            "  inflating: /content/road_sign_data/kaggle/working/roadsigndetection/train/images/road126.png  \n",
            "  inflating: /content/road_sign_data/kaggle/working/roadsigndetection/train/images/road680.png  \n",
            "  inflating: /content/road_sign_data/kaggle/working/roadsigndetection/train/images/road580.png  \n",
            "  inflating: /content/road_sign_data/kaggle/working/roadsigndetection/train/images/road394.png  \n",
            "  inflating: /content/road_sign_data/kaggle/working/roadsigndetection/train/images/road837.png  \n",
            "  inflating: /content/road_sign_data/kaggle/working/roadsigndetection/train/images/road176.png  \n",
            "  inflating: /content/road_sign_data/kaggle/working/roadsigndetection/train/images/road813.png  \n",
            "  inflating: /content/road_sign_data/kaggle/working/roadsigndetection/train/images/road673.png  \n",
            "  inflating: /content/road_sign_data/kaggle/working/roadsigndetection/train/images/road230.png  \n",
            "  inflating: /content/road_sign_data/kaggle/working/roadsigndetection/train/images/road171.png  \n",
            "  inflating: /content/road_sign_data/kaggle/working/roadsigndetection/train/images/road34.png  \n",
            "  inflating: /content/road_sign_data/kaggle/working/roadsigndetection/train/images/road559.png  \n",
            "  inflating: /content/road_sign_data/kaggle/working/roadsigndetection/train/images/road107.png  \n",
            "  inflating: /content/road_sign_data/kaggle/working/roadsigndetection/train/images/road625.png  \n",
            "  inflating: /content/road_sign_data/kaggle/working/roadsigndetection/train/images/road50.png  \n",
            "  inflating: /content/road_sign_data/kaggle/working/roadsigndetection/train/images/road853.png  \n",
            "  inflating: /content/road_sign_data/kaggle/working/roadsigndetection/train/images/road482.png  \n",
            "  inflating: /content/road_sign_data/kaggle/working/roadsigndetection/train/images/road858.png  \n",
            "  inflating: /content/road_sign_data/kaggle/working/roadsigndetection/train/images/road4.png  \n",
            "  inflating: /content/road_sign_data/kaggle/working/roadsigndetection/train/images/road442.png  \n",
            "  inflating: /content/road_sign_data/kaggle/working/roadsigndetection/train/images/road760.png  \n",
            "  inflating: /content/road_sign_data/kaggle/working/roadsigndetection/train/images/road776.png  \n",
            "  inflating: /content/road_sign_data/kaggle/working/roadsigndetection/train/images/road656.png  \n",
            "  inflating: /content/road_sign_data/kaggle/working/roadsigndetection/train/images/road641.png  \n",
            "  inflating: /content/road_sign_data/kaggle/working/roadsigndetection/train/images/road241.png  \n",
            "  inflating: /content/road_sign_data/kaggle/working/roadsigndetection/train/images/road399.png  \n",
            "  inflating: /content/road_sign_data/kaggle/working/roadsigndetection/train/images/road217.png  \n",
            "  inflating: /content/road_sign_data/kaggle/working/roadsigndetection/train/images/road305.png  \n",
            "  inflating: /content/road_sign_data/kaggle/working/roadsigndetection/train/images/road337.png  \n",
            "  inflating: /content/road_sign_data/kaggle/working/roadsigndetection/train/images/road564.png  \n",
            "  inflating: /content/road_sign_data/kaggle/working/roadsigndetection/train/images/road867.png  \n",
            "  inflating: /content/road_sign_data/kaggle/working/roadsigndetection/train/images/road260.png  \n",
            "  inflating: /content/road_sign_data/kaggle/working/roadsigndetection/train/images/road614.png  \n",
            "  inflating: /content/road_sign_data/kaggle/working/roadsigndetection/train/images/road852.png  \n",
            "  inflating: /content/road_sign_data/kaggle/working/roadsigndetection/train/images/road212.png  \n",
            "  inflating: /content/road_sign_data/kaggle/working/roadsigndetection/train/images/road199.png  \n",
            "  inflating: /content/road_sign_data/kaggle/working/roadsigndetection/train/images/road726.png  \n",
            "  inflating: /content/road_sign_data/kaggle/working/roadsigndetection/train/images/road76.png  \n",
            "  inflating: /content/road_sign_data/kaggle/working/roadsigndetection/train/images/road297.png  \n",
            "  inflating: /content/road_sign_data/kaggle/working/roadsigndetection/train/images/road109.png  \n",
            "  inflating: /content/road_sign_data/kaggle/working/roadsigndetection/train/images/road796.png  \n",
            "  inflating: /content/road_sign_data/kaggle/working/roadsigndetection/train/images/road457.png  \n",
            "  inflating: /content/road_sign_data/kaggle/working/roadsigndetection/train/images/road572.png  \n",
            "  inflating: /content/road_sign_data/kaggle/working/roadsigndetection/train/images/road745.png  \n",
            "  inflating: /content/road_sign_data/kaggle/working/roadsigndetection/train/images/road279.png  \n",
            "  inflating: /content/road_sign_data/kaggle/working/roadsigndetection/train/images/road632.png  \n",
            "  inflating: /content/road_sign_data/kaggle/working/roadsigndetection/train/images/road48.png  \n",
            "  inflating: /content/road_sign_data/kaggle/working/roadsigndetection/train/images/road156.png  \n",
            "  inflating: /content/road_sign_data/kaggle/working/roadsigndetection/train/images/road303.png  \n",
            "  inflating: /content/road_sign_data/kaggle/working/roadsigndetection/train/images/road397.png  \n",
            "  inflating: /content/road_sign_data/kaggle/working/roadsigndetection/train/images/road374.png  \n",
            "  inflating: /content/road_sign_data/kaggle/working/roadsigndetection/train/images/road816.png  \n",
            "  inflating: /content/road_sign_data/kaggle/working/roadsigndetection/train/images/road329.png  \n",
            "  inflating: /content/road_sign_data/kaggle/working/roadsigndetection/train/images/road3.png  \n",
            "  inflating: /content/road_sign_data/kaggle/working/roadsigndetection/train/images/road368.png  \n",
            "  inflating: /content/road_sign_data/kaggle/working/roadsigndetection/train/images/road301.png  \n",
            "  inflating: /content/road_sign_data/kaggle/working/roadsigndetection/train/images/road709.png  \n",
            "  inflating: /content/road_sign_data/kaggle/working/roadsigndetection/train/images/road24.png  \n",
            "  inflating: /content/road_sign_data/kaggle/working/roadsigndetection/train/images/road45.png  \n",
            "  inflating: /content/road_sign_data/kaggle/working/roadsigndetection/train/images/road812.png  \n",
            "  inflating: /content/road_sign_data/kaggle/working/roadsigndetection/train/images/road860.png  \n",
            "  inflating: /content/road_sign_data/kaggle/working/roadsigndetection/train/images/road189.png  \n",
            "  inflating: /content/road_sign_data/kaggle/working/roadsigndetection/train/images/road222.png  \n",
            "  inflating: /content/road_sign_data/kaggle/working/roadsigndetection/train/images/road396.png  \n",
            "  inflating: /content/road_sign_data/kaggle/working/roadsigndetection/train/images/road347.png  \n",
            "  inflating: /content/road_sign_data/kaggle/working/roadsigndetection/train/images/road348.png  \n",
            "  inflating: /content/road_sign_data/kaggle/working/roadsigndetection/train/images/road280.png  \n",
            "  inflating: /content/road_sign_data/kaggle/working/roadsigndetection/train/images/road168.png  \n",
            "  inflating: /content/road_sign_data/kaggle/working/roadsigndetection/train/images/road570.png  \n",
            "  inflating: /content/road_sign_data/kaggle/working/roadsigndetection/train/images/road195.png  \n",
            "  inflating: /content/road_sign_data/kaggle/working/roadsigndetection/train/images/road835.png  \n",
            "  inflating: /content/road_sign_data/kaggle/working/roadsigndetection/train/images/road258.png  \n",
            "  inflating: /content/road_sign_data/kaggle/working/roadsigndetection/train/images/road699.png  \n",
            "  inflating: /content/road_sign_data/kaggle/working/roadsigndetection/train/images/road544.png  \n",
            "  inflating: /content/road_sign_data/kaggle/working/roadsigndetection/train/images/road531.png  \n",
            "  inflating: /content/road_sign_data/kaggle/working/roadsigndetection/train/images/road35.png  \n",
            "  inflating: /content/road_sign_data/kaggle/working/roadsigndetection/train/images/road560.png  \n",
            "  inflating: /content/road_sign_data/kaggle/working/roadsigndetection/train/images/road576.png  \n",
            "  inflating: /content/road_sign_data/kaggle/working/roadsigndetection/train/images/road734.png  \n",
            "  inflating: /content/road_sign_data/kaggle/working/roadsigndetection/train/images/road759.png  \n",
            "  inflating: /content/road_sign_data/kaggle/working/roadsigndetection/train/images/road767.png  \n",
            "  inflating: /content/road_sign_data/kaggle/working/roadsigndetection/train/images/road670.png  \n",
            "  inflating: /content/road_sign_data/kaggle/working/roadsigndetection/train/images/road648.png  \n",
            "  inflating: /content/road_sign_data/kaggle/working/roadsigndetection/train/images/road281.png  \n",
            "  inflating: /content/road_sign_data/kaggle/working/roadsigndetection/train/images/road286.png  \n",
            "  inflating: /content/road_sign_data/kaggle/working/roadsigndetection/train/images/road799.png  \n",
            "  inflating: /content/road_sign_data/kaggle/working/roadsigndetection/train/images/road155.png  \n",
            "  inflating: /content/road_sign_data/kaggle/working/roadsigndetection/train/images/road21.png  \n",
            "  inflating: /content/road_sign_data/kaggle/working/roadsigndetection/train/images/road651.png  \n",
            "  inflating: /content/road_sign_data/kaggle/working/roadsigndetection/train/images/road685.png  \n",
            "  inflating: /content/road_sign_data/kaggle/working/roadsigndetection/train/images/road293.png  \n",
            "  inflating: /content/road_sign_data/kaggle/working/roadsigndetection/train/images/road86.png  \n",
            "  inflating: /content/road_sign_data/kaggle/working/roadsigndetection/train/images/road697.png  \n",
            "  inflating: /content/road_sign_data/kaggle/working/roadsigndetection/train/images/road872.png  \n",
            "  inflating: /content/road_sign_data/kaggle/working/roadsigndetection/train/images/road101.png  \n",
            "  inflating: /content/road_sign_data/kaggle/working/roadsigndetection/train/images/road314.png  \n",
            "  inflating: /content/road_sign_data/kaggle/working/roadsigndetection/train/images/road868.png  \n",
            "  inflating: /content/road_sign_data/kaggle/working/roadsigndetection/train/images/road391.png  \n",
            "  inflating: /content/road_sign_data/kaggle/working/roadsigndetection/train/images/road263.png  \n",
            "  inflating: /content/road_sign_data/kaggle/working/roadsigndetection/train/images/road826.png  \n",
            "  inflating: /content/road_sign_data/kaggle/working/roadsigndetection/train/images/road132.png  \n",
            "  inflating: /content/road_sign_data/kaggle/working/roadsigndetection/train/images/road645.png  \n",
            "  inflating: /content/road_sign_data/kaggle/working/roadsigndetection/train/images/road84.png  \n",
            "  inflating: /content/road_sign_data/kaggle/working/roadsigndetection/train/images/road339.png  \n",
            "  inflating: /content/road_sign_data/kaggle/working/roadsigndetection/train/images/road848.png  \n",
            "  inflating: /content/road_sign_data/kaggle/working/roadsigndetection/train/images/road514.png  \n",
            "  inflating: /content/road_sign_data/kaggle/working/roadsigndetection/train/images/road355.png  \n",
            "  inflating: /content/road_sign_data/kaggle/working/roadsigndetection/train/images/road843.png  \n",
            "  inflating: /content/road_sign_data/kaggle/working/roadsigndetection/train/images/road574.png  \n",
            "  inflating: /content/road_sign_data/kaggle/working/roadsigndetection/train/images/road89.png  \n",
            "  inflating: /content/road_sign_data/kaggle/working/roadsigndetection/train/images/road606.png  \n",
            "  inflating: /content/road_sign_data/kaggle/working/roadsigndetection/train/images/road740.png  \n",
            "  inflating: /content/road_sign_data/kaggle/working/roadsigndetection/train/images/road808.png  \n",
            "  inflating: /content/road_sign_data/kaggle/working/roadsigndetection/train/images/road215.png  \n",
            "  inflating: /content/road_sign_data/kaggle/working/roadsigndetection/train/images/road668.png  \n",
            "  inflating: /content/road_sign_data/kaggle/working/roadsigndetection/train/images/road95.png  \n",
            "  inflating: /content/road_sign_data/kaggle/working/roadsigndetection/train/images/road462.png  \n",
            "  inflating: /content/road_sign_data/kaggle/working/roadsigndetection/train/images/road284.png  \n",
            "  inflating: /content/road_sign_data/kaggle/working/roadsigndetection/train/images/road569.png  \n",
            "  inflating: /content/road_sign_data/kaggle/working/roadsigndetection/train/images/road408.png  \n",
            "  inflating: /content/road_sign_data/kaggle/working/roadsigndetection/train/images/road423.png  \n",
            "  inflating: /content/road_sign_data/kaggle/working/roadsigndetection/train/images/road536.png  \n",
            "  inflating: /content/road_sign_data/kaggle/working/roadsigndetection/train/images/road287.png  \n",
            "  inflating: /content/road_sign_data/kaggle/working/roadsigndetection/train/images/road234.png  \n",
            "  inflating: /content/road_sign_data/kaggle/working/roadsigndetection/train/images/road725.png  \n",
            "  inflating: /content/road_sign_data/kaggle/working/roadsigndetection/train/images/road747.png  \n",
            "  inflating: /content/road_sign_data/kaggle/working/roadsigndetection/train/images/road179.png  \n",
            "  inflating: /content/road_sign_data/kaggle/working/roadsigndetection/train/images/road440.png  \n",
            "  inflating: /content/road_sign_data/kaggle/working/roadsigndetection/train/images/road316.png  \n",
            "  inflating: /content/road_sign_data/kaggle/working/roadsigndetection/train/images/road539.png  \n",
            "  inflating: /content/road_sign_data/kaggle/working/roadsigndetection/train/images/road206.png  \n",
            "  inflating: /content/road_sign_data/kaggle/working/roadsigndetection/train/images/road271.png  \n",
            "  inflating: /content/road_sign_data/kaggle/working/roadsigndetection/train/images/road82.png  \n",
            "  inflating: /content/road_sign_data/kaggle/working/roadsigndetection/train/images/road79.png  \n",
            "  inflating: /content/road_sign_data/kaggle/working/roadsigndetection/train/images/road665.png  \n",
            "  inflating: /content/road_sign_data/kaggle/working/roadsigndetection/train/images/road27.png  \n",
            "  inflating: /content/road_sign_data/kaggle/working/roadsigndetection/train/images/road655.png  \n",
            "  inflating: /content/road_sign_data/kaggle/working/roadsigndetection/train/images/road317.png  \n",
            "  inflating: /content/road_sign_data/kaggle/working/roadsigndetection/train/images/road388.png  \n",
            "  inflating: /content/road_sign_data/kaggle/working/roadsigndetection/train/images/road781.png  \n",
            "  inflating: /content/road_sign_data/kaggle/working/roadsigndetection/train/images/road448.png  \n",
            "  inflating: /content/road_sign_data/kaggle/working/roadsigndetection/train/images/road244.png  \n",
            "  inflating: /content/road_sign_data/kaggle/working/roadsigndetection/train/images/road727.png  \n",
            "  inflating: /content/road_sign_data/kaggle/working/roadsigndetection/train/images/road0.png  \n",
            "  inflating: /content/road_sign_data/kaggle/working/roadsigndetection/train/images/road772.png  \n",
            "  inflating: /content/road_sign_data/kaggle/working/roadsigndetection/train/images/road562.png  \n",
            "  inflating: /content/road_sign_data/kaggle/working/roadsigndetection/train/images/road753.png  \n",
            "  inflating: /content/road_sign_data/kaggle/working/roadsigndetection/train/images/road523.png  \n",
            "  inflating: /content/road_sign_data/kaggle/working/roadsigndetection/train/images/road705.png  \n",
            "  inflating: /content/road_sign_data/kaggle/working/roadsigndetection/train/images/road620.png  \n",
            "  inflating: /content/road_sign_data/kaggle/working/roadsigndetection/train/images/road331.png  \n",
            "  inflating: /content/road_sign_data/kaggle/working/roadsigndetection/train/images/road245.png  \n",
            "  inflating: /content/road_sign_data/kaggle/working/roadsigndetection/train/images/road334.png  \n",
            "  inflating: /content/road_sign_data/kaggle/working/roadsigndetection/train/images/road814.png  \n",
            "  inflating: /content/road_sign_data/kaggle/working/roadsigndetection/train/images/road100.png  \n",
            "  inflating: /content/road_sign_data/kaggle/working/roadsigndetection/train/images/road830.png  \n",
            "  inflating: /content/road_sign_data/kaggle/working/roadsigndetection/train/images/road702.png  \n",
            "  inflating: /content/road_sign_data/kaggle/working/roadsigndetection/train/images/road828.png  \n",
            "  inflating: /content/road_sign_data/kaggle/working/roadsigndetection/train/images/road513.png  \n",
            "  inflating: /content/road_sign_data/kaggle/working/roadsigndetection/train/images/road261.png  \n",
            "  inflating: /content/road_sign_data/kaggle/working/roadsigndetection/train/images/road834.png  \n",
            "  inflating: /content/road_sign_data/kaggle/working/roadsigndetection/train/images/road386.png  \n",
            "  inflating: /content/road_sign_data/kaggle/working/roadsigndetection/train/images/road193.png  \n",
            "  inflating: /content/road_sign_data/kaggle/working/roadsigndetection/train/images/road594.png  \n",
            "  inflating: /content/road_sign_data/kaggle/working/roadsigndetection/train/images/road324.png  \n",
            "  inflating: /content/road_sign_data/kaggle/working/roadsigndetection/train/images/road229.png  \n",
            "  inflating: /content/road_sign_data/kaggle/working/roadsigndetection/train/images/road97.png  \n",
            "  inflating: /content/road_sign_data/kaggle/working/roadsigndetection/train/images/road634.png  \n",
            "  inflating: /content/road_sign_data/kaggle/working/roadsigndetection/train/images/road371.png  \n",
            "  inflating: /content/road_sign_data/kaggle/working/roadsigndetection/train/images/road173.png  \n",
            "  inflating: /content/road_sign_data/kaggle/working/roadsigndetection/train/images/road871.png  \n",
            "  inflating: /content/road_sign_data/kaggle/working/roadsigndetection/train/images/road9.png  \n",
            "  inflating: /content/road_sign_data/kaggle/working/roadsigndetection/train/images/road80.png  \n",
            "  inflating: /content/road_sign_data/kaggle/working/roadsigndetection/train/images/road577.png  \n",
            "  inflating: /content/road_sign_data/kaggle/working/roadsigndetection/train/images/road785.png  \n",
            "  inflating: /content/road_sign_data/kaggle/working/roadsigndetection/train/images/road177.png  \n",
            "  inflating: /content/road_sign_data/kaggle/working/roadsigndetection/train/images/road546.png  \n",
            "  inflating: /content/road_sign_data/kaggle/working/roadsigndetection/train/images/road262.png  \n",
            "  inflating: /content/road_sign_data/kaggle/working/roadsigndetection/train/images/road739.png  \n",
            "  inflating: /content/road_sign_data/kaggle/working/roadsigndetection/train/images/road191.png  \n",
            "  inflating: /content/road_sign_data/kaggle/working/roadsigndetection/train/images/road406.png  \n",
            "  inflating: /content/road_sign_data/kaggle/working/roadsigndetection/train/images/road786.png  \n",
            "  inflating: /content/road_sign_data/kaggle/working/roadsigndetection/train/images/road228.png  \n",
            "  inflating: /content/road_sign_data/kaggle/working/roadsigndetection/train/images/road81.png  \n",
            "  inflating: /content/road_sign_data/kaggle/working/roadsigndetection/train/images/road467.png  \n",
            "  inflating: /content/road_sign_data/kaggle/working/roadsigndetection/train/images/road372.png  \n",
            "  inflating: /content/road_sign_data/kaggle/working/roadsigndetection/train/images/road363.png  \n",
            "  inflating: /content/road_sign_data/kaggle/working/roadsigndetection/train/images/road619.png  \n",
            "  inflating: /content/road_sign_data/kaggle/working/roadsigndetection/train/images/road533.png  \n",
            "  inflating: /content/road_sign_data/kaggle/working/roadsigndetection/train/images/road710.png  \n",
            "  inflating: /content/road_sign_data/kaggle/working/roadsigndetection/train/images/road268.png  \n",
            "  inflating: /content/road_sign_data/kaggle/working/roadsigndetection/train/images/road491.png  \n",
            "  inflating: /content/road_sign_data/kaggle/working/roadsigndetection/train/images/road435.png  \n",
            "  inflating: /content/road_sign_data/kaggle/working/roadsigndetection/train/images/road469.png  \n",
            "  inflating: /content/road_sign_data/kaggle/working/roadsigndetection/train/images/road42.png  \n",
            "  inflating: /content/road_sign_data/kaggle/working/roadsigndetection/train/images/road307.png  \n",
            "  inflating: /content/road_sign_data/kaggle/working/roadsigndetection/train/images/road272.png  \n",
            "  inflating: /content/road_sign_data/kaggle/working/roadsigndetection/train/images/road201.png  \n",
            "  inflating: /content/road_sign_data/kaggle/working/roadsigndetection/train/images/road282.png  \n",
            "  inflating: /content/road_sign_data/kaggle/working/roadsigndetection/train/images/road862.png  \n",
            "  inflating: /content/road_sign_data/kaggle/working/roadsigndetection/train/images/road426.png  \n",
            "  inflating: /content/road_sign_data/kaggle/working/roadsigndetection/train/images/road464.png  \n",
            "  inflating: /content/road_sign_data/kaggle/working/roadsigndetection/train/images/road349.png  \n",
            "  inflating: /content/road_sign_data/kaggle/working/roadsigndetection/train/images/road416.png  \n",
            "  inflating: /content/road_sign_data/kaggle/working/roadsigndetection/train/images/road555.png  \n",
            "  inflating: /content/road_sign_data/kaggle/working/roadsigndetection/train/images/road700.png  \n",
            "  inflating: /content/road_sign_data/kaggle/working/roadsigndetection/train/images/road105.png  \n",
            "  inflating: /content/road_sign_data/kaggle/working/roadsigndetection/train/images/road511.png  \n",
            "  inflating: /content/road_sign_data/kaggle/working/roadsigndetection/train/images/road549.png  \n",
            "  inflating: /content/road_sign_data/kaggle/working/roadsigndetection/train/images/road58.png  \n",
            "  inflating: /content/road_sign_data/kaggle/working/roadsigndetection/train/images/road658.png  \n",
            "  inflating: /content/road_sign_data/kaggle/working/roadsigndetection/train/images/road223.png  \n",
            "  inflating: /content/road_sign_data/kaggle/working/roadsigndetection/train/images/road429.png  \n",
            "  inflating: /content/road_sign_data/kaggle/working/roadsigndetection/train/images/road616.png  \n",
            "  inflating: /content/road_sign_data/kaggle/working/roadsigndetection/train/images/road136.png  \n",
            "  inflating: /content/road_sign_data/kaggle/working/roadsigndetection/train/images/road224.png  \n",
            "  inflating: /content/road_sign_data/kaggle/working/roadsigndetection/train/images/road128.png  \n",
            "  inflating: /content/road_sign_data/kaggle/working/roadsigndetection/train/images/road135.png  \n",
            "  inflating: /content/road_sign_data/kaggle/working/roadsigndetection/train/images/road39.png  \n",
            "  inflating: /content/road_sign_data/kaggle/working/roadsigndetection/train/images/road623.png  \n",
            "  inflating: /content/road_sign_data/kaggle/working/roadsigndetection/train/images/road797.png  \n",
            "  inflating: /content/road_sign_data/kaggle/working/roadsigndetection/train/images/road172.png  \n",
            "  inflating: /content/road_sign_data/kaggle/working/roadsigndetection/train/images/road145.png  \n",
            "  inflating: /content/road_sign_data/kaggle/working/roadsigndetection/train/images/road660.png  \n",
            "  inflating: /content/road_sign_data/kaggle/working/roadsigndetection/train/images/road528.png  \n",
            "  inflating: /content/road_sign_data/kaggle/working/roadsigndetection/train/images/road596.png  \n",
            "  inflating: /content/road_sign_data/kaggle/working/roadsigndetection/train/images/road140.png  \n",
            "  inflating: /content/road_sign_data/kaggle/working/roadsigndetection/train/images/road323.png  \n",
            "  inflating: /content/road_sign_data/kaggle/working/roadsigndetection/train/images/road102.png  \n",
            "  inflating: /content/road_sign_data/kaggle/working/roadsigndetection/train/images/road492.png  \n",
            "  inflating: /content/road_sign_data/kaggle/working/roadsigndetection/train/images/road108.png  \n",
            "  inflating: /content/road_sign_data/kaggle/working/roadsigndetection/train/images/road757.png  \n",
            "  inflating: /content/road_sign_data/kaggle/working/roadsigndetection/train/images/road395.png  \n",
            "  inflating: /content/road_sign_data/kaggle/working/roadsigndetection/train/images/road401.png  \n",
            "  inflating: /content/road_sign_data/kaggle/working/roadsigndetection/train/images/road57.png  \n",
            "  inflating: /content/road_sign_data/kaggle/working/roadsigndetection/train/images/road255.png  \n",
            "  inflating: /content/road_sign_data/kaggle/working/roadsigndetection/train/images/road811.png  \n",
            "  inflating: /content/road_sign_data/kaggle/working/roadsigndetection/train/images/road127.png  \n",
            "  inflating: /content/road_sign_data/kaggle/working/roadsigndetection/train/images/road587.png  \n",
            "  inflating: /content/road_sign_data/kaggle/working/roadsigndetection/train/images/road579.png  \n",
            "  inflating: /content/road_sign_data/kaggle/working/roadsigndetection/train/images/road308.png  \n",
            "  inflating: /content/road_sign_data/kaggle/working/roadsigndetection/train/images/road780.png  \n",
            "  inflating: /content/road_sign_data/kaggle/working/roadsigndetection/train/images/road498.png  \n",
            "  inflating: /content/road_sign_data/kaggle/working/roadsigndetection/train/images/road296.png  \n",
            "  inflating: /content/road_sign_data/kaggle/working/roadsigndetection/train/images/road701.png  \n",
            "  inflating: /content/road_sign_data/kaggle/working/roadsigndetection/train/images/road741.png  \n",
            "  inflating: /content/road_sign_data/kaggle/working/roadsigndetection/train/images/road98.png  \n",
            "  inflating: /content/road_sign_data/kaggle/working/roadsigndetection/train/images/road769.png  \n",
            "  inflating: /content/road_sign_data/kaggle/working/roadsigndetection/train/images/road733.png  \n",
            "  inflating: /content/road_sign_data/kaggle/working/roadsigndetection/train/images/road41.png  \n",
            "  inflating: /content/road_sign_data/kaggle/working/roadsigndetection/train/images/road409.png  \n",
            "  inflating: /content/road_sign_data/kaggle/working/roadsigndetection/train/images/road527.png  \n",
            "  inflating: /content/road_sign_data/kaggle/working/roadsigndetection/train/images/road488.png  \n",
            "  inflating: /content/road_sign_data/kaggle/working/roadsigndetection/train/images/road273.png  \n",
            "  inflating: /content/road_sign_data/kaggle/working/roadsigndetection/train/images/road338.png  \n",
            "  inflating: /content/road_sign_data/kaggle/working/roadsigndetection/train/images/road643.png  \n",
            "  inflating: /content/road_sign_data/kaggle/working/roadsigndetection/train/images/road446.png  \n",
            "  inflating: /content/road_sign_data/kaggle/working/roadsigndetection/train/images/road698.png  \n",
            "  inflating: /content/road_sign_data/kaggle/working/roadsigndetection/train/images/road443.png  \n",
            "  inflating: /content/road_sign_data/kaggle/working/roadsigndetection/train/images/road278.png  \n",
            "  inflating: /content/road_sign_data/kaggle/working/roadsigndetection/train/images/road452.png  \n",
            "  inflating: /content/road_sign_data/kaggle/working/roadsigndetection/train/images/road393.png  \n",
            "  inflating: /content/road_sign_data/kaggle/working/roadsigndetection/train/images/road515.png  \n",
            "  inflating: /content/road_sign_data/kaggle/working/roadsigndetection/train/images/road369.png  \n",
            "  inflating: /content/road_sign_data/kaggle/working/roadsigndetection/train/images/road875.png  \n",
            "  inflating: /content/road_sign_data/kaggle/working/roadsigndetection/train/images/road856.png  \n",
            "  inflating: /content/road_sign_data/kaggle/working/roadsigndetection/train/images/road274.png  \n",
            "  inflating: /content/road_sign_data/kaggle/working/roadsigndetection/train/images/road490.png  \n",
            "  inflating: /content/road_sign_data/kaggle/working/roadsigndetection/train/images/road543.png  \n",
            "  inflating: /content/road_sign_data/kaggle/working/roadsigndetection/train/images/road302.png  \n",
            "  inflating: /content/road_sign_data/kaggle/working/roadsigndetection/train/images/road585.png  \n",
            "  inflating: /content/road_sign_data/kaggle/working/roadsigndetection/train/images/road838.png  \n",
            "  inflating: /content/road_sign_data/kaggle/working/roadsigndetection/train/images/road717.png  \n",
            "  inflating: /content/road_sign_data/kaggle/working/roadsigndetection/train/images/road582.png  \n",
            "  inflating: /content/road_sign_data/kaggle/working/roadsigndetection/train/images/road540.png  \n",
            "  inflating: /content/road_sign_data/kaggle/working/roadsigndetection/train/images/road221.png  \n",
            "  inflating: /content/road_sign_data/kaggle/working/roadsigndetection/train/images/road730.png  \n",
            "  inflating: /content/road_sign_data/kaggle/working/roadsigndetection/train/images/road162.png  \n",
            "  inflating: /content/road_sign_data/kaggle/working/roadsigndetection/train/images/road652.png  \n",
            "  inflating: /content/road_sign_data/kaggle/working/roadsigndetection/train/images/road715.png  \n",
            "  inflating: /content/road_sign_data/kaggle/working/roadsigndetection/train/images/road610.png  \n",
            "  inflating: /content/road_sign_data/kaggle/working/roadsigndetection/train/images/road157.png  \n",
            "  inflating: /content/road_sign_data/kaggle/working/roadsigndetection/train/images/road502.png  \n",
            "  inflating: /content/road_sign_data/kaggle/working/roadsigndetection/train/images/road671.png  \n",
            "  inflating: /content/road_sign_data/kaggle/working/roadsigndetection/train/images/road358.png  \n",
            "  inflating: /content/road_sign_data/kaggle/working/roadsigndetection/train/images/road556.png  \n",
            "  inflating: /content/road_sign_data/kaggle/working/roadsigndetection/train/images/road254.png  \n",
            "  inflating: /content/road_sign_data/kaggle/working/roadsigndetection/train/images/road311.png  \n",
            "  inflating: /content/road_sign_data/kaggle/working/roadsigndetection/train/images/road121.png  \n",
            "  inflating: /content/road_sign_data/kaggle/working/roadsigndetection/train/images/road475.png  \n",
            "  inflating: /content/road_sign_data/kaggle/working/roadsigndetection/train/images/road419.png  \n",
            "  inflating: /content/road_sign_data/kaggle/working/roadsigndetection/train/images/road703.png  \n",
            "  inflating: /content/road_sign_data/kaggle/working/roadsigndetection/train/images/road197.png  \n",
            "  inflating: /content/road_sign_data/kaggle/working/roadsigndetection/train/images/road669.png  \n",
            "  inflating: /content/road_sign_data/kaggle/working/roadsigndetection/train/images/road385.png  \n",
            "  inflating: /content/road_sign_data/kaggle/working/roadsigndetection/train/images/road26.png  \n",
            "  inflating: /content/road_sign_data/kaggle/working/roadsigndetection/train/images/road14.png  \n",
            "  inflating: /content/road_sign_data/kaggle/working/roadsigndetection/train/images/road535.png  \n",
            "  inflating: /content/road_sign_data/kaggle/working/roadsigndetection/train/images/road857.png  \n",
            "  inflating: /content/road_sign_data/kaggle/working/roadsigndetection/train/images/road376.png  \n",
            "  inflating: /content/road_sign_data/kaggle/working/roadsigndetection/train/images/road505.png  \n",
            "  inflating: /content/road_sign_data/kaggle/working/roadsigndetection/train/images/road154.png  \n",
            "  inflating: /content/road_sign_data/kaggle/working/roadsigndetection/train/images/road250.png  \n",
            "  inflating: /content/road_sign_data/kaggle/working/roadsigndetection/train/images/road7.png  \n",
            "  inflating: /content/road_sign_data/kaggle/working/roadsigndetection/train/images/road44.png  \n",
            "  inflating: /content/road_sign_data/kaggle/working/roadsigndetection/train/images/road150.png  \n",
            "  inflating: /content/road_sign_data/kaggle/working/roadsigndetection/train/images/road519.png  \n",
            "  inflating: /content/road_sign_data/kaggle/working/roadsigndetection/train/images/road153.png  \n",
            "  inflating: /content/road_sign_data/kaggle/working/roadsigndetection/train/images/road238.png  \n",
            "  inflating: /content/road_sign_data/kaggle/working/roadsigndetection/train/images/road165.png  \n",
            "  inflating: /content/road_sign_data/kaggle/working/roadsigndetection/train/images/road370.png  \n",
            "  inflating: /content/road_sign_data/kaggle/working/roadsigndetection/train/images/road138.png  \n",
            "  inflating: /content/road_sign_data/kaggle/working/roadsigndetection/train/images/road237.png  \n",
            "  inflating: /content/road_sign_data/kaggle/working/roadsigndetection/train/images/road622.png  \n",
            "  inflating: /content/road_sign_data/kaggle/working/roadsigndetection/train/images/road438.png  \n",
            "  inflating: /content/road_sign_data/kaggle/working/roadsigndetection/train/images/road37.png  \n",
            "  inflating: /content/road_sign_data/kaggle/working/roadsigndetection/train/images/road541.png  \n",
            "  inflating: /content/road_sign_data/kaggle/working/roadsigndetection/train/images/road166.png  \n",
            "  inflating: /content/road_sign_data/kaggle/working/roadsigndetection/train/images/road784.png  \n",
            "  inflating: /content/road_sign_data/kaggle/working/roadsigndetection/train/images/road361.png  \n",
            "  inflating: /content/road_sign_data/kaggle/working/roadsigndetection/train/images/road325.png  \n",
            "  inflating: /content/road_sign_data/kaggle/working/roadsigndetection/train/images/road454.png  \n",
            "  inflating: /content/road_sign_data/kaggle/working/roadsigndetection/train/images/road841.png  \n",
            "  inflating: /content/road_sign_data/kaggle/working/roadsigndetection/train/images/road683.png  \n",
            "  inflating: /content/road_sign_data/kaggle/working/roadsigndetection/train/images/road300.png  \n",
            "  inflating: /content/road_sign_data/kaggle/working/roadsigndetection/train/images/road159.png  \n",
            "  inflating: /content/road_sign_data/kaggle/working/roadsigndetection/train/images/road174.png  \n",
            "  inflating: /content/road_sign_data/kaggle/working/roadsigndetection/train/images/road208.png  \n",
            "  inflating: /content/road_sign_data/kaggle/working/roadsigndetection/train/images/road661.png  \n",
            "  inflating: /content/road_sign_data/kaggle/working/roadsigndetection/train/images/road764.png  \n",
            "  inflating: /content/road_sign_data/kaggle/working/roadsigndetection/train/images/road36.png  \n",
            "  inflating: /content/road_sign_data/kaggle/working/roadsigndetection/train/images/road501.png  \n",
            "  inflating: /content/road_sign_data/kaggle/working/roadsigndetection/train/images/road742.png  \n",
            "  inflating: /content/road_sign_data/kaggle/working/roadsigndetection/train/images/road277.png  \n",
            "  inflating: /content/road_sign_data/kaggle/working/roadsigndetection/train/images/road85.png  \n",
            "  inflating: /content/road_sign_data/kaggle/working/roadsigndetection/train/images/road123.png  \n",
            "  inflating: /content/road_sign_data/kaggle/working/roadsigndetection/train/images/road417.png  \n",
            "  inflating: /content/road_sign_data/kaggle/working/roadsigndetection/train/images/road649.png  \n",
            "  inflating: /content/road_sign_data/kaggle/working/roadsigndetection/train/images/road664.png  \n",
            "  inflating: /content/road_sign_data/kaggle/working/roadsigndetection/train/images/road864.png  \n",
            "  inflating: /content/road_sign_data/kaggle/working/roadsigndetection/train/images/road792.png  \n",
            "  inflating: /content/road_sign_data/kaggle/working/roadsigndetection/train/images/road804.png  \n",
            "  inflating: /content/road_sign_data/kaggle/working/roadsigndetection/train/images/road306.png  \n",
            "  inflating: /content/road_sign_data/kaggle/working/roadsigndetection/train/images/road566.png  \n",
            "  inflating: /content/road_sign_data/kaggle/working/roadsigndetection/train/images/road779.png  \n",
            "  inflating: /content/road_sign_data/kaggle/working/roadsigndetection/train/images/road389.png  \n",
            "  inflating: /content/road_sign_data/kaggle/working/roadsigndetection/train/images/road257.png  \n",
            "  inflating: /content/road_sign_data/kaggle/working/roadsigndetection/train/images/road504.png  \n",
            "  inflating: /content/road_sign_data/kaggle/working/roadsigndetection/train/images/road163.png  \n",
            "  inflating: /content/road_sign_data/kaggle/working/roadsigndetection/train/images/road756.png  \n",
            "  inflating: /content/road_sign_data/kaggle/working/roadsigndetection/train/images/road520.png  \n",
            "  inflating: /content/road_sign_data/kaggle/working/roadsigndetection/train/images/road481.png  \n",
            "  inflating: /content/road_sign_data/kaggle/working/roadsigndetection/train/images/road873.png  \n",
            "  inflating: /content/road_sign_data/kaggle/working/roadsigndetection/train/images/road345.png  \n",
            "  inflating: /content/road_sign_data/kaggle/working/roadsigndetection/train/images/road387.png  \n",
            "  inflating: /content/road_sign_data/kaggle/working/roadsigndetection/train/images/road318.png  \n",
            "  inflating: /content/road_sign_data/kaggle/working/roadsigndetection/train/images/road639.png  \n",
            "  inflating: /content/road_sign_data/kaggle/working/roadsigndetection/train/images/road335.png  \n",
            "  inflating: /content/road_sign_data/kaggle/working/roadsigndetection/train/images/road532.png  \n",
            "  inflating: /content/road_sign_data/kaggle/working/roadsigndetection/train/images/road542.png  \n",
            "  inflating: /content/road_sign_data/kaggle/working/roadsigndetection/train/images/road357.png  \n",
            "  inflating: /content/road_sign_data/kaggle/working/roadsigndetection/train/images/road761.png  \n",
            "  inflating: /content/road_sign_data/kaggle/working/roadsigndetection/train/images/road529.png  \n",
            "  inflating: /content/road_sign_data/kaggle/working/roadsigndetection/train/images/road633.png  \n",
            "  inflating: /content/road_sign_data/kaggle/working/roadsigndetection/train/images/road133.png  \n",
            "  inflating: /content/road_sign_data/kaggle/working/roadsigndetection/train/images/road407.png  \n",
            "  inflating: /content/road_sign_data/kaggle/working/roadsigndetection/train/images/road584.png  \n",
            "  inflating: /content/road_sign_data/kaggle/working/roadsigndetection/train/images/road269.png  \n",
            "  inflating: /content/road_sign_data/kaggle/working/roadsigndetection/train/images/road822.png  \n",
            "  inflating: /content/road_sign_data/kaggle/working/roadsigndetection/train/images/road847.png  \n",
            "  inflating: /content/road_sign_data/kaggle/working/roadsigndetection/train/images/road447.png  \n",
            "  inflating: /content/road_sign_data/kaggle/working/roadsigndetection/train/images/road561.png  \n",
            "  inflating: /content/road_sign_data/kaggle/working/roadsigndetection/train/images/road210.png  \n",
            "  inflating: /content/road_sign_data/kaggle/working/roadsigndetection/train/images/road276.png  \n",
            "  inflating: /content/road_sign_data/kaggle/working/roadsigndetection/train/images/road696.png  \n",
            "  inflating: /content/road_sign_data/kaggle/working/roadsigndetection/train/images/road433.png  \n",
            "  inflating: /content/road_sign_data/kaggle/working/roadsigndetection/train/images/road637.png  \n",
            "  inflating: /content/road_sign_data/kaggle/working/roadsigndetection/train/images/road778.png  \n",
            "  inflating: /content/road_sign_data/kaggle/working/roadsigndetection/train/images/road12.png  \n",
            "  inflating: /content/road_sign_data/kaggle/working/roadsigndetection/train/images/road137.png  \n",
            "  inflating: /content/road_sign_data/kaggle/working/roadsigndetection/train/images/road437.png  \n",
            "  inflating: /content/road_sign_data/kaggle/working/roadsigndetection/train/images/road67.png  \n",
            "  inflating: /content/road_sign_data/kaggle/working/roadsigndetection/train/images/road63.png  \n",
            "  inflating: /content/road_sign_data/kaggle/working/roadsigndetection/train/images/road11.png  \n",
            "  inflating: /content/road_sign_data/kaggle/working/roadsigndetection/train/images/road40.png  \n",
            "  inflating: /content/road_sign_data/kaggle/working/roadsigndetection/train/images/road289.png  \n",
            "  inflating: /content/road_sign_data/kaggle/working/roadsigndetection/train/images/road428.png  \n",
            "  inflating: /content/road_sign_data/kaggle/working/roadsigndetection/train/images/road613.png  \n",
            "  inflating: /content/road_sign_data/kaggle/working/roadsigndetection/train/images/road509.png  \n",
            "  inflating: /content/road_sign_data/kaggle/working/roadsigndetection/train/images/road319.png  \n",
            "  inflating: /content/road_sign_data/kaggle/working/roadsigndetection/train/images/road612.png  \n",
            "  inflating: /content/road_sign_data/kaggle/working/roadsigndetection/train/images/road116.png  \n",
            "  inflating: /content/road_sign_data/kaggle/working/roadsigndetection/train/images/road836.png  \n",
            "  inflating: /content/road_sign_data/kaggle/working/roadsigndetection/train/images/road183.png  \n",
            "  inflating: /content/road_sign_data/kaggle/working/roadsigndetection/train/images/road466.png  \n",
            "  inflating: /content/road_sign_data/kaggle/working/roadsigndetection/train/images/road677.png  \n",
            "  inflating: /content/road_sign_data/kaggle/working/roadsigndetection/train/images/road874.png  \n",
            "  inflating: /content/road_sign_data/kaggle/working/roadsigndetection/train/images/road686.png  \n",
            "  inflating: /content/road_sign_data/kaggle/working/roadsigndetection/train/images/road480.png  \n",
            "  inflating: /content/road_sign_data/kaggle/working/roadsigndetection/train/images/road861.png  \n",
            "  inflating: /content/road_sign_data/kaggle/working/roadsigndetection/train/images/road275.png  \n",
            "  inflating: /content/road_sign_data/kaggle/working/roadsigndetection/train/images/road538.png  \n",
            "  inflating: /content/road_sign_data/kaggle/working/roadsigndetection/train/images/road207.png  \n",
            "  inflating: /content/road_sign_data/kaggle/working/roadsigndetection/train/images/road716.png  \n",
            "  inflating: /content/road_sign_data/kaggle/working/roadsigndetection/train/images/road775.png  \n",
            "  inflating: /content/road_sign_data/kaggle/working/roadsigndetection/train/images/road184.png  \n",
            "  inflating: /content/road_sign_data/kaggle/working/roadsigndetection/train/images/road638.png  \n",
            "  inflating: /content/road_sign_data/kaggle/working/roadsigndetection/train/images/road815.png  \n",
            "  inflating: /content/road_sign_data/kaggle/working/roadsigndetection/train/images/road342.png  \n",
            "  inflating: /content/road_sign_data/kaggle/working/roadsigndetection/train/images/road129.png  \n",
            "  inflating: /content/road_sign_data/kaggle/working/roadsigndetection/train/images/road578.png  \n",
            "  inflating: /content/road_sign_data/kaggle/working/roadsigndetection/train/images/road214.png  \n",
            "  inflating: /content/road_sign_data/kaggle/working/roadsigndetection/train/images/road589.png  \n",
            "  inflating: /content/road_sign_data/kaggle/working/roadsigndetection/train/images/road65.png  \n",
            "  inflating: /content/road_sign_data/kaggle/working/roadsigndetection/train/images/road402.png  \n",
            "  inflating: /content/road_sign_data/kaggle/working/roadsigndetection/train/images/road330.png  \n",
            "  inflating: /content/road_sign_data/kaggle/working/roadsigndetection/train/images/road298.png  \n",
            "  inflating: /content/road_sign_data/kaggle/working/roadsigndetection/train/images/road642.png  \n",
            "  inflating: /content/road_sign_data/kaggle/working/roadsigndetection/train/images/road552.png  \n",
            "  inflating: /content/road_sign_data/kaggle/working/roadsigndetection/train/images/road68.png  \n",
            "  inflating: /content/road_sign_data/kaggle/working/roadsigndetection/train/images/road629.png  \n",
            "  inflating: /content/road_sign_data/kaggle/working/roadsigndetection/train/images/road628.png  \n",
            "  inflating: /content/road_sign_data/kaggle/working/roadsigndetection/train/images/road360.png  \n",
            "  inflating: /content/road_sign_data/kaggle/working/roadsigndetection/train/images/road242.png  \n",
            "  inflating: /content/road_sign_data/kaggle/working/roadsigndetection/train/images/road365.png  \n",
            "  inflating: /content/road_sign_data/kaggle/working/roadsigndetection/train/images/road800.png  \n",
            "  inflating: /content/road_sign_data/kaggle/working/roadsigndetection/train/images/road130.png  \n",
            "  inflating: /content/road_sign_data/kaggle/working/roadsigndetection/train/images/road104.png  \n",
            "  inflating: /content/road_sign_data/kaggle/working/roadsigndetection/train/images/road636.png  \n",
            "  inflating: /content/road_sign_data/kaggle/working/roadsigndetection/train/images/road672.png  \n",
            "  inflating: /content/road_sign_data/kaggle/working/roadsigndetection/train/images/road188.png  \n",
            "  inflating: /content/road_sign_data/kaggle/working/roadsigndetection/train/images/road821.png  \n",
            "  inflating: /content/road_sign_data/kaggle/working/roadsigndetection/train/images/road49.png  \n",
            "  inflating: /content/road_sign_data/kaggle/working/roadsigndetection/train/images/road647.png  \n",
            "  inflating: /content/road_sign_data/kaggle/working/roadsigndetection/train/images/road364.png  \n",
            "  inflating: /content/road_sign_data/kaggle/working/roadsigndetection/train/images/road1.png  \n",
            "  inflating: /content/road_sign_data/kaggle/working/roadsigndetection/train/images/road112.png  \n",
            "  inflating: /content/road_sign_data/kaggle/working/roadsigndetection/train/images/road161.png  \n",
            "  inflating: /content/road_sign_data/kaggle/working/roadsigndetection/train/images/road478.png  \n",
            "  inflating: /content/road_sign_data/kaggle/working/roadsigndetection/train/images/road510.png  \n",
            "  inflating: /content/road_sign_data/kaggle/working/roadsigndetection/train/images/road758.png  \n",
            "  inflating: /content/road_sign_data/kaggle/working/roadsigndetection/train/images/road631.png  \n",
            "  inflating: /content/road_sign_data/kaggle/working/roadsigndetection/train/images/road474.png  \n",
            "  inflating: /content/road_sign_data/kaggle/working/roadsigndetection/train/images/road75.png  \n",
            "  inflating: /content/road_sign_data/kaggle/working/roadsigndetection/train/images/road743.png  \n",
            "  inflating: /content/road_sign_data/kaggle/working/roadsigndetection/train/images/road47.png  \n",
            "  inflating: /content/road_sign_data/kaggle/working/roadsigndetection/train/images/road106.png  \n",
            "  inflating: /content/road_sign_data/kaggle/working/roadsigndetection/train/images/road483.png  \n",
            "  inflating: /content/road_sign_data/kaggle/working/roadsigndetection/train/images/road78.png  \n",
            "  inflating: /content/road_sign_data/kaggle/working/roadsigndetection/train/images/road383.png  \n",
            "  inflating: /content/road_sign_data/kaggle/working/roadsigndetection/train/images/road603.png  \n",
            "  inflating: /content/road_sign_data/kaggle/working/roadsigndetection/train/images/road17.png  \n",
            "  inflating: /content/road_sign_data/kaggle/working/roadsigndetection/train/images/road588.png  \n",
            "  inflating: /content/road_sign_data/kaggle/working/roadsigndetection/train/images/road377.png  \n",
            "  inflating: /content/road_sign_data/kaggle/working/roadsigndetection/train/images/road790.png  \n",
            "  inflating: /content/road_sign_data/kaggle/working/roadsigndetection/train/images/road92.png  \n",
            "  inflating: /content/road_sign_data/kaggle/working/roadsigndetection/train/images/road833.png  \n",
            "  inflating: /content/road_sign_data/kaggle/working/roadsigndetection/train/images/road723.png  \n"
          ]
        }
      ]
    },
    {
      "cell_type": "code",
      "source": [
        "!find /content/road_sign_data/kaggle/working/roadsigndetection/train/images -type f \\( -iname \"*.jpg\" -o -iname \"*.jpeg\" -o -iname \"*.png\" \\) | wc -l"
      ],
      "metadata": {
        "id": "cAv52Zl-q0oF",
        "colab": {
          "base_uri": "https://localhost:8080/"
        },
        "outputId": "2d7933cd-7844-4b33-8715-ee287be730ff"
      },
      "execution_count": 5,
      "outputs": [
        {
          "output_type": "stream",
          "name": "stdout",
          "text": [
            "701\n"
          ]
        }
      ]
    },
    {
      "cell_type": "code",
      "source": [
        "!find /content/road_sign_data/kaggle/working/roadsigndetection/valid/images -type f \\( -iname \"*.jpg\" -o -iname \"*.jpeg\" -o -iname \"*.png\" \\) | wc -l"
      ],
      "metadata": {
        "colab": {
          "base_uri": "https://localhost:8080/"
        },
        "id": "AuPOuwlHf9-C",
        "outputId": "92d8eee4-162b-4c62-ab8d-0fd5f8ded5b7"
      },
      "execution_count": 6,
      "outputs": [
        {
          "output_type": "stream",
          "name": "stdout",
          "text": [
            "176\n"
          ]
        }
      ]
    },
    {
      "cell_type": "code",
      "source": [
        "results=model.train(data='/content/road_sign_data/kaggle/working/data.yaml', epochs=50, batch=8)\n"
      ],
      "metadata": {
        "id": "FspqZz_hcCNo",
        "colab": {
          "base_uri": "https://localhost:8080/"
        },
        "outputId": "63fc549b-37e4-4549-d1d0-0785ad7da8d8"
      },
      "execution_count": 8,
      "outputs": [
        {
          "output_type": "stream",
          "name": "stdout",
          "text": [
            "Ultralytics YOLOv8.2.93 🚀 Python-3.10.12 torch-2.4.0+cu121 CUDA:0 (Tesla T4, 15102MiB)\n",
            "\u001b[34m\u001b[1mengine/trainer: \u001b[0mtask=detect, mode=train, model=yolov9t.pt, data=/content/road_sign_data/kaggle/working/data.yaml, epochs=50, time=None, patience=100, batch=8, imgsz=640, save=True, save_period=-1, cache=False, device=None, workers=8, project=None, name=train2, exist_ok=False, pretrained=True, optimizer=auto, verbose=True, seed=0, deterministic=True, single_cls=False, rect=False, cos_lr=False, close_mosaic=10, resume=False, amp=True, fraction=1.0, profile=False, freeze=None, multi_scale=False, overlap_mask=True, mask_ratio=4, dropout=0.0, val=True, split=val, save_json=False, save_hybrid=False, conf=None, iou=0.7, max_det=300, half=False, dnn=False, plots=True, source=None, vid_stride=1, stream_buffer=False, visualize=False, augment=False, agnostic_nms=False, classes=None, retina_masks=False, embed=None, show=False, save_frames=False, save_txt=False, save_conf=False, save_crop=False, show_labels=True, show_conf=True, show_boxes=True, line_width=None, format=torchscript, keras=False, optimize=False, int8=False, dynamic=False, simplify=False, opset=None, workspace=4, nms=False, lr0=0.01, lrf=0.01, momentum=0.937, weight_decay=0.0005, warmup_epochs=3.0, warmup_momentum=0.8, warmup_bias_lr=0.1, box=7.5, cls=0.5, dfl=1.5, pose=12.0, kobj=1.0, label_smoothing=0.0, nbs=64, hsv_h=0.015, hsv_s=0.7, hsv_v=0.4, degrees=0.0, translate=0.1, scale=0.5, shear=0.0, perspective=0.0, flipud=0.0, fliplr=0.5, bgr=0.0, mosaic=1.0, mixup=0.0, copy_paste=0.0, auto_augment=randaugment, erasing=0.4, crop_fraction=1.0, cfg=None, tracker=botsort.yaml, save_dir=runs/detect/train2\n",
            "Downloading https://ultralytics.com/assets/Arial.ttf to '/root/.config/Ultralytics/Arial.ttf'...\n"
          ]
        },
        {
          "output_type": "stream",
          "name": "stderr",
          "text": [
            "100%|██████████| 755k/755k [00:00<00:00, 23.0MB/s]\n"
          ]
        },
        {
          "output_type": "stream",
          "name": "stdout",
          "text": [
            "Overriding model.yaml nc=80 with nc=4\n",
            "\n",
            "                   from  n    params  module                                       arguments                     \n",
            "  0                  -1  1       464  ultralytics.nn.modules.conv.Conv             [3, 16, 3, 2]                 \n",
            "  1                  -1  1      4672  ultralytics.nn.modules.conv.Conv             [16, 32, 3, 2]                \n",
            "  2                  -1  1      7872  ultralytics.nn.modules.block.ELAN1           [32, 32, 32, 16]              \n",
            "  3                  -1  1     18560  ultralytics.nn.modules.block.AConv           [32, 64]                      \n",
            "  4                  -1  1     65216  ultralytics.nn.modules.block.RepNCSPELAN4    [64, 64, 64, 32, 3]           \n",
            "  5                  -1  1     55488  ultralytics.nn.modules.block.AConv           [64, 96]                      \n",
            "  6                  -1  1    145824  ultralytics.nn.modules.block.RepNCSPELAN4    [96, 96, 96, 48, 3]           \n",
            "  7                  -1  1    110848  ultralytics.nn.modules.block.AConv           [96, 128]                     \n",
            "  8                  -1  1    258432  ultralytics.nn.modules.block.RepNCSPELAN4    [128, 128, 128, 64, 3]        \n",
            "  9                  -1  1     41344  ultralytics.nn.modules.block.SPPELAN         [128, 128, 64]                \n",
            " 10                  -1  1         0  torch.nn.modules.upsampling.Upsample         [None, 2, 'nearest']          \n",
            " 11             [-1, 6]  1         0  ultralytics.nn.modules.conv.Concat           [1]                           \n",
            " 12                  -1  1    158112  ultralytics.nn.modules.block.RepNCSPELAN4    [224, 96, 96, 48, 3]          \n",
            " 13                  -1  1         0  torch.nn.modules.upsampling.Upsample         [None, 2, 'nearest']          \n",
            " 14             [-1, 4]  1         0  ultralytics.nn.modules.conv.Concat           [1]                           \n",
            " 15                  -1  1     71360  ultralytics.nn.modules.block.RepNCSPELAN4    [160, 64, 64, 32, 3]          \n",
            " 16                  -1  1     27744  ultralytics.nn.modules.block.AConv           [64, 48]                      \n",
            " 17            [-1, 12]  1         0  ultralytics.nn.modules.conv.Concat           [1]                           \n",
            " 18                  -1  1    150432  ultralytics.nn.modules.block.RepNCSPELAN4    [144, 96, 96, 48, 3]          \n",
            " 19                  -1  1     55424  ultralytics.nn.modules.block.AConv           [96, 64]                      \n",
            " 20             [-1, 9]  1         0  ultralytics.nn.modules.conv.Concat           [1]                           \n",
            " 21                  -1  1    266624  ultralytics.nn.modules.block.RepNCSPELAN4    [192, 128, 128, 64, 3]        \n",
            " 22        [15, 18, 21]  1    567772  ultralytics.nn.modules.head.Detect           [4, [64, 96, 128]]            \n",
            "YOLOv9t summary: 917 layers, 2,006,188 parameters, 2,006,172 gradients, 7.9 GFLOPs\n",
            "\n",
            "Transferred 1303/1339 items from pretrained weights\n",
            "\u001b[34m\u001b[1mTensorBoard: \u001b[0mStart with 'tensorboard --logdir runs/detect/train2', view at http://localhost:6006/\n",
            "Freezing layer 'model.22.dfl.conv.weight'\n",
            "\u001b[34m\u001b[1mAMP: \u001b[0mrunning Automatic Mixed Precision (AMP) checks with YOLOv8n...\n",
            "Downloading https://github.com/ultralytics/assets/releases/download/v8.2.0/yolov8n.pt to 'yolov8n.pt'...\n"
          ]
        },
        {
          "output_type": "stream",
          "name": "stderr",
          "text": [
            "100%|██████████| 6.25M/6.25M [00:00<00:00, 113MB/s]\n"
          ]
        },
        {
          "output_type": "stream",
          "name": "stdout",
          "text": [
            "\u001b[34m\u001b[1mAMP: \u001b[0mchecks passed ✅\n"
          ]
        },
        {
          "output_type": "stream",
          "name": "stderr",
          "text": [
            "\u001b[34m\u001b[1mtrain: \u001b[0mScanning /content/road_sign_data/kaggle/working/roadsigndetection/train/labels... 701 images, 0 backgrounds, 0 corrupt: 100%|██████████| 701/701 [00:00<00:00, 1302.91it/s]"
          ]
        },
        {
          "output_type": "stream",
          "name": "stdout",
          "text": [
            "\u001b[34m\u001b[1mtrain: \u001b[0mNew cache created: /content/road_sign_data/kaggle/working/roadsigndetection/train/labels.cache\n"
          ]
        },
        {
          "output_type": "stream",
          "name": "stderr",
          "text": [
            "\n"
          ]
        },
        {
          "output_type": "stream",
          "name": "stdout",
          "text": [
            "\u001b[34m\u001b[1malbumentations: \u001b[0mBlur(p=0.01, blur_limit=(3, 7)), MedianBlur(p=0.01, blur_limit=(3, 7)), ToGray(p=0.01), CLAHE(p=0.01, clip_limit=(1, 4.0), tile_grid_size=(8, 8))\n"
          ]
        },
        {
          "output_type": "stream",
          "name": "stderr",
          "text": [
            "/usr/local/lib/python3.10/dist-packages/albumentations/__init__.py:13: UserWarning: A new version of Albumentations is available: 1.4.15 (you have 1.4.14). Upgrade using: pip install -U albumentations. To disable automatic update checks, set the environment variable NO_ALBUMENTATIONS_UPDATE to 1.\n",
            "  check_for_updates()\n",
            "/usr/lib/python3.10/multiprocessing/popen_fork.py:66: RuntimeWarning: os.fork() was called. os.fork() is incompatible with multithreaded code, and JAX is multithreaded, so this will likely lead to a deadlock.\n",
            "  self.pid = os.fork()\n",
            "\u001b[34m\u001b[1mval: \u001b[0mScanning /content/road_sign_data/kaggle/working/roadsigndetection/valid/labels... 176 images, 0 backgrounds, 0 corrupt: 100%|██████████| 176/176 [00:00<00:00, 479.34it/s]"
          ]
        },
        {
          "output_type": "stream",
          "name": "stdout",
          "text": [
            "\u001b[34m\u001b[1mval: \u001b[0mNew cache created: /content/road_sign_data/kaggle/working/roadsigndetection/valid/labels.cache\n"
          ]
        },
        {
          "output_type": "stream",
          "name": "stderr",
          "text": [
            "\n"
          ]
        },
        {
          "output_type": "stream",
          "name": "stdout",
          "text": [
            "Plotting labels to runs/detect/train2/labels.jpg... \n",
            "\u001b[34m\u001b[1moptimizer:\u001b[0m 'optimizer=auto' found, ignoring 'lr0=0.01' and 'momentum=0.937' and determining best 'optimizer', 'lr0' and 'momentum' automatically... \n",
            "\u001b[34m\u001b[1moptimizer:\u001b[0m AdamW(lr=0.00125, momentum=0.9) with parameter groups 221 weight(decay=0.0), 228 weight(decay=0.0005), 227 bias(decay=0.0)\n",
            "\u001b[34m\u001b[1mTensorBoard: \u001b[0mmodel graph visualization added ✅\n",
            "Image sizes 640 train, 640 val\n",
            "Using 2 dataloader workers\n",
            "Logging results to \u001b[1mruns/detect/train2\u001b[0m\n",
            "Starting training for 50 epochs...\n",
            "\n",
            "      Epoch    GPU_mem   box_loss   cls_loss   dfl_loss  Instances       Size\n"
          ]
        },
        {
          "output_type": "stream",
          "name": "stderr",
          "text": [
            "       1/50      1.59G     0.7806      2.489     0.9755         14        640: 100%|██████████| 88/88 [00:39<00:00,  2.23it/s]\n",
            "                 Class     Images  Instances      Box(P          R      mAP50  mAP50-95): 100%|██████████| 11/11 [00:03<00:00,  2.83it/s]"
          ]
        },
        {
          "output_type": "stream",
          "name": "stdout",
          "text": [
            "                   all        176        243      0.831      0.449       0.77       0.62\n"
          ]
        },
        {
          "output_type": "stream",
          "name": "stderr",
          "text": [
            "\n"
          ]
        },
        {
          "output_type": "stream",
          "name": "stdout",
          "text": [
            "\n",
            "      Epoch    GPU_mem   box_loss   cls_loss   dfl_loss  Instances       Size\n"
          ]
        },
        {
          "output_type": "stream",
          "name": "stderr",
          "text": [
            "       2/50      1.59G     0.8064      1.458          1          7        640: 100%|██████████| 88/88 [00:29<00:00,  2.94it/s]\n",
            "                 Class     Images  Instances      Box(P          R      mAP50  mAP50-95): 100%|██████████| 11/11 [00:03<00:00,  3.29it/s]"
          ]
        },
        {
          "output_type": "stream",
          "name": "stdout",
          "text": [
            "                   all        176        243      0.887      0.822      0.873      0.673\n"
          ]
        },
        {
          "output_type": "stream",
          "name": "stderr",
          "text": [
            "\n"
          ]
        },
        {
          "output_type": "stream",
          "name": "stdout",
          "text": [
            "\n",
            "      Epoch    GPU_mem   box_loss   cls_loss   dfl_loss  Instances       Size\n"
          ]
        },
        {
          "output_type": "stream",
          "name": "stderr",
          "text": [
            "       3/50      1.58G     0.7944      1.302     0.9945         12        640: 100%|██████████| 88/88 [00:27<00:00,  3.16it/s]\n",
            "                 Class     Images  Instances      Box(P          R      mAP50  mAP50-95): 100%|██████████| 11/11 [00:03<00:00,  3.06it/s]"
          ]
        },
        {
          "output_type": "stream",
          "name": "stdout",
          "text": [
            "                   all        176        243      0.824      0.754      0.847      0.639\n"
          ]
        },
        {
          "output_type": "stream",
          "name": "stderr",
          "text": [
            "\n"
          ]
        },
        {
          "output_type": "stream",
          "name": "stdout",
          "text": [
            "\n",
            "      Epoch    GPU_mem   box_loss   cls_loss   dfl_loss  Instances       Size\n"
          ]
        },
        {
          "output_type": "stream",
          "name": "stderr",
          "text": [
            "       4/50      1.58G     0.7983      1.254      1.033         12        640: 100%|██████████| 88/88 [00:26<00:00,  3.37it/s]\n",
            "                 Class     Images  Instances      Box(P          R      mAP50  mAP50-95): 100%|██████████| 11/11 [00:03<00:00,  3.26it/s]"
          ]
        },
        {
          "output_type": "stream",
          "name": "stdout",
          "text": [
            "                   all        176        243      0.831      0.815      0.873      0.689\n"
          ]
        },
        {
          "output_type": "stream",
          "name": "stderr",
          "text": [
            "\n"
          ]
        },
        {
          "output_type": "stream",
          "name": "stdout",
          "text": [
            "\n",
            "      Epoch    GPU_mem   box_loss   cls_loss   dfl_loss  Instances       Size\n"
          ]
        },
        {
          "output_type": "stream",
          "name": "stderr",
          "text": [
            "       5/50      1.59G     0.7418      1.051      0.983         16        640: 100%|██████████| 88/88 [00:25<00:00,  3.40it/s]\n",
            "                 Class     Images  Instances      Box(P          R      mAP50  mAP50-95): 100%|██████████| 11/11 [00:03<00:00,  3.62it/s]"
          ]
        },
        {
          "output_type": "stream",
          "name": "stdout",
          "text": [
            "                   all        176        243      0.879      0.801      0.875      0.689\n"
          ]
        },
        {
          "output_type": "stream",
          "name": "stderr",
          "text": [
            "\n"
          ]
        },
        {
          "output_type": "stream",
          "name": "stdout",
          "text": [
            "\n",
            "      Epoch    GPU_mem   box_loss   cls_loss   dfl_loss  Instances       Size\n"
          ]
        },
        {
          "output_type": "stream",
          "name": "stderr",
          "text": [
            "       6/50      1.58G     0.7598     0.9891     0.9914          9        640: 100%|██████████| 88/88 [00:25<00:00,  3.46it/s]\n",
            "                 Class     Images  Instances      Box(P          R      mAP50  mAP50-95): 100%|██████████| 11/11 [00:01<00:00,  5.83it/s]"
          ]
        },
        {
          "output_type": "stream",
          "name": "stdout",
          "text": [
            "                   all        176        243      0.875      0.837      0.863      0.701\n"
          ]
        },
        {
          "output_type": "stream",
          "name": "stderr",
          "text": [
            "\n"
          ]
        },
        {
          "output_type": "stream",
          "name": "stdout",
          "text": [
            "\n",
            "      Epoch    GPU_mem   box_loss   cls_loss   dfl_loss  Instances       Size\n"
          ]
        },
        {
          "output_type": "stream",
          "name": "stderr",
          "text": [
            "       7/50      1.59G     0.7491     0.9325     0.9823          9        640: 100%|██████████| 88/88 [00:26<00:00,  3.30it/s]\n",
            "                 Class     Images  Instances      Box(P          R      mAP50  mAP50-95): 100%|██████████| 11/11 [00:01<00:00,  6.04it/s]"
          ]
        },
        {
          "output_type": "stream",
          "name": "stdout",
          "text": [
            "                   all        176        243      0.913      0.772      0.846      0.709\n"
          ]
        },
        {
          "output_type": "stream",
          "name": "stderr",
          "text": [
            "\n"
          ]
        },
        {
          "output_type": "stream",
          "name": "stdout",
          "text": [
            "\n",
            "      Epoch    GPU_mem   box_loss   cls_loss   dfl_loss  Instances       Size\n"
          ]
        },
        {
          "output_type": "stream",
          "name": "stderr",
          "text": [
            "       8/50      1.59G     0.7214     0.8475     0.9644         15        640: 100%|██████████| 88/88 [00:27<00:00,  3.22it/s]\n",
            "                 Class     Images  Instances      Box(P          R      mAP50  mAP50-95): 100%|██████████| 11/11 [00:01<00:00,  6.13it/s]\n"
          ]
        },
        {
          "output_type": "stream",
          "name": "stdout",
          "text": [
            "                   all        176        243      0.812       0.78      0.842      0.669\n",
            "\n",
            "      Epoch    GPU_mem   box_loss   cls_loss   dfl_loss  Instances       Size\n"
          ]
        },
        {
          "output_type": "stream",
          "name": "stderr",
          "text": [
            "       9/50      1.58G     0.7236     0.7631     0.9815         26        640: 100%|██████████| 88/88 [00:27<00:00,  3.24it/s]\n",
            "                 Class     Images  Instances      Box(P          R      mAP50  mAP50-95): 100%|██████████| 11/11 [00:01<00:00,  6.13it/s]"
          ]
        },
        {
          "output_type": "stream",
          "name": "stdout",
          "text": [
            "                   all        176        243      0.955      0.813      0.914      0.718\n"
          ]
        },
        {
          "output_type": "stream",
          "name": "stderr",
          "text": [
            "\n"
          ]
        },
        {
          "output_type": "stream",
          "name": "stdout",
          "text": [
            "\n",
            "      Epoch    GPU_mem   box_loss   cls_loss   dfl_loss  Instances       Size\n"
          ]
        },
        {
          "output_type": "stream",
          "name": "stderr",
          "text": [
            "      10/50      1.58G     0.6906     0.7423     0.9721          8        640: 100%|██████████| 88/88 [00:27<00:00,  3.21it/s]\n",
            "                 Class     Images  Instances      Box(P          R      mAP50  mAP50-95): 100%|██████████| 11/11 [00:01<00:00,  6.14it/s]"
          ]
        },
        {
          "output_type": "stream",
          "name": "stdout",
          "text": [
            "                   all        176        243       0.92      0.839      0.917      0.757\n"
          ]
        },
        {
          "output_type": "stream",
          "name": "stderr",
          "text": [
            "\n"
          ]
        },
        {
          "output_type": "stream",
          "name": "stdout",
          "text": [
            "\n",
            "      Epoch    GPU_mem   box_loss   cls_loss   dfl_loss  Instances       Size\n"
          ]
        },
        {
          "output_type": "stream",
          "name": "stderr",
          "text": [
            "      11/50      1.58G     0.6822     0.7098     0.9562         25        640: 100%|██████████| 88/88 [00:27<00:00,  3.15it/s]\n",
            "                 Class     Images  Instances      Box(P          R      mAP50  mAP50-95): 100%|██████████| 11/11 [00:01<00:00,  6.11it/s]"
          ]
        },
        {
          "output_type": "stream",
          "name": "stdout",
          "text": [
            "                   all        176        243      0.929      0.859      0.933      0.768\n"
          ]
        },
        {
          "output_type": "stream",
          "name": "stderr",
          "text": [
            "\n"
          ]
        },
        {
          "output_type": "stream",
          "name": "stdout",
          "text": [
            "\n",
            "      Epoch    GPU_mem   box_loss   cls_loss   dfl_loss  Instances       Size\n"
          ]
        },
        {
          "output_type": "stream",
          "name": "stderr",
          "text": [
            "      12/50      1.58G     0.6648     0.6712     0.9609         17        640: 100%|██████████| 88/88 [00:26<00:00,  3.26it/s]\n",
            "                 Class     Images  Instances      Box(P          R      mAP50  mAP50-95): 100%|██████████| 11/11 [00:01<00:00,  6.01it/s]"
          ]
        },
        {
          "output_type": "stream",
          "name": "stdout",
          "text": [
            "                   all        176        243      0.921      0.911      0.929      0.753\n"
          ]
        },
        {
          "output_type": "stream",
          "name": "stderr",
          "text": [
            "\n"
          ]
        },
        {
          "output_type": "stream",
          "name": "stdout",
          "text": [
            "\n",
            "      Epoch    GPU_mem   box_loss   cls_loss   dfl_loss  Instances       Size\n"
          ]
        },
        {
          "output_type": "stream",
          "name": "stderr",
          "text": [
            "      13/50      1.58G     0.6731     0.6349     0.9575          5        640: 100%|██████████| 88/88 [00:27<00:00,  3.16it/s]\n",
            "                 Class     Images  Instances      Box(P          R      mAP50  mAP50-95): 100%|██████████| 11/11 [00:01<00:00,  6.07it/s]\n"
          ]
        },
        {
          "output_type": "stream",
          "name": "stdout",
          "text": [
            "                   all        176        243      0.888      0.882      0.896      0.712\n",
            "\n",
            "      Epoch    GPU_mem   box_loss   cls_loss   dfl_loss  Instances       Size\n"
          ]
        },
        {
          "output_type": "stream",
          "name": "stderr",
          "text": [
            "      14/50      1.58G     0.6427     0.5869     0.9478          6        640: 100%|██████████| 88/88 [00:26<00:00,  3.33it/s]\n",
            "                 Class     Images  Instances      Box(P          R      mAP50  mAP50-95): 100%|██████████| 11/11 [00:02<00:00,  4.33it/s]\n"
          ]
        },
        {
          "output_type": "stream",
          "name": "stdout",
          "text": [
            "                   all        176        243      0.919      0.889       0.93      0.771\n",
            "\n",
            "      Epoch    GPU_mem   box_loss   cls_loss   dfl_loss  Instances       Size\n"
          ]
        },
        {
          "output_type": "stream",
          "name": "stderr",
          "text": [
            "      15/50      1.58G     0.6509     0.5711     0.9523         20        640: 100%|██████████| 88/88 [00:25<00:00,  3.42it/s]\n",
            "                 Class     Images  Instances      Box(P          R      mAP50  mAP50-95): 100%|██████████| 11/11 [00:03<00:00,  3.33it/s]"
          ]
        },
        {
          "output_type": "stream",
          "name": "stdout",
          "text": [
            "                   all        176        243      0.939      0.877      0.947       0.78\n"
          ]
        },
        {
          "output_type": "stream",
          "name": "stderr",
          "text": [
            "\n"
          ]
        },
        {
          "output_type": "stream",
          "name": "stdout",
          "text": [
            "\n",
            "      Epoch    GPU_mem   box_loss   cls_loss   dfl_loss  Instances       Size\n"
          ]
        },
        {
          "output_type": "stream",
          "name": "stderr",
          "text": [
            "      16/50      1.59G     0.6524     0.5906     0.9555         16        640: 100%|██████████| 88/88 [00:24<00:00,  3.54it/s]\n",
            "                 Class     Images  Instances      Box(P          R      mAP50  mAP50-95): 100%|██████████| 11/11 [00:02<00:00,  3.82it/s]"
          ]
        },
        {
          "output_type": "stream",
          "name": "stdout",
          "text": [
            "                   all        176        243      0.915      0.835      0.931      0.766\n"
          ]
        },
        {
          "output_type": "stream",
          "name": "stderr",
          "text": [
            "\n"
          ]
        },
        {
          "output_type": "stream",
          "name": "stdout",
          "text": [
            "\n",
            "      Epoch    GPU_mem   box_loss   cls_loss   dfl_loss  Instances       Size\n"
          ]
        },
        {
          "output_type": "stream",
          "name": "stderr",
          "text": [
            "      17/50      1.59G     0.6519     0.5784     0.9508         15        640: 100%|██████████| 88/88 [00:26<00:00,  3.38it/s]\n",
            "                 Class     Images  Instances      Box(P          R      mAP50  mAP50-95): 100%|██████████| 11/11 [00:01<00:00,  6.23it/s]"
          ]
        },
        {
          "output_type": "stream",
          "name": "stdout",
          "text": [
            "                   all        176        243      0.901      0.913      0.939      0.763\n"
          ]
        },
        {
          "output_type": "stream",
          "name": "stderr",
          "text": [
            "\n"
          ]
        },
        {
          "output_type": "stream",
          "name": "stdout",
          "text": [
            "\n",
            "      Epoch    GPU_mem   box_loss   cls_loss   dfl_loss  Instances       Size\n"
          ]
        },
        {
          "output_type": "stream",
          "name": "stderr",
          "text": [
            "      18/50      1.59G     0.6459     0.5409     0.9504         15        640: 100%|██████████| 88/88 [00:26<00:00,  3.27it/s]\n",
            "                 Class     Images  Instances      Box(P          R      mAP50  mAP50-95): 100%|██████████| 11/11 [00:01<00:00,  6.13it/s]"
          ]
        },
        {
          "output_type": "stream",
          "name": "stdout",
          "text": [
            "                   all        176        243      0.913      0.899      0.948      0.782\n"
          ]
        },
        {
          "output_type": "stream",
          "name": "stderr",
          "text": [
            "\n"
          ]
        },
        {
          "output_type": "stream",
          "name": "stdout",
          "text": [
            "\n",
            "      Epoch    GPU_mem   box_loss   cls_loss   dfl_loss  Instances       Size\n"
          ]
        },
        {
          "output_type": "stream",
          "name": "stderr",
          "text": [
            "      19/50      1.58G     0.6054     0.5179      0.931         18        640: 100%|██████████| 88/88 [00:27<00:00,  3.22it/s]\n",
            "                 Class     Images  Instances      Box(P          R      mAP50  mAP50-95): 100%|██████████| 11/11 [00:01<00:00,  6.07it/s]"
          ]
        },
        {
          "output_type": "stream",
          "name": "stdout",
          "text": [
            "                   all        176        243      0.889      0.883      0.922      0.753\n"
          ]
        },
        {
          "output_type": "stream",
          "name": "stderr",
          "text": [
            "\n"
          ]
        },
        {
          "output_type": "stream",
          "name": "stdout",
          "text": [
            "\n",
            "      Epoch    GPU_mem   box_loss   cls_loss   dfl_loss  Instances       Size\n"
          ]
        },
        {
          "output_type": "stream",
          "name": "stderr",
          "text": [
            "      20/50      1.59G     0.6204       0.52     0.9383         17        640: 100%|██████████| 88/88 [00:27<00:00,  3.20it/s]\n",
            "                 Class     Images  Instances      Box(P          R      mAP50  mAP50-95): 100%|██████████| 11/11 [00:01<00:00,  6.12it/s]"
          ]
        },
        {
          "output_type": "stream",
          "name": "stdout",
          "text": [
            "                   all        176        243      0.911      0.917      0.939      0.773\n"
          ]
        },
        {
          "output_type": "stream",
          "name": "stderr",
          "text": [
            "\n"
          ]
        },
        {
          "output_type": "stream",
          "name": "stdout",
          "text": [
            "\n",
            "      Epoch    GPU_mem   box_loss   cls_loss   dfl_loss  Instances       Size\n"
          ]
        },
        {
          "output_type": "stream",
          "name": "stderr",
          "text": [
            "      21/50      1.59G     0.5953     0.4899     0.9343         11        640: 100%|██████████| 88/88 [00:27<00:00,  3.17it/s]\n",
            "                 Class     Images  Instances      Box(P          R      mAP50  mAP50-95): 100%|██████████| 11/11 [00:01<00:00,  6.22it/s]"
          ]
        },
        {
          "output_type": "stream",
          "name": "stdout",
          "text": [
            "                   all        176        243      0.943      0.932      0.955      0.785\n"
          ]
        },
        {
          "output_type": "stream",
          "name": "stderr",
          "text": [
            "\n"
          ]
        },
        {
          "output_type": "stream",
          "name": "stdout",
          "text": [
            "\n",
            "      Epoch    GPU_mem   box_loss   cls_loss   dfl_loss  Instances       Size\n"
          ]
        },
        {
          "output_type": "stream",
          "name": "stderr",
          "text": [
            "      22/50      1.58G     0.5958     0.4941     0.9383         10        640: 100%|██████████| 88/88 [00:27<00:00,  3.17it/s]\n",
            "                 Class     Images  Instances      Box(P          R      mAP50  mAP50-95): 100%|██████████| 11/11 [00:01<00:00,  6.10it/s]"
          ]
        },
        {
          "output_type": "stream",
          "name": "stdout",
          "text": [
            "                   all        176        243      0.887      0.928       0.96      0.796\n"
          ]
        },
        {
          "output_type": "stream",
          "name": "stderr",
          "text": [
            "\n"
          ]
        },
        {
          "output_type": "stream",
          "name": "stdout",
          "text": [
            "\n",
            "      Epoch    GPU_mem   box_loss   cls_loss   dfl_loss  Instances       Size\n"
          ]
        },
        {
          "output_type": "stream",
          "name": "stderr",
          "text": [
            "      23/50      1.58G     0.5852     0.4708     0.9199         11        640: 100%|██████████| 88/88 [00:27<00:00,  3.17it/s]\n",
            "                 Class     Images  Instances      Box(P          R      mAP50  mAP50-95): 100%|██████████| 11/11 [00:01<00:00,  6.26it/s]"
          ]
        },
        {
          "output_type": "stream",
          "name": "stdout",
          "text": [
            "                   all        176        243      0.942      0.942      0.957      0.784\n"
          ]
        },
        {
          "output_type": "stream",
          "name": "stderr",
          "text": [
            "\n"
          ]
        },
        {
          "output_type": "stream",
          "name": "stdout",
          "text": [
            "\n",
            "      Epoch    GPU_mem   box_loss   cls_loss   dfl_loss  Instances       Size\n"
          ]
        },
        {
          "output_type": "stream",
          "name": "stderr",
          "text": [
            "      24/50      1.58G     0.5992     0.4632     0.9256         12        640: 100%|██████████| 88/88 [00:26<00:00,  3.36it/s]\n",
            "                 Class     Images  Instances      Box(P          R      mAP50  mAP50-95): 100%|██████████| 11/11 [00:03<00:00,  3.66it/s]\n"
          ]
        },
        {
          "output_type": "stream",
          "name": "stdout",
          "text": [
            "                   all        176        243      0.874      0.939      0.963      0.786\n",
            "\n",
            "      Epoch    GPU_mem   box_loss   cls_loss   dfl_loss  Instances       Size\n"
          ]
        },
        {
          "output_type": "stream",
          "name": "stderr",
          "text": [
            "      25/50      1.58G     0.5971     0.4504     0.9241         25        640: 100%|██████████| 88/88 [00:25<00:00,  3.45it/s]\n",
            "                 Class     Images  Instances      Box(P          R      mAP50  mAP50-95): 100%|██████████| 11/11 [00:03<00:00,  3.37it/s]"
          ]
        },
        {
          "output_type": "stream",
          "name": "stdout",
          "text": [
            "                   all        176        243      0.924      0.941      0.953      0.775\n"
          ]
        },
        {
          "output_type": "stream",
          "name": "stderr",
          "text": [
            "\n"
          ]
        },
        {
          "output_type": "stream",
          "name": "stdout",
          "text": [
            "\n",
            "      Epoch    GPU_mem   box_loss   cls_loss   dfl_loss  Instances       Size\n"
          ]
        },
        {
          "output_type": "stream",
          "name": "stderr",
          "text": [
            "      26/50      1.58G     0.5889     0.4498     0.9242         11        640: 100%|██████████| 88/88 [00:24<00:00,  3.59it/s]\n",
            "                 Class     Images  Instances      Box(P          R      mAP50  mAP50-95): 100%|██████████| 11/11 [00:02<00:00,  4.12it/s]"
          ]
        },
        {
          "output_type": "stream",
          "name": "stdout",
          "text": [
            "                   all        176        243       0.94      0.907      0.939      0.766\n"
          ]
        },
        {
          "output_type": "stream",
          "name": "stderr",
          "text": [
            "\n"
          ]
        },
        {
          "output_type": "stream",
          "name": "stdout",
          "text": [
            "\n",
            "      Epoch    GPU_mem   box_loss   cls_loss   dfl_loss  Instances       Size\n"
          ]
        },
        {
          "output_type": "stream",
          "name": "stderr",
          "text": [
            "      27/50      1.58G     0.5869     0.4295     0.9209         11        640: 100%|██████████| 88/88 [00:25<00:00,  3.45it/s]\n",
            "                 Class     Images  Instances      Box(P          R      mAP50  mAP50-95): 100%|██████████| 11/11 [00:01<00:00,  6.12it/s]"
          ]
        },
        {
          "output_type": "stream",
          "name": "stdout",
          "text": [
            "                   all        176        243       0.93      0.923      0.962      0.807\n"
          ]
        },
        {
          "output_type": "stream",
          "name": "stderr",
          "text": [
            "\n"
          ]
        },
        {
          "output_type": "stream",
          "name": "stdout",
          "text": [
            "\n",
            "      Epoch    GPU_mem   box_loss   cls_loss   dfl_loss  Instances       Size\n"
          ]
        },
        {
          "output_type": "stream",
          "name": "stderr",
          "text": [
            "      28/50      1.58G     0.5927     0.4359     0.9236         15        640: 100%|██████████| 88/88 [00:27<00:00,  3.19it/s]\n",
            "                 Class     Images  Instances      Box(P          R      mAP50  mAP50-95): 100%|██████████| 11/11 [00:01<00:00,  5.95it/s]"
          ]
        },
        {
          "output_type": "stream",
          "name": "stdout",
          "text": [
            "                   all        176        243      0.958      0.897      0.955      0.799\n"
          ]
        },
        {
          "output_type": "stream",
          "name": "stderr",
          "text": [
            "\n"
          ]
        },
        {
          "output_type": "stream",
          "name": "stdout",
          "text": [
            "\n",
            "      Epoch    GPU_mem   box_loss   cls_loss   dfl_loss  Instances       Size\n"
          ]
        },
        {
          "output_type": "stream",
          "name": "stderr",
          "text": [
            "      29/50      1.58G     0.5787     0.4248      0.918          9        640: 100%|██████████| 88/88 [00:27<00:00,  3.23it/s]\n",
            "                 Class     Images  Instances      Box(P          R      mAP50  mAP50-95): 100%|██████████| 11/11 [00:01<00:00,  6.16it/s]"
          ]
        },
        {
          "output_type": "stream",
          "name": "stdout",
          "text": [
            "                   all        176        243       0.96      0.896      0.954      0.792\n"
          ]
        },
        {
          "output_type": "stream",
          "name": "stderr",
          "text": [
            "\n"
          ]
        },
        {
          "output_type": "stream",
          "name": "stdout",
          "text": [
            "\n",
            "      Epoch    GPU_mem   box_loss   cls_loss   dfl_loss  Instances       Size\n"
          ]
        },
        {
          "output_type": "stream",
          "name": "stderr",
          "text": [
            "      30/50      1.58G     0.5625     0.3993     0.9016         11        640: 100%|██████████| 88/88 [00:27<00:00,  3.23it/s]\n",
            "                 Class     Images  Instances      Box(P          R      mAP50  mAP50-95): 100%|██████████| 11/11 [00:01<00:00,  6.09it/s]"
          ]
        },
        {
          "output_type": "stream",
          "name": "stdout",
          "text": [
            "                   all        176        243      0.984      0.893      0.958      0.783\n"
          ]
        },
        {
          "output_type": "stream",
          "name": "stderr",
          "text": [
            "\n"
          ]
        },
        {
          "output_type": "stream",
          "name": "stdout",
          "text": [
            "\n",
            "      Epoch    GPU_mem   box_loss   cls_loss   dfl_loss  Instances       Size\n"
          ]
        },
        {
          "output_type": "stream",
          "name": "stderr",
          "text": [
            "      31/50      1.59G     0.5666     0.4272     0.9089         14        640: 100%|██████████| 88/88 [00:27<00:00,  3.16it/s]\n",
            "                 Class     Images  Instances      Box(P          R      mAP50  mAP50-95): 100%|██████████| 11/11 [00:01<00:00,  6.13it/s]"
          ]
        },
        {
          "output_type": "stream",
          "name": "stdout",
          "text": [
            "                   all        176        243       0.88      0.923      0.938      0.768\n"
          ]
        },
        {
          "output_type": "stream",
          "name": "stderr",
          "text": [
            "\n"
          ]
        },
        {
          "output_type": "stream",
          "name": "stdout",
          "text": [
            "\n",
            "      Epoch    GPU_mem   box_loss   cls_loss   dfl_loss  Instances       Size\n"
          ]
        },
        {
          "output_type": "stream",
          "name": "stderr",
          "text": [
            "      32/50      1.58G     0.5451     0.4031     0.9077         20        640: 100%|██████████| 88/88 [00:27<00:00,  3.19it/s]\n",
            "                 Class     Images  Instances      Box(P          R      mAP50  mAP50-95): 100%|██████████| 11/11 [00:01<00:00,  6.15it/s]"
          ]
        },
        {
          "output_type": "stream",
          "name": "stdout",
          "text": [
            "                   all        176        243      0.927      0.957      0.969      0.812\n"
          ]
        },
        {
          "output_type": "stream",
          "name": "stderr",
          "text": [
            "\n"
          ]
        },
        {
          "output_type": "stream",
          "name": "stdout",
          "text": [
            "\n",
            "      Epoch    GPU_mem   box_loss   cls_loss   dfl_loss  Instances       Size\n"
          ]
        },
        {
          "output_type": "stream",
          "name": "stderr",
          "text": [
            "      33/50      1.59G     0.5581     0.3907     0.9098         15        640: 100%|██████████| 88/88 [00:27<00:00,  3.22it/s]\n",
            "                 Class     Images  Instances      Box(P          R      mAP50  mAP50-95): 100%|██████████| 11/11 [00:01<00:00,  6.17it/s]"
          ]
        },
        {
          "output_type": "stream",
          "name": "stdout",
          "text": [
            "                   all        176        243      0.924      0.928      0.962       0.82\n"
          ]
        },
        {
          "output_type": "stream",
          "name": "stderr",
          "text": [
            "\n"
          ]
        },
        {
          "output_type": "stream",
          "name": "stdout",
          "text": [
            "\n",
            "      Epoch    GPU_mem   box_loss   cls_loss   dfl_loss  Instances       Size\n"
          ]
        },
        {
          "output_type": "stream",
          "name": "stderr",
          "text": [
            "      34/50      1.59G     0.5476     0.4034     0.9076         14        640: 100%|██████████| 88/88 [00:27<00:00,  3.20it/s]\n",
            "                 Class     Images  Instances      Box(P          R      mAP50  mAP50-95): 100%|██████████| 11/11 [00:01<00:00,  6.10it/s]"
          ]
        },
        {
          "output_type": "stream",
          "name": "stdout",
          "text": [
            "                   all        176        243      0.951      0.912      0.954      0.789\n"
          ]
        },
        {
          "output_type": "stream",
          "name": "stderr",
          "text": [
            "\n"
          ]
        },
        {
          "output_type": "stream",
          "name": "stdout",
          "text": [
            "\n",
            "      Epoch    GPU_mem   box_loss   cls_loss   dfl_loss  Instances       Size\n"
          ]
        },
        {
          "output_type": "stream",
          "name": "stderr",
          "text": [
            "      35/50      1.59G      0.545     0.3926     0.9064         16        640: 100%|██████████| 88/88 [00:26<00:00,  3.27it/s]\n",
            "                 Class     Images  Instances      Box(P          R      mAP50  mAP50-95): 100%|██████████| 11/11 [00:02<00:00,  3.68it/s]"
          ]
        },
        {
          "output_type": "stream",
          "name": "stdout",
          "text": [
            "                   all        176        243      0.959      0.923       0.97      0.799\n"
          ]
        },
        {
          "output_type": "stream",
          "name": "stderr",
          "text": [
            "\n"
          ]
        },
        {
          "output_type": "stream",
          "name": "stdout",
          "text": [
            "\n",
            "      Epoch    GPU_mem   box_loss   cls_loss   dfl_loss  Instances       Size\n"
          ]
        },
        {
          "output_type": "stream",
          "name": "stderr",
          "text": [
            "      36/50      1.58G      0.541     0.3932      0.907         14        640: 100%|██████████| 88/88 [00:25<00:00,  3.45it/s]\n",
            "                 Class     Images  Instances      Box(P          R      mAP50  mAP50-95): 100%|██████████| 11/11 [00:03<00:00,  3.10it/s]"
          ]
        },
        {
          "output_type": "stream",
          "name": "stdout",
          "text": [
            "                   all        176        243      0.938      0.926      0.962      0.807\n"
          ]
        },
        {
          "output_type": "stream",
          "name": "stderr",
          "text": [
            "\n"
          ]
        },
        {
          "output_type": "stream",
          "name": "stdout",
          "text": [
            "\n",
            "      Epoch    GPU_mem   box_loss   cls_loss   dfl_loss  Instances       Size\n"
          ]
        },
        {
          "output_type": "stream",
          "name": "stderr",
          "text": [
            "      37/50      1.59G     0.5339     0.3808     0.9079          9        640: 100%|██████████| 88/88 [00:25<00:00,  3.49it/s]\n",
            "                 Class     Images  Instances      Box(P          R      mAP50  mAP50-95): 100%|██████████| 11/11 [00:03<00:00,  3.64it/s]"
          ]
        },
        {
          "output_type": "stream",
          "name": "stdout",
          "text": [
            "                   all        176        243      0.951      0.922      0.961      0.825\n"
          ]
        },
        {
          "output_type": "stream",
          "name": "stderr",
          "text": [
            "\n"
          ]
        },
        {
          "output_type": "stream",
          "name": "stdout",
          "text": [
            "\n",
            "      Epoch    GPU_mem   box_loss   cls_loss   dfl_loss  Instances       Size\n"
          ]
        },
        {
          "output_type": "stream",
          "name": "stderr",
          "text": [
            "      38/50      1.59G     0.5622     0.3841     0.9072         17        640: 100%|██████████| 88/88 [00:25<00:00,  3.40it/s]\n",
            "                 Class     Images  Instances      Box(P          R      mAP50  mAP50-95): 100%|██████████| 11/11 [00:02<00:00,  5.34it/s]"
          ]
        },
        {
          "output_type": "stream",
          "name": "stdout",
          "text": [
            "                   all        176        243      0.909      0.948      0.962      0.806\n"
          ]
        },
        {
          "output_type": "stream",
          "name": "stderr",
          "text": [
            "\n"
          ]
        },
        {
          "output_type": "stream",
          "name": "stdout",
          "text": [
            "\n",
            "      Epoch    GPU_mem   box_loss   cls_loss   dfl_loss  Instances       Size\n"
          ]
        },
        {
          "output_type": "stream",
          "name": "stderr",
          "text": [
            "      39/50      1.58G     0.5324     0.3679     0.9021          9        640: 100%|██████████| 88/88 [00:26<00:00,  3.27it/s]\n",
            "                 Class     Images  Instances      Box(P          R      mAP50  mAP50-95): 100%|██████████| 11/11 [00:01<00:00,  6.25it/s]"
          ]
        },
        {
          "output_type": "stream",
          "name": "stdout",
          "text": [
            "                   all        176        243       0.94      0.941      0.961      0.814\n"
          ]
        },
        {
          "output_type": "stream",
          "name": "stderr",
          "text": [
            "\n"
          ]
        },
        {
          "output_type": "stream",
          "name": "stdout",
          "text": [
            "\n",
            "      Epoch    GPU_mem   box_loss   cls_loss   dfl_loss  Instances       Size\n"
          ]
        },
        {
          "output_type": "stream",
          "name": "stderr",
          "text": [
            "      40/50      1.59G     0.5359     0.3677     0.8896         15        640: 100%|██████████| 88/88 [00:27<00:00,  3.21it/s]\n",
            "                 Class     Images  Instances      Box(P          R      mAP50  mAP50-95): 100%|██████████| 11/11 [00:01<00:00,  6.27it/s]"
          ]
        },
        {
          "output_type": "stream",
          "name": "stdout",
          "text": [
            "                   all        176        243      0.929      0.944      0.967      0.813\n"
          ]
        },
        {
          "output_type": "stream",
          "name": "stderr",
          "text": [
            "\n"
          ]
        },
        {
          "output_type": "stream",
          "name": "stdout",
          "text": [
            "Closing dataloader mosaic\n",
            "\u001b[34m\u001b[1malbumentations: \u001b[0mBlur(p=0.01, blur_limit=(3, 7)), MedianBlur(p=0.01, blur_limit=(3, 7)), ToGray(p=0.01), CLAHE(p=0.01, clip_limit=(1, 4.0), tile_grid_size=(8, 8))\n"
          ]
        },
        {
          "output_type": "stream",
          "name": "stderr",
          "text": [
            "/usr/lib/python3.10/multiprocessing/popen_fork.py:66: RuntimeWarning: os.fork() was called. os.fork() is incompatible with multithreaded code, and JAX is multithreaded, so this will likely lead to a deadlock.\n",
            "  self.pid = os.fork()\n",
            "/usr/lib/python3.10/multiprocessing/popen_fork.py:66: RuntimeWarning: os.fork() was called. os.fork() is incompatible with multithreaded code, and JAX is multithreaded, so this will likely lead to a deadlock.\n",
            "  self.pid = os.fork()\n"
          ]
        },
        {
          "output_type": "stream",
          "name": "stdout",
          "text": [
            "\n",
            "      Epoch    GPU_mem   box_loss   cls_loss   dfl_loss  Instances       Size\n"
          ]
        },
        {
          "output_type": "stream",
          "name": "stderr",
          "text": [
            "      41/50      1.58G        0.5     0.3279     0.8601          7        640: 100%|██████████| 88/88 [00:28<00:00,  3.08it/s]\n",
            "                 Class     Images  Instances      Box(P          R      mAP50  mAP50-95): 100%|██████████| 11/11 [00:01<00:00,  6.15it/s]"
          ]
        },
        {
          "output_type": "stream",
          "name": "stdout",
          "text": [
            "                   all        176        243      0.945      0.913      0.953      0.813\n"
          ]
        },
        {
          "output_type": "stream",
          "name": "stderr",
          "text": [
            "\n"
          ]
        },
        {
          "output_type": "stream",
          "name": "stdout",
          "text": [
            "\n",
            "      Epoch    GPU_mem   box_loss   cls_loss   dfl_loss  Instances       Size\n"
          ]
        },
        {
          "output_type": "stream",
          "name": "stderr",
          "text": [
            "      42/50      1.58G     0.4944      0.326     0.8521          6        640: 100%|██████████| 88/88 [00:28<00:00,  3.13it/s]\n",
            "                 Class     Images  Instances      Box(P          R      mAP50  mAP50-95): 100%|██████████| 11/11 [00:01<00:00,  6.13it/s]"
          ]
        },
        {
          "output_type": "stream",
          "name": "stdout",
          "text": [
            "                   all        176        243      0.943      0.933      0.949      0.802\n"
          ]
        },
        {
          "output_type": "stream",
          "name": "stderr",
          "text": [
            "\n"
          ]
        },
        {
          "output_type": "stream",
          "name": "stdout",
          "text": [
            "\n",
            "      Epoch    GPU_mem   box_loss   cls_loss   dfl_loss  Instances       Size\n"
          ]
        },
        {
          "output_type": "stream",
          "name": "stderr",
          "text": [
            "      43/50      1.58G     0.4972     0.3168     0.8586          9        640: 100%|██████████| 88/88 [00:27<00:00,  3.15it/s]\n",
            "                 Class     Images  Instances      Box(P          R      mAP50  mAP50-95): 100%|██████████| 11/11 [00:01<00:00,  6.12it/s]\n"
          ]
        },
        {
          "output_type": "stream",
          "name": "stdout",
          "text": [
            "                   all        176        243      0.944       0.93       0.95      0.815\n",
            "\n",
            "      Epoch    GPU_mem   box_loss   cls_loss   dfl_loss  Instances       Size\n"
          ]
        },
        {
          "output_type": "stream",
          "name": "stderr",
          "text": [
            "      44/50      1.58G     0.4817      0.312     0.8582          9        640: 100%|██████████| 88/88 [00:27<00:00,  3.23it/s]\n",
            "                 Class     Images  Instances      Box(P          R      mAP50  mAP50-95): 100%|██████████| 11/11 [00:02<00:00,  5.15it/s]"
          ]
        },
        {
          "output_type": "stream",
          "name": "stdout",
          "text": [
            "                   all        176        243       0.95      0.941      0.961      0.819\n"
          ]
        },
        {
          "output_type": "stream",
          "name": "stderr",
          "text": [
            "\n"
          ]
        },
        {
          "output_type": "stream",
          "name": "stdout",
          "text": [
            "\n",
            "      Epoch    GPU_mem   box_loss   cls_loss   dfl_loss  Instances       Size\n"
          ]
        },
        {
          "output_type": "stream",
          "name": "stderr",
          "text": [
            "      45/50      1.58G      0.477     0.3096     0.8567          5        640: 100%|██████████| 88/88 [00:25<00:00,  3.46it/s]\n",
            "                 Class     Images  Instances      Box(P          R      mAP50  mAP50-95): 100%|██████████| 11/11 [00:03<00:00,  3.37it/s]"
          ]
        },
        {
          "output_type": "stream",
          "name": "stdout",
          "text": [
            "                   all        176        243      0.961      0.929      0.962       0.83\n"
          ]
        },
        {
          "output_type": "stream",
          "name": "stderr",
          "text": [
            "\n"
          ]
        },
        {
          "output_type": "stream",
          "name": "stdout",
          "text": [
            "\n",
            "      Epoch    GPU_mem   box_loss   cls_loss   dfl_loss  Instances       Size\n"
          ]
        },
        {
          "output_type": "stream",
          "name": "stderr",
          "text": [
            "      46/50      1.58G     0.4676     0.2947     0.8546          6        640: 100%|██████████| 88/88 [00:24<00:00,  3.56it/s]\n",
            "                 Class     Images  Instances      Box(P          R      mAP50  mAP50-95): 100%|██████████| 11/11 [00:02<00:00,  4.31it/s]"
          ]
        },
        {
          "output_type": "stream",
          "name": "stdout",
          "text": [
            "                   all        176        243      0.964      0.937      0.961      0.828\n"
          ]
        },
        {
          "output_type": "stream",
          "name": "stderr",
          "text": [
            "\n"
          ]
        },
        {
          "output_type": "stream",
          "name": "stdout",
          "text": [
            "\n",
            "      Epoch    GPU_mem   box_loss   cls_loss   dfl_loss  Instances       Size\n"
          ]
        },
        {
          "output_type": "stream",
          "name": "stderr",
          "text": [
            "      47/50      1.58G     0.4749     0.2951     0.8541          7        640: 100%|██████████| 88/88 [00:26<00:00,  3.37it/s]\n",
            "                 Class     Images  Instances      Box(P          R      mAP50  mAP50-95): 100%|██████████| 11/11 [00:01<00:00,  6.24it/s]"
          ]
        },
        {
          "output_type": "stream",
          "name": "stdout",
          "text": [
            "                   all        176        243      0.954      0.954      0.969      0.829\n"
          ]
        },
        {
          "output_type": "stream",
          "name": "stderr",
          "text": [
            "\n"
          ]
        },
        {
          "output_type": "stream",
          "name": "stdout",
          "text": [
            "\n",
            "      Epoch    GPU_mem   box_loss   cls_loss   dfl_loss  Instances       Size\n"
          ]
        },
        {
          "output_type": "stream",
          "name": "stderr",
          "text": [
            "      48/50      1.58G     0.4761     0.2839     0.8454          6        640: 100%|██████████| 88/88 [00:27<00:00,  3.22it/s]\n",
            "                 Class     Images  Instances      Box(P          R      mAP50  mAP50-95): 100%|██████████| 11/11 [00:01<00:00,  6.19it/s]"
          ]
        },
        {
          "output_type": "stream",
          "name": "stdout",
          "text": [
            "                   all        176        243      0.946      0.954      0.967      0.827\n"
          ]
        },
        {
          "output_type": "stream",
          "name": "stderr",
          "text": [
            "\n"
          ]
        },
        {
          "output_type": "stream",
          "name": "stdout",
          "text": [
            "\n",
            "      Epoch    GPU_mem   box_loss   cls_loss   dfl_loss  Instances       Size\n"
          ]
        },
        {
          "output_type": "stream",
          "name": "stderr",
          "text": [
            "      49/50      1.58G     0.4586     0.2802     0.8491          8        640: 100%|██████████| 88/88 [00:27<00:00,  3.23it/s]\n",
            "                 Class     Images  Instances      Box(P          R      mAP50  mAP50-95): 100%|██████████| 11/11 [00:01<00:00,  6.21it/s]"
          ]
        },
        {
          "output_type": "stream",
          "name": "stdout",
          "text": [
            "                   all        176        243       0.96      0.932      0.959      0.822\n"
          ]
        },
        {
          "output_type": "stream",
          "name": "stderr",
          "text": [
            "\n"
          ]
        },
        {
          "output_type": "stream",
          "name": "stdout",
          "text": [
            "\n",
            "      Epoch    GPU_mem   box_loss   cls_loss   dfl_loss  Instances       Size\n"
          ]
        },
        {
          "output_type": "stream",
          "name": "stderr",
          "text": [
            "      50/50      1.58G     0.4576     0.2752     0.8501          5        640: 100%|██████████| 88/88 [00:27<00:00,  3.26it/s]\n",
            "                 Class     Images  Instances      Box(P          R      mAP50  mAP50-95): 100%|██████████| 11/11 [00:01<00:00,  6.19it/s]"
          ]
        },
        {
          "output_type": "stream",
          "name": "stdout",
          "text": [
            "                   all        176        243      0.959      0.933       0.96      0.825\n"
          ]
        },
        {
          "output_type": "stream",
          "name": "stderr",
          "text": [
            "\n"
          ]
        },
        {
          "output_type": "stream",
          "name": "stdout",
          "text": [
            "\n",
            "50 epochs completed in 0.430 hours.\n",
            "Optimizer stripped from runs/detect/train2/weights/last.pt, 4.6MB\n",
            "Optimizer stripped from runs/detect/train2/weights/best.pt, 4.6MB\n",
            "\n",
            "Validating runs/detect/train2/weights/best.pt...\n",
            "Ultralytics YOLOv8.2.93 🚀 Python-3.10.12 torch-2.4.0+cu121 CUDA:0 (Tesla T4, 15102MiB)\n",
            "YOLOv9t summary (fused): 486 layers, 1,971,564 parameters, 0 gradients, 7.6 GFLOPs\n"
          ]
        },
        {
          "output_type": "stream",
          "name": "stderr",
          "text": [
            "                 Class     Images  Instances      Box(P          R      mAP50  mAP50-95): 100%|██████████| 11/11 [00:03<00:00,  3.13it/s]\n"
          ]
        },
        {
          "output_type": "stream",
          "name": "stdout",
          "text": [
            "                   all        176        243      0.961      0.929      0.962       0.83\n",
            "          trafficlight         16         26      0.941      0.846      0.934      0.675\n",
            "                  stop         19         19       0.97      0.947      0.993      0.944\n",
            "            speedlimit        139        165      0.997          1      0.995      0.914\n",
            "             crosswalk         29         33      0.938      0.921      0.928      0.786\n",
            "Speed: 0.3ms preprocess, 6.7ms inference, 0.0ms loss, 3.4ms postprocess per image\n",
            "Results saved to \u001b[1mruns/detect/train2\u001b[0m\n"
          ]
        }
      ]
    },
    {
      "cell_type": "code",
      "source": [
        "predictions = model(\"/content/road_sign_data/kaggle/working/roadsigndetection/valid/images/road103.png\", save=True, conf=0.5)"
      ],
      "metadata": {
        "colab": {
          "base_uri": "https://localhost:8080/"
        },
        "id": "LSL98VnAeXaf",
        "outputId": "ddb3f1c3-0365-4c9e-fbbd-0591481f31a6"
      },
      "execution_count": 11,
      "outputs": [
        {
          "output_type": "stream",
          "name": "stdout",
          "text": [
            "\n",
            "image 1/1 /content/road_sign_data/kaggle/working/roadsigndetection/valid/images/road103.png: 512x640 1 speedlimit, 98.0ms\n",
            "Speed: 3.1ms preprocess, 98.0ms inference, 2.8ms postprocess per image at shape (1, 3, 512, 640)\n",
            "Results saved to \u001b[1mruns/detect/train22\u001b[0m\n"
          ]
        }
      ]
    },
    {
      "cell_type": "code",
      "source": [],
      "metadata": {
        "id": "Fsh0LlgS5bCZ"
      },
      "execution_count": 14,
      "outputs": []
    }
  ]
}